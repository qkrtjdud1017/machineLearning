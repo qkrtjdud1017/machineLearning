{
 "cells": [
  {
   "cell_type": "markdown",
   "metadata": {
    "pycharm": {
     "metadata": false
    }
   },
   "source": [
    "# Assignment 2 - Over Fitting, Ridge and Lasso Regression\n",
    "\n",
    "### <span style=\"color:red\">THIS IS HOMEWORK.</span>\n",
    "### Due: April 26th, 11:59 pm on Canvas.\n",
    "> **Copyright ©2019 University of Washington**  \n",
    "\n",
    "> **Emily Fox**, author of the TuriCreate based version of this assignment.  \n",
    "> **Sewoong Oh**, instructor of CSE/STAT 416 for Spring 2019.  \n",
    "> **Joshua Fan**, generously offered a lot help in debugging and testing.  \n",
    "> **Hongjun Wu**, revisor of the Scikit-Learn based version of this assignment.  \n",
    "> **All rights reserved.**\n",
    "\n",
    "### Clarification\n",
    "* <span style=\"color:red\">Read & post to this [Assignment 2 Clarifications](https://canvas.uw.edu/courses/1271722/discussion_topics/4749346) if you are not sure of something.</span>\n",
    "\n",
    "### Purpose\n",
    "* We will run ridge regression multiple times with different L2 penalties to see which one produces the best fit. \n",
    "* We will revisit the example of polynomial regression as a means to see the effect of L2 regularization. \n",
    "* We will also use LASSO to select features.\n",
    " \n",
    "### Method & Summary\n",
    "* Use a pre-built implementation of regression to run polynomial regression\n",
    "* Use matplotlib to visualize polynomial regressions\n",
    "* Use a pre-built implementation of regression to run polynomial regression, this time with L2 penalty\n",
    "* Use matplotlib to visualize polynomial regressions under L2 regularization\n",
    "* Run LASSO with different L1 penalties.\n",
    "* Choose best L1 penalty using a validation set.\n",
    "* We will continue to use the House data from previous notebooks.\n",
    "\n",
    "### Permission\n",
    "* Permission is hereby granted to students registered for University of Washington CSE/STAT 416.\n",
    "* For use solely during Spring Quarter 2019 for purposes of the course.  \n",
    "* No other use, copying, distribution, or modification is permitted without prior written consent. \n",
    "* Copyrights for third-party components of this work must be honored.  \n",
    "* Instructors interested in reusing these course materials should contact the author.\n",
    "\n",
    "> If you have any questions or you are unclear what we are refering to in this homework, please do not hesitate to reach out! Post a discussion and we would love to listen to and answer your questions. However, keep in mind that figuring out what to do by reading documentation is one of the biggest things we want you to take walking out from this course. This is the first time we are offering this homework (We rewrote the entire series of CSE416 homework this quarter), and I may just made a mistake somewhere without noticing it. Your feedback is extremely important to us! Hope you enjoy this assignment :)"
   ]
  },
  {
   "cell_type": "markdown",
   "metadata": {
    "pycharm": {
     "metadata": false,
     "name": "#%% md\n"
    }
   },
   "source": [
    "### Import Statements\n",
    "Before everything, here is a list of packages and libraries used in this homework, together with their documentations. Feel free to read more about them - I hope this saves a bit time for you finding documentations. I also sometimes include links to documentations of a specific function in comments and prompts (**You don't have to read them or watch them**) just to make it easier for you to understand what we are using and what to do with this new programming language. \n",
    "\n",
    "> Note: Stuff written in this form (Blockquotes) is COMPLETELY optional.\n",
    "\n",
    "#### Resources\n",
    ">* [Scikit-Learn](https://scikit-learn.org/): A machine learning library. \n",
    "* [Numpy](http://www.numpy.org/): A fundamental package for scientific computing with Python.\n",
    "* [Matplotlib](https://matplotlib.org/): A Python plotting library which produces publication quality figures.\n",
    "* [Pandas](https://pandas.pydata.org/): A data analysis library.\n",
    "* [Pandas Demo](https://courses.cs.washington.edu/courses/cse416/19sp/accessing-pandas.ipynb): The pandas example we used in Section 2. Good reference."
   ]
  },
  {
   "cell_type": "code",
   "execution_count": 1,
   "metadata": {
    "pycharm": {
     "is_executing": false,
     "metadata": false,
     "name": "#%%\n"
    }
   },
   "outputs": [],
   "source": [
    "# Import Statement\n",
    "import sklearn as sk\n",
    "import pandas as pd\n",
    "import numpy as np\n",
    "import matplotlib.pyplot as plt\n",
    "\n",
    "# Magic Function (Like...magic)\n",
    "# Interested? Don't know what it means? Read this!\n",
    "# https://stackoverflow.com/questions/43027980/purpose-of-matplotlib-inline\n",
    "%matplotlib inline"
   ]
  },
  {
   "cell_type": "markdown",
   "metadata": {
    "pycharm": {
     "metadata": false,
     "name": "#%% md\n"
    }
   },
   "source": [
    "### Load Data\n",
    "* First, we will load in all the sales data from file using `pd.read_csv()`.  \n",
    "\n",
    "> If data failed to load:   \n",
    "[1] Check if you have the correct file and is in the correct location!   \n",
    "[2] Make sure you have `home_data.csv`, not `home_data.gl`!\n",
    "\n",
    "> Reminders:  \n",
    "`'./'` means that you are finding a file within the same directory as the notebook.   \n",
    "`'../'` means that you are looking for a file or folder one hierarchy above."
   ]
  },
  {
   "cell_type": "code",
   "execution_count": 2,
   "metadata": {
    "pycharm": {
     "is_executing": false,
     "metadata": false,
     "name": "#%%\n"
    }
   },
   "outputs": [
    {
     "data": {
      "text/html": [
       "<div>\n",
       "<style scoped>\n",
       "    .dataframe tbody tr th:only-of-type {\n",
       "        vertical-align: middle;\n",
       "    }\n",
       "\n",
       "    .dataframe tbody tr th {\n",
       "        vertical-align: top;\n",
       "    }\n",
       "\n",
       "    .dataframe thead th {\n",
       "        text-align: right;\n",
       "    }\n",
       "</style>\n",
       "<table border=\"1\" class=\"dataframe\">\n",
       "  <thead>\n",
       "    <tr style=\"text-align: right;\">\n",
       "      <th></th>\n",
       "      <th>id</th>\n",
       "      <th>date</th>\n",
       "      <th>price</th>\n",
       "      <th>bedrooms</th>\n",
       "      <th>bathrooms</th>\n",
       "      <th>sqft_living</th>\n",
       "      <th>sqft_lot</th>\n",
       "      <th>floors</th>\n",
       "      <th>waterfront</th>\n",
       "      <th>view</th>\n",
       "      <th>...</th>\n",
       "      <th>grade</th>\n",
       "      <th>sqft_above</th>\n",
       "      <th>sqft_basement</th>\n",
       "      <th>yr_built</th>\n",
       "      <th>yr_renovated</th>\n",
       "      <th>zipcode</th>\n",
       "      <th>lat</th>\n",
       "      <th>long</th>\n",
       "      <th>sqft_living15</th>\n",
       "      <th>sqft_lot15</th>\n",
       "    </tr>\n",
       "  </thead>\n",
       "  <tbody>\n",
       "    <tr>\n",
       "      <th>0</th>\n",
       "      <td>7129300520</td>\n",
       "      <td>20141013T000000</td>\n",
       "      <td>221900</td>\n",
       "      <td>3</td>\n",
       "      <td>1.00</td>\n",
       "      <td>1180</td>\n",
       "      <td>5650</td>\n",
       "      <td>1.0</td>\n",
       "      <td>0</td>\n",
       "      <td>0</td>\n",
       "      <td>...</td>\n",
       "      <td>7</td>\n",
       "      <td>1180</td>\n",
       "      <td>0</td>\n",
       "      <td>1955</td>\n",
       "      <td>0</td>\n",
       "      <td>98178</td>\n",
       "      <td>47.5112</td>\n",
       "      <td>-122.257</td>\n",
       "      <td>1340</td>\n",
       "      <td>5650</td>\n",
       "    </tr>\n",
       "    <tr>\n",
       "      <th>1</th>\n",
       "      <td>6414100192</td>\n",
       "      <td>20141209T000000</td>\n",
       "      <td>538000</td>\n",
       "      <td>3</td>\n",
       "      <td>2.25</td>\n",
       "      <td>2570</td>\n",
       "      <td>7242</td>\n",
       "      <td>2.0</td>\n",
       "      <td>0</td>\n",
       "      <td>0</td>\n",
       "      <td>...</td>\n",
       "      <td>7</td>\n",
       "      <td>2170</td>\n",
       "      <td>400</td>\n",
       "      <td>1951</td>\n",
       "      <td>1991</td>\n",
       "      <td>98125</td>\n",
       "      <td>47.7210</td>\n",
       "      <td>-122.319</td>\n",
       "      <td>1690</td>\n",
       "      <td>7639</td>\n",
       "    </tr>\n",
       "    <tr>\n",
       "      <th>2</th>\n",
       "      <td>5631500400</td>\n",
       "      <td>20150225T000000</td>\n",
       "      <td>180000</td>\n",
       "      <td>2</td>\n",
       "      <td>1.00</td>\n",
       "      <td>770</td>\n",
       "      <td>10000</td>\n",
       "      <td>1.0</td>\n",
       "      <td>0</td>\n",
       "      <td>0</td>\n",
       "      <td>...</td>\n",
       "      <td>6</td>\n",
       "      <td>770</td>\n",
       "      <td>0</td>\n",
       "      <td>1933</td>\n",
       "      <td>0</td>\n",
       "      <td>98028</td>\n",
       "      <td>47.7379</td>\n",
       "      <td>-122.233</td>\n",
       "      <td>2720</td>\n",
       "      <td>8062</td>\n",
       "    </tr>\n",
       "    <tr>\n",
       "      <th>3</th>\n",
       "      <td>2487200875</td>\n",
       "      <td>20141209T000000</td>\n",
       "      <td>604000</td>\n",
       "      <td>4</td>\n",
       "      <td>3.00</td>\n",
       "      <td>1960</td>\n",
       "      <td>5000</td>\n",
       "      <td>1.0</td>\n",
       "      <td>0</td>\n",
       "      <td>0</td>\n",
       "      <td>...</td>\n",
       "      <td>7</td>\n",
       "      <td>1050</td>\n",
       "      <td>910</td>\n",
       "      <td>1965</td>\n",
       "      <td>0</td>\n",
       "      <td>98136</td>\n",
       "      <td>47.5208</td>\n",
       "      <td>-122.393</td>\n",
       "      <td>1360</td>\n",
       "      <td>5000</td>\n",
       "    </tr>\n",
       "    <tr>\n",
       "      <th>4</th>\n",
       "      <td>1954400510</td>\n",
       "      <td>20150218T000000</td>\n",
       "      <td>510000</td>\n",
       "      <td>3</td>\n",
       "      <td>2.00</td>\n",
       "      <td>1680</td>\n",
       "      <td>8080</td>\n",
       "      <td>1.0</td>\n",
       "      <td>0</td>\n",
       "      <td>0</td>\n",
       "      <td>...</td>\n",
       "      <td>8</td>\n",
       "      <td>1680</td>\n",
       "      <td>0</td>\n",
       "      <td>1987</td>\n",
       "      <td>0</td>\n",
       "      <td>98074</td>\n",
       "      <td>47.6168</td>\n",
       "      <td>-122.045</td>\n",
       "      <td>1800</td>\n",
       "      <td>7503</td>\n",
       "    </tr>\n",
       "    <tr>\n",
       "      <th>5</th>\n",
       "      <td>7237550310</td>\n",
       "      <td>20140512T000000</td>\n",
       "      <td>1225000</td>\n",
       "      <td>4</td>\n",
       "      <td>4.50</td>\n",
       "      <td>5420</td>\n",
       "      <td>101930</td>\n",
       "      <td>1.0</td>\n",
       "      <td>0</td>\n",
       "      <td>0</td>\n",
       "      <td>...</td>\n",
       "      <td>11</td>\n",
       "      <td>3890</td>\n",
       "      <td>1530</td>\n",
       "      <td>2001</td>\n",
       "      <td>0</td>\n",
       "      <td>98053</td>\n",
       "      <td>47.6561</td>\n",
       "      <td>-122.005</td>\n",
       "      <td>4760</td>\n",
       "      <td>101930</td>\n",
       "    </tr>\n",
       "    <tr>\n",
       "      <th>6</th>\n",
       "      <td>1321400060</td>\n",
       "      <td>20140627T000000</td>\n",
       "      <td>257500</td>\n",
       "      <td>3</td>\n",
       "      <td>2.25</td>\n",
       "      <td>1715</td>\n",
       "      <td>6819</td>\n",
       "      <td>2.0</td>\n",
       "      <td>0</td>\n",
       "      <td>0</td>\n",
       "      <td>...</td>\n",
       "      <td>7</td>\n",
       "      <td>1715</td>\n",
       "      <td>0</td>\n",
       "      <td>1995</td>\n",
       "      <td>0</td>\n",
       "      <td>98003</td>\n",
       "      <td>47.3097</td>\n",
       "      <td>-122.327</td>\n",
       "      <td>2238</td>\n",
       "      <td>6819</td>\n",
       "    </tr>\n",
       "    <tr>\n",
       "      <th>7</th>\n",
       "      <td>2008000270</td>\n",
       "      <td>20150115T000000</td>\n",
       "      <td>291850</td>\n",
       "      <td>3</td>\n",
       "      <td>1.50</td>\n",
       "      <td>1060</td>\n",
       "      <td>9711</td>\n",
       "      <td>1.0</td>\n",
       "      <td>0</td>\n",
       "      <td>0</td>\n",
       "      <td>...</td>\n",
       "      <td>7</td>\n",
       "      <td>1060</td>\n",
       "      <td>0</td>\n",
       "      <td>1963</td>\n",
       "      <td>0</td>\n",
       "      <td>98198</td>\n",
       "      <td>47.4095</td>\n",
       "      <td>-122.315</td>\n",
       "      <td>1650</td>\n",
       "      <td>9711</td>\n",
       "    </tr>\n",
       "    <tr>\n",
       "      <th>8</th>\n",
       "      <td>2414600126</td>\n",
       "      <td>20150415T000000</td>\n",
       "      <td>229500</td>\n",
       "      <td>3</td>\n",
       "      <td>1.00</td>\n",
       "      <td>1780</td>\n",
       "      <td>7470</td>\n",
       "      <td>1.0</td>\n",
       "      <td>0</td>\n",
       "      <td>0</td>\n",
       "      <td>...</td>\n",
       "      <td>7</td>\n",
       "      <td>1050</td>\n",
       "      <td>730</td>\n",
       "      <td>1960</td>\n",
       "      <td>0</td>\n",
       "      <td>98146</td>\n",
       "      <td>47.5123</td>\n",
       "      <td>-122.337</td>\n",
       "      <td>1780</td>\n",
       "      <td>8113</td>\n",
       "    </tr>\n",
       "    <tr>\n",
       "      <th>9</th>\n",
       "      <td>3793500160</td>\n",
       "      <td>20150312T000000</td>\n",
       "      <td>323000</td>\n",
       "      <td>3</td>\n",
       "      <td>2.50</td>\n",
       "      <td>1890</td>\n",
       "      <td>6560</td>\n",
       "      <td>2.0</td>\n",
       "      <td>0</td>\n",
       "      <td>0</td>\n",
       "      <td>...</td>\n",
       "      <td>7</td>\n",
       "      <td>1890</td>\n",
       "      <td>0</td>\n",
       "      <td>2003</td>\n",
       "      <td>0</td>\n",
       "      <td>98038</td>\n",
       "      <td>47.3684</td>\n",
       "      <td>-122.031</td>\n",
       "      <td>2390</td>\n",
       "      <td>7570</td>\n",
       "    </tr>\n",
       "  </tbody>\n",
       "</table>\n",
       "<p>10 rows × 21 columns</p>\n",
       "</div>"
      ],
      "text/plain": [
       "           id             date    price  bedrooms  bathrooms  sqft_living  \\\n",
       "0  7129300520  20141013T000000   221900         3       1.00         1180   \n",
       "1  6414100192  20141209T000000   538000         3       2.25         2570   \n",
       "2  5631500400  20150225T000000   180000         2       1.00          770   \n",
       "3  2487200875  20141209T000000   604000         4       3.00         1960   \n",
       "4  1954400510  20150218T000000   510000         3       2.00         1680   \n",
       "5  7237550310  20140512T000000  1225000         4       4.50         5420   \n",
       "6  1321400060  20140627T000000   257500         3       2.25         1715   \n",
       "7  2008000270  20150115T000000   291850         3       1.50         1060   \n",
       "8  2414600126  20150415T000000   229500         3       1.00         1780   \n",
       "9  3793500160  20150312T000000   323000         3       2.50         1890   \n",
       "\n",
       "   sqft_lot  floors  waterfront  view     ...      grade  sqft_above  \\\n",
       "0      5650     1.0           0     0     ...          7        1180   \n",
       "1      7242     2.0           0     0     ...          7        2170   \n",
       "2     10000     1.0           0     0     ...          6         770   \n",
       "3      5000     1.0           0     0     ...          7        1050   \n",
       "4      8080     1.0           0     0     ...          8        1680   \n",
       "5    101930     1.0           0     0     ...         11        3890   \n",
       "6      6819     2.0           0     0     ...          7        1715   \n",
       "7      9711     1.0           0     0     ...          7        1060   \n",
       "8      7470     1.0           0     0     ...          7        1050   \n",
       "9      6560     2.0           0     0     ...          7        1890   \n",
       "\n",
       "   sqft_basement  yr_built  yr_renovated  zipcode      lat     long  \\\n",
       "0              0      1955             0    98178  47.5112 -122.257   \n",
       "1            400      1951          1991    98125  47.7210 -122.319   \n",
       "2              0      1933             0    98028  47.7379 -122.233   \n",
       "3            910      1965             0    98136  47.5208 -122.393   \n",
       "4              0      1987             0    98074  47.6168 -122.045   \n",
       "5           1530      2001             0    98053  47.6561 -122.005   \n",
       "6              0      1995             0    98003  47.3097 -122.327   \n",
       "7              0      1963             0    98198  47.4095 -122.315   \n",
       "8            730      1960             0    98146  47.5123 -122.337   \n",
       "9              0      2003             0    98038  47.3684 -122.031   \n",
       "\n",
       "   sqft_living15  sqft_lot15  \n",
       "0           1340        5650  \n",
       "1           1690        7639  \n",
       "2           2720        8062  \n",
       "3           1360        5000  \n",
       "4           1800        7503  \n",
       "5           4760      101930  \n",
       "6           2238        6819  \n",
       "7           1650        9711  \n",
       "8           1780        8113  \n",
       "9           2390        7570  \n",
       "\n",
       "[10 rows x 21 columns]"
      ]
     },
     "execution_count": 2,
     "metadata": {},
     "output_type": "execute_result"
    }
   ],
   "source": [
    "# Load Data\n",
    "original_sales = pd.read_csv('/data/home_data.csv')\n",
    "\n",
    "# This will preview the first ten item of 'origional_sales'.\n",
    "original_sales[0:10]  "
   ]
  },
  {
   "cell_type": "markdown",
   "metadata": {
    "pycharm": {
     "metadata": false,
     "name": "#%% md\n"
    }
   },
   "source": [
    "### Data Sampling\n",
    "* Now we want to load in roughly 100 samples.\n",
    "* So we will use a function called `df.sample()` to take a fraction of the entire data.\n",
    "\n",
    "#### Resources:\n",
    ">* [How to split a pandas dataframe?](http://www.aylakhan.tech/?p=323)\n",
    "* [Documentation: pandas.DataFrame.sample()](https://pandas.pydata.org/pandas-docs/stable/reference/api/pandas.DataFrame.sample.html)"
   ]
  },
  {
   "cell_type": "code",
   "execution_count": 4,
   "metadata": {
    "pycharm": {
     "is_executing": false,
     "metadata": false,
     "name": "#%%\n"
    },
    "scrolled": false
   },
   "outputs": [
    {
     "name": "stdout",
     "output_type": "stream",
     "text": [
      "Int64Index([17384, 722, 2680, 18754, 14554, 16227, 6631, 19813, 3367, 21372], dtype='int64')\n"
     ]
    },
    {
     "data": {
      "text/html": [
       "<div>\n",
       "<style scoped>\n",
       "    .dataframe tbody tr th:only-of-type {\n",
       "        vertical-align: middle;\n",
       "    }\n",
       "\n",
       "    .dataframe tbody tr th {\n",
       "        vertical-align: top;\n",
       "    }\n",
       "\n",
       "    .dataframe thead th {\n",
       "        text-align: right;\n",
       "    }\n",
       "</style>\n",
       "<table border=\"1\" class=\"dataframe\">\n",
       "  <thead>\n",
       "    <tr style=\"text-align: right;\">\n",
       "      <th></th>\n",
       "      <th>id</th>\n",
       "      <th>date</th>\n",
       "      <th>price</th>\n",
       "      <th>bedrooms</th>\n",
       "      <th>bathrooms</th>\n",
       "      <th>sqft_living</th>\n",
       "      <th>sqft_lot</th>\n",
       "      <th>floors</th>\n",
       "      <th>waterfront</th>\n",
       "      <th>view</th>\n",
       "      <th>...</th>\n",
       "      <th>grade</th>\n",
       "      <th>sqft_above</th>\n",
       "      <th>sqft_basement</th>\n",
       "      <th>yr_built</th>\n",
       "      <th>yr_renovated</th>\n",
       "      <th>zipcode</th>\n",
       "      <th>lat</th>\n",
       "      <th>long</th>\n",
       "      <th>sqft_living15</th>\n",
       "      <th>sqft_lot15</th>\n",
       "    </tr>\n",
       "  </thead>\n",
       "  <tbody>\n",
       "    <tr>\n",
       "      <th>17384</th>\n",
       "      <td>1453602313</td>\n",
       "      <td>20141029T000000</td>\n",
       "      <td>297000</td>\n",
       "      <td>2</td>\n",
       "      <td>1.50</td>\n",
       "      <td>1430</td>\n",
       "      <td>1650</td>\n",
       "      <td>3.0</td>\n",
       "      <td>0</td>\n",
       "      <td>0</td>\n",
       "      <td>...</td>\n",
       "      <td>7</td>\n",
       "      <td>1430</td>\n",
       "      <td>0</td>\n",
       "      <td>1999</td>\n",
       "      <td>0</td>\n",
       "      <td>98125</td>\n",
       "      <td>47.7222</td>\n",
       "      <td>-122.290</td>\n",
       "      <td>1430</td>\n",
       "      <td>1650</td>\n",
       "    </tr>\n",
       "    <tr>\n",
       "      <th>722</th>\n",
       "      <td>2225059214</td>\n",
       "      <td>20140808T000000</td>\n",
       "      <td>1578000</td>\n",
       "      <td>4</td>\n",
       "      <td>3.25</td>\n",
       "      <td>4670</td>\n",
       "      <td>51836</td>\n",
       "      <td>2.0</td>\n",
       "      <td>0</td>\n",
       "      <td>0</td>\n",
       "      <td>...</td>\n",
       "      <td>12</td>\n",
       "      <td>4670</td>\n",
       "      <td>0</td>\n",
       "      <td>1988</td>\n",
       "      <td>0</td>\n",
       "      <td>98005</td>\n",
       "      <td>47.6350</td>\n",
       "      <td>-122.164</td>\n",
       "      <td>4230</td>\n",
       "      <td>41075</td>\n",
       "    </tr>\n",
       "    <tr>\n",
       "      <th>2680</th>\n",
       "      <td>2768000270</td>\n",
       "      <td>20140625T000000</td>\n",
       "      <td>562100</td>\n",
       "      <td>2</td>\n",
       "      <td>0.75</td>\n",
       "      <td>1440</td>\n",
       "      <td>3700</td>\n",
       "      <td>1.0</td>\n",
       "      <td>0</td>\n",
       "      <td>0</td>\n",
       "      <td>...</td>\n",
       "      <td>7</td>\n",
       "      <td>1200</td>\n",
       "      <td>240</td>\n",
       "      <td>1914</td>\n",
       "      <td>0</td>\n",
       "      <td>98107</td>\n",
       "      <td>47.6707</td>\n",
       "      <td>-122.364</td>\n",
       "      <td>1440</td>\n",
       "      <td>4300</td>\n",
       "    </tr>\n",
       "    <tr>\n",
       "      <th>18754</th>\n",
       "      <td>6819100040</td>\n",
       "      <td>20140624T000000</td>\n",
       "      <td>631500</td>\n",
       "      <td>2</td>\n",
       "      <td>1.00</td>\n",
       "      <td>1130</td>\n",
       "      <td>2640</td>\n",
       "      <td>1.0</td>\n",
       "      <td>0</td>\n",
       "      <td>0</td>\n",
       "      <td>...</td>\n",
       "      <td>8</td>\n",
       "      <td>1130</td>\n",
       "      <td>0</td>\n",
       "      <td>1927</td>\n",
       "      <td>0</td>\n",
       "      <td>98109</td>\n",
       "      <td>47.6438</td>\n",
       "      <td>-122.357</td>\n",
       "      <td>1680</td>\n",
       "      <td>3200</td>\n",
       "    </tr>\n",
       "    <tr>\n",
       "      <th>14554</th>\n",
       "      <td>4027700666</td>\n",
       "      <td>20150426T000000</td>\n",
       "      <td>780000</td>\n",
       "      <td>4</td>\n",
       "      <td>2.50</td>\n",
       "      <td>3180</td>\n",
       "      <td>9603</td>\n",
       "      <td>2.0</td>\n",
       "      <td>0</td>\n",
       "      <td>2</td>\n",
       "      <td>...</td>\n",
       "      <td>9</td>\n",
       "      <td>3180</td>\n",
       "      <td>0</td>\n",
       "      <td>2002</td>\n",
       "      <td>0</td>\n",
       "      <td>98155</td>\n",
       "      <td>47.7717</td>\n",
       "      <td>-122.277</td>\n",
       "      <td>2440</td>\n",
       "      <td>15261</td>\n",
       "    </tr>\n",
       "    <tr>\n",
       "      <th>16227</th>\n",
       "      <td>7202330470</td>\n",
       "      <td>20150408T000000</td>\n",
       "      <td>485000</td>\n",
       "      <td>3</td>\n",
       "      <td>2.50</td>\n",
       "      <td>1650</td>\n",
       "      <td>3436</td>\n",
       "      <td>2.0</td>\n",
       "      <td>0</td>\n",
       "      <td>0</td>\n",
       "      <td>...</td>\n",
       "      <td>7</td>\n",
       "      <td>1650</td>\n",
       "      <td>0</td>\n",
       "      <td>2003</td>\n",
       "      <td>0</td>\n",
       "      <td>98053</td>\n",
       "      <td>47.6819</td>\n",
       "      <td>-122.036</td>\n",
       "      <td>1680</td>\n",
       "      <td>3446</td>\n",
       "    </tr>\n",
       "    <tr>\n",
       "      <th>6631</th>\n",
       "      <td>3323059027</td>\n",
       "      <td>20150225T000000</td>\n",
       "      <td>340000</td>\n",
       "      <td>3</td>\n",
       "      <td>2.75</td>\n",
       "      <td>1720</td>\n",
       "      <td>28000</td>\n",
       "      <td>1.0</td>\n",
       "      <td>0</td>\n",
       "      <td>0</td>\n",
       "      <td>...</td>\n",
       "      <td>7</td>\n",
       "      <td>1720</td>\n",
       "      <td>0</td>\n",
       "      <td>1958</td>\n",
       "      <td>0</td>\n",
       "      <td>98058</td>\n",
       "      <td>47.4375</td>\n",
       "      <td>-122.176</td>\n",
       "      <td>2000</td>\n",
       "      <td>41817</td>\n",
       "    </tr>\n",
       "    <tr>\n",
       "      <th>19813</th>\n",
       "      <td>3845100140</td>\n",
       "      <td>20140708T000000</td>\n",
       "      <td>335606</td>\n",
       "      <td>3</td>\n",
       "      <td>2.50</td>\n",
       "      <td>2538</td>\n",
       "      <td>4600</td>\n",
       "      <td>2.0</td>\n",
       "      <td>0</td>\n",
       "      <td>0</td>\n",
       "      <td>...</td>\n",
       "      <td>8</td>\n",
       "      <td>2538</td>\n",
       "      <td>0</td>\n",
       "      <td>2013</td>\n",
       "      <td>0</td>\n",
       "      <td>98092</td>\n",
       "      <td>47.2584</td>\n",
       "      <td>-122.196</td>\n",
       "      <td>2570</td>\n",
       "      <td>4800</td>\n",
       "    </tr>\n",
       "    <tr>\n",
       "      <th>3367</th>\n",
       "      <td>9558020600</td>\n",
       "      <td>20150407T000000</td>\n",
       "      <td>425000</td>\n",
       "      <td>4</td>\n",
       "      <td>2.50</td>\n",
       "      <td>2460</td>\n",
       "      <td>5440</td>\n",
       "      <td>2.0</td>\n",
       "      <td>0</td>\n",
       "      <td>0</td>\n",
       "      <td>...</td>\n",
       "      <td>9</td>\n",
       "      <td>2460</td>\n",
       "      <td>0</td>\n",
       "      <td>2003</td>\n",
       "      <td>0</td>\n",
       "      <td>98058</td>\n",
       "      <td>47.4480</td>\n",
       "      <td>-122.121</td>\n",
       "      <td>2460</td>\n",
       "      <td>5124</td>\n",
       "    </tr>\n",
       "    <tr>\n",
       "      <th>21372</th>\n",
       "      <td>6169901185</td>\n",
       "      <td>20140520T000000</td>\n",
       "      <td>490000</td>\n",
       "      <td>5</td>\n",
       "      <td>3.50</td>\n",
       "      <td>4460</td>\n",
       "      <td>2975</td>\n",
       "      <td>3.0</td>\n",
       "      <td>0</td>\n",
       "      <td>2</td>\n",
       "      <td>...</td>\n",
       "      <td>10</td>\n",
       "      <td>3280</td>\n",
       "      <td>1180</td>\n",
       "      <td>2015</td>\n",
       "      <td>0</td>\n",
       "      <td>98119</td>\n",
       "      <td>47.6313</td>\n",
       "      <td>-122.370</td>\n",
       "      <td>2490</td>\n",
       "      <td>4231</td>\n",
       "    </tr>\n",
       "  </tbody>\n",
       "</table>\n",
       "<p>10 rows × 21 columns</p>\n",
       "</div>"
      ],
      "text/plain": [
       "               id             date    price  bedrooms  bathrooms  sqft_living  \\\n",
       "17384  1453602313  20141029T000000   297000         2       1.50         1430   \n",
       "722    2225059214  20140808T000000  1578000         4       3.25         4670   \n",
       "2680   2768000270  20140625T000000   562100         2       0.75         1440   \n",
       "18754  6819100040  20140624T000000   631500         2       1.00         1130   \n",
       "14554  4027700666  20150426T000000   780000         4       2.50         3180   \n",
       "16227  7202330470  20150408T000000   485000         3       2.50         1650   \n",
       "6631   3323059027  20150225T000000   340000         3       2.75         1720   \n",
       "19813  3845100140  20140708T000000   335606         3       2.50         2538   \n",
       "3367   9558020600  20150407T000000   425000         4       2.50         2460   \n",
       "21372  6169901185  20140520T000000   490000         5       3.50         4460   \n",
       "\n",
       "       sqft_lot  floors  waterfront  view     ...      grade  sqft_above  \\\n",
       "17384      1650     3.0           0     0     ...          7        1430   \n",
       "722       51836     2.0           0     0     ...         12        4670   \n",
       "2680       3700     1.0           0     0     ...          7        1200   \n",
       "18754      2640     1.0           0     0     ...          8        1130   \n",
       "14554      9603     2.0           0     2     ...          9        3180   \n",
       "16227      3436     2.0           0     0     ...          7        1650   \n",
       "6631      28000     1.0           0     0     ...          7        1720   \n",
       "19813      4600     2.0           0     0     ...          8        2538   \n",
       "3367       5440     2.0           0     0     ...          9        2460   \n",
       "21372      2975     3.0           0     2     ...         10        3280   \n",
       "\n",
       "       sqft_basement  yr_built  yr_renovated  zipcode      lat     long  \\\n",
       "17384              0      1999             0    98125  47.7222 -122.290   \n",
       "722                0      1988             0    98005  47.6350 -122.164   \n",
       "2680             240      1914             0    98107  47.6707 -122.364   \n",
       "18754              0      1927             0    98109  47.6438 -122.357   \n",
       "14554              0      2002             0    98155  47.7717 -122.277   \n",
       "16227              0      2003             0    98053  47.6819 -122.036   \n",
       "6631               0      1958             0    98058  47.4375 -122.176   \n",
       "19813              0      2013             0    98092  47.2584 -122.196   \n",
       "3367               0      2003             0    98058  47.4480 -122.121   \n",
       "21372           1180      2015             0    98119  47.6313 -122.370   \n",
       "\n",
       "       sqft_living15  sqft_lot15  \n",
       "17384           1430        1650  \n",
       "722             4230       41075  \n",
       "2680            1440        4300  \n",
       "18754           1680        3200  \n",
       "14554           2440       15261  \n",
       "16227           1680        3446  \n",
       "6631            2000       41817  \n",
       "19813           2570        4800  \n",
       "3367            2460        5124  \n",
       "21372           2490        4231  \n",
       "\n",
       "[10 rows x 21 columns]"
      ]
     },
     "execution_count": 4,
     "metadata": {},
     "output_type": "execute_result"
    }
   ],
   "source": [
    "# We set random_state = 0 to ensure the reproducibility. You must not change this field.\n",
    "# In real world practice, a lot people prefer to use different seeds of their choice (lucky number, girlfriend's birthday, etc).\n",
    "sales = original_sales.sample(frac=0.005, random_state = 0)  \n",
    "\n",
    "# Here, I'm just showing you the head of the random sample. \n",
    "# Note: The index of the sample is not in any order (not at all!)\n",
    "print(sales.index[0:10])\n",
    "sales[0:10]"
   ]
  },
  {
   "cell_type": "markdown",
   "metadata": {},
   "source": [
    "* Let's take a look at what the shape of our sample looks like.    "
   ]
  },
  {
   "cell_type": "code",
   "execution_count": 5,
   "metadata": {},
   "outputs": [
    {
     "data": {
      "text/plain": [
       "(108, 21)"
      ]
     },
     "execution_count": 5,
     "metadata": {},
     "output_type": "execute_result"
    }
   ],
   "source": [
    "sales.shape  # Returns the shape of a pandas DataFrame."
   ]
  },
  {
   "cell_type": "markdown",
   "metadata": {},
   "source": [
    "* We have shape = (108, 21), which means we have 108 rows (houses) and 21 columns (id, date, price, etc)"
   ]
  },
  {
   "cell_type": "markdown",
   "metadata": {
    "pycharm": {
     "metadata": false
    }
   },
   "source": [
    "### Sort Sampled Data\n",
    "* For plotting purposes (connecting the dots), we'll need to sort by the values of `sqft_living` using `df.sort_values()`. For houses with identical square footage, we break the tie by their `price`."
   ]
  },
  {
   "cell_type": "code",
   "execution_count": 6,
   "metadata": {
    "pycharm": {
     "is_executing": false,
     "metadata": false,
     "name": "#%%\n"
    },
    "scrolled": false
   },
   "outputs": [
    {
     "data": {
      "text/html": [
       "<div>\n",
       "<style scoped>\n",
       "    .dataframe tbody tr th:only-of-type {\n",
       "        vertical-align: middle;\n",
       "    }\n",
       "\n",
       "    .dataframe tbody tr th {\n",
       "        vertical-align: top;\n",
       "    }\n",
       "\n",
       "    .dataframe thead th {\n",
       "        text-align: right;\n",
       "    }\n",
       "</style>\n",
       "<table border=\"1\" class=\"dataframe\">\n",
       "  <thead>\n",
       "    <tr style=\"text-align: right;\">\n",
       "      <th></th>\n",
       "      <th>sqft_living</th>\n",
       "      <th>price</th>\n",
       "    </tr>\n",
       "  </thead>\n",
       "  <tbody>\n",
       "    <tr>\n",
       "      <th>8945</th>\n",
       "      <td>930</td>\n",
       "      <td>230950</td>\n",
       "    </tr>\n",
       "    <tr>\n",
       "      <th>21456</th>\n",
       "      <td>1020</td>\n",
       "      <td>450000</td>\n",
       "    </tr>\n",
       "    <tr>\n",
       "      <th>17614</th>\n",
       "      <td>1080</td>\n",
       "      <td>228500</td>\n",
       "    </tr>\n",
       "    <tr>\n",
       "      <th>3101</th>\n",
       "      <td>1100</td>\n",
       "      <td>190000</td>\n",
       "    </tr>\n",
       "    <tr>\n",
       "      <th>7332</th>\n",
       "      <td>1100</td>\n",
       "      <td>280000</td>\n",
       "    </tr>\n",
       "    <tr>\n",
       "      <th>18754</th>\n",
       "      <td>1130</td>\n",
       "      <td>631500</td>\n",
       "    </tr>\n",
       "    <tr>\n",
       "      <th>6502</th>\n",
       "      <td>1150</td>\n",
       "      <td>309212</td>\n",
       "    </tr>\n",
       "    <tr>\n",
       "      <th>14533</th>\n",
       "      <td>1150</td>\n",
       "      <td>325000</td>\n",
       "    </tr>\n",
       "    <tr>\n",
       "      <th>9038</th>\n",
       "      <td>1180</td>\n",
       "      <td>397990</td>\n",
       "    </tr>\n",
       "    <tr>\n",
       "      <th>6813</th>\n",
       "      <td>1200</td>\n",
       "      <td>203000</td>\n",
       "    </tr>\n",
       "  </tbody>\n",
       "</table>\n",
       "</div>"
      ],
      "text/plain": [
       "       sqft_living   price\n",
       "8945           930  230950\n",
       "21456         1020  450000\n",
       "17614         1080  228500\n",
       "3101          1100  190000\n",
       "7332          1100  280000\n",
       "18754         1130  631500\n",
       "6502          1150  309212\n",
       "14533         1150  325000\n",
       "9038          1180  397990\n",
       "6813          1200  203000"
      ]
     },
     "execution_count": 6,
     "metadata": {},
     "output_type": "execute_result"
    }
   ],
   "source": [
    "sales = sales.sort_values(by=['sqft_living', 'price'])\n",
    "\n",
    "# Preview!\n",
    "sales[['sqft_living','price']][0:10]"
   ]
  },
  {
   "cell_type": "markdown",
   "metadata": {},
   "source": [
    "* Let us take a look at what our fraction of the dataset looks like in respect to the total dataset.\n",
    "* We definitely can't cover the entire range, but our fraction captures the trend relatively well.\n",
    "\n",
    "> Side Note: Why don't we just use the entire dataset? \n",
    "* Because in the real world, as the dataset gets larger, computation becomes more expensive (time, money, power, etc.). \n",
    "* Our job as a data scientist is to use less data to achieve similar result compare to training with large amount of data.\n",
    "* In theory, the more data we feed in to train a model, the model will have better performance. \n",
    "* If we feed in every possible piece of data, the model should then be able to predict anything. (Since it knows everything) However, this is clearly impractical since we don't have detailed information about every house on the planet, so we try our best to generalize based on a sample."
   ]
  },
  {
   "cell_type": "code",
   "execution_count": 7,
   "metadata": {},
   "outputs": [
    {
     "data": {
      "text/plain": [
       "Text(0, 0.5, 'Price')"
      ]
     },
     "execution_count": 7,
     "metadata": {},
     "output_type": "execute_result"
    },
    {
     "data": {
      "image/png": "[encoded data removed]",
      "text/plain": [
       "<Figure size 432x288 with 1 Axes>"
      ]
     },
     "metadata": {
      "needs_background": "light"
     },
     "output_type": "display_data"
    }
   ],
   "source": [
    "# --------------------------------------Plot code--------------------------------------\n",
    "# Blue . represents all the data points.\n",
    "plt.plot(original_sales['sqft_living'],original_sales['price'],'.')\n",
    "\n",
    "# The orange + represents the fraction of dataset we randomly picked up.\n",
    "plt.plot(sales['sqft_living'],sales['price'],'+')  \n",
    "\n",
    "# Plot the label of the x-axis and y-axis.\n",
    "plt.xlabel('Sqft Living')\n",
    "plt.ylabel('Price')"
   ]
  },
  {
   "cell_type": "markdown",
   "metadata": {},
   "source": [
    ">### For fun: Let's see what if we randomize a different data set or change the size of the subset.\n",
    "* Though a bit different,but we can still capture the trend pretty well.\n",
    "* Our goal is to capture the trend, it is more important than blindly just use more data points."
   ]
  },
  {
   "cell_type": "code",
   "execution_count": 8,
   "metadata": {},
   "outputs": [
    {
     "data": {
      "text/plain": [
       "Text(0, 0.5, 'Price')"
      ]
     },
     "execution_count": 8,
     "metadata": {},
     "output_type": "execute_result"
    },
    {
     "data": {
      "image/png": "[encoded data removed]",
      "text/plain": [
       "<Figure size 432x288 with 1 Axes>"
      ]
     },
     "metadata": {
      "needs_background": "light"
     },
     "output_type": "display_data"
    }
   ],
   "source": [
    "# For fun.\n",
    "\n",
    "# Variables\n",
    "rand_state = 500  # Feel free to change this seed, re-run, and see what happens.\n",
    "fraction = 0.01  # Feel free to change the size of fraction, re-run, and see what happens.\n",
    "\n",
    "# Make another subset\n",
    "sales_rand = original_sales.sample(frac=fraction, random_state = rand_state)  \n",
    "\n",
    "# --------------------------------------Plot code--------------------------------------\n",
    "# Blue . represents all the data points.\n",
    "plt.plot(original_sales['sqft_living'],original_sales['price'],'.') \n",
    "\n",
    "# Orange + represents the fraction of dataset we randomly (seed = 0) picked up.\n",
    "plt.plot(sales['sqft_living'],sales['price'],'+') \n",
    "\n",
    "# Green * represents the fraction of dataset we randomly (rand_state) used.\n",
    "plt.plot(sales_rand['sqft_living'],sales_rand['price'],'*')  \n",
    "\n",
    "# Plot the label of the x-axis and y-axis.\n",
    "plt.xlabel('Sqft Living')\n",
    "plt.ylabel('Price')"
   ]
  },
  {
   "cell_type": "markdown",
   "metadata": {
    "pycharm": {
     "metadata": false
    }
   },
   "source": [
    "## Revisiting Polynomial Regression\n",
    "\n",
    "\n",
    "The function below takes in a feature column, and a degree, and returns a Pandas DataFrame with columns containing the powers of a given input.\n"
   ]
  },
  {
   "cell_type": "code",
   "execution_count": 9,
   "metadata": {
    "pycharm": {
     "is_executing": false,
     "metadata": false,
     "name": "#%%\n"
    }
   },
   "outputs": [],
   "source": [
    "def polynomial_data_frame(feature, degree):\n",
    "    # Make a new DataFrame for return.\n",
    "    poly_frame = pd.DataFrame()  \n",
    "    \n",
    "    # For power_1 just use the original feature.\n",
    "    poly_frame['power_1'] = feature\n",
    "    \n",
    "    # For other powers, raise 'feature' to that power.\n",
    "    if degree > 1:\n",
    "        for power in range(2, degree+1):\n",
    "            name = 'power_' + str(power)\n",
    "            poly_frame[name] = feature.apply(lambda x : x**power)\n",
    "            \n",
    "    # Return the Pandas DataFrame with columns containing the powers of a given input.\n",
    "    return poly_frame"
   ]
  },
  {
   "cell_type": "markdown",
   "metadata": {
    "pycharm": {
     "metadata": false
    }
   },
   "source": [
    "### Q1) Generate polynomial features up to degree 15 using `polynomial_data_frame()` and fit a linear regression model (Ridge) with these features. When fitting the model, use an L2 penalty of `1e-5`. What's the learned value for the coefficient of feature`power_1`?\n",
    "\n",
    "Note: When we have so many features and so few data points, the solution can become highly numerically unstable, which can sometimes lead to strange unpredictable results. Thus, rather than using no regularization, we will introduce a tiny amount of regularization `l2_penalty=1e-5` to make the solution numerically stable.\n",
    "\n",
    "With the L2 penalty specified below, fit the model and **print out the learned weights**.\n",
    "\n",
    "Recall that the function takes in a feature column, and a degree, and returns a DataFrame with columns containing the powers of a given input.\n",
    "\n",
    "**Hints:** \n",
    "* Make sure to add `'price'` column to the new DataFrame before calling `sk.linear_model.Ridge.fit()`.\n",
    "* To make our output look stable, also make sure to add in `normalize=True` when constructing your model.\n",
    "* Also, do not set `fit_intercept=True` (default is false) so we get the same results.\n",
    "\n",
    "You can view the coefficients of the learned model by looking at `.coef_` field on the learned model.\n",
    "#### Resources: Wayyyyyy more than you need. You don't have to read or watch them, just here if you need it.\n",
    "\n",
    ">* [Doc: Scikit-Learn Linear Model](https://scikit-learn.org/stable/modules/linear_model.html)\n",
    "* [Doc: Scikit-Learn Ridge Regression](https://scikit-learn.org/stable/modules/generated/sklearn.linear_model.Ridge.html)\n",
    "* [Demo: Plot Ridge coefficients as a function of the L2 regularization](https://scikit-learn.org/stable/auto_examples/linear_model/plot_ridge_coeffs.html#sphx-glr-auto-examples-linear-model-plot-ridge-coeffs-py)\n",
    "* [StackOverFlow: Get list from pandas DataFrame column headers](https://stackoverflow.com/questions/19482970/get-list-from-pandas-dataframe-column-headers)\n",
    "* [StackOverFlow: How to create an empty DataFrame?](https://stackoverflow.com/questions/13784192/creating-an-empty-pandas-dataframe-then-filling-it)\n",
    "* [Video: Linear Regression: Regularization](https://www.youtube.com/watch?v=sO4ZirJh9ds)\n",
    "* [Video: Ridge Regression](https://www.youtube.com/watch?v=Q81RR3yKn30)"
   ]
  },
  {
   "cell_type": "code",
   "execution_count": 10,
   "metadata": {},
   "outputs": [],
   "source": [
    "# Set l2 penalty\n",
    "l2_small_penalty= 1e-5  "
   ]
  },
  {
   "cell_type": "code",
   "execution_count": 17,
   "metadata": {},
   "outputs": [
    {
     "name": "stdout",
     "output_type": "stream",
     "text": [
      "1843.0714336593594\n",
      "[ 1.84307143e+03 -8.92165479e-01  7.73637650e-05  3.57580371e-08\n",
      "  1.99363570e-12 -9.17879951e-16 -2.79201860e-19 -3.82783918e-23\n",
      " -6.47440898e-28  1.14688558e-30  3.59622890e-34  6.71290697e-38\n",
      "  7.04719704e-42 -6.20968203e-46 -6.08821398e-49]\n"
     ]
    }
   ],
   "source": [
    "# Student Edition\n",
    "\n",
    "from sklearn.linear_model import Ridge\n",
    "\n",
    "poly15_data = polynomial_data_frame(sales['sqft_living'], 15)\n",
    "\n",
    "my_features = list(poly15_data) # Returns a list of the names of features.\n",
    "\n",
    "poly15_data['price'] = sales['price']\n",
    "\n",
    "model15 = Ridge(alpha = l2_small_penalty, normalize = True).fit(poly15_data[my_features], poly15_data['price'])\n",
    "\n",
    "print(model15.coef_[0])\n",
    "# Print the learned value for the coefficient of feature power_1"
   ]
  },
  {
   "cell_type": "markdown",
   "metadata": {},
   "source": [
    "### <span style=\"color:red\">Q1 Answer: 1843.0714336593594 </span>"
   ]
  },
  {
   "cell_type": "markdown",
   "metadata": {
    "pycharm": {
     "metadata": false
    }
   },
   "source": [
    "## Observe Overfitting\n",
    "\n",
    "Recall from lecture that the polynomial fit of a high degree changed wildly whenever the data changed. We will demonstrate this by splitting the sales data into four subsets and fit the model of degree 15; in lecture we saw that when we have small datasets that these high degree polynomial models tend to overfit the dataset. \n",
    "\n",
    "First, split the data into split the sales data into four subsets of roughly equal size and call them `set_1`, `set_2`, `set_3`, and `set_4`. Use `.random_split` function and make sure you set `seed=0`. \n",
    "\n",
    "#### Resources\n",
    "* [Doc: Train Test Split (Not used, still useful to know)](https://scikit-learn.org/stable/modules/generated/sklearn.model_selection.train_test_split.html)\n",
    "* [StackOverFlow: Pandas random sample](https://stackoverflow.com/a/35531218)"
   ]
  },
  {
   "cell_type": "code",
   "execution_count": 18,
   "metadata": {},
   "outputs": [],
   "source": [
    "# A function that takes in a dataframe, and split it into whatever parameter says.\n",
    "def random_split(df, frac_, seed):\n",
    "    set_1 = df.sample(frac = frac_, random_state = seed)\n",
    "    set_2 = df.drop(set_1.index)\n",
    "    return (set_1, set_2)\n",
    "\n",
    "# Split data using the function above.\n",
    "(semi_split1, semi_split2) = random_split(sales, 0.5, seed=0)\n",
    "(set_1, set_2) = random_split(semi_split1, 0.5, seed=0)\n",
    "(set_3, set_4) = random_split(semi_split2, 0.5, seed=0)\n",
    "\n",
    "data_subsets = [set_1, set_2, set_3, set_4]"
   ]
  },
  {
   "cell_type": "markdown",
   "metadata": {
    "pycharm": {
     "metadata": false
    }
   },
   "source": [
    "***TODO:***\n",
    "\n",
    "Write a function `train_model_on_subsets` (below) that will take in an L2 penalty as input and: \n",
    " 1. will generate polynomial features up to degree 15 on the 'sqft_living' input for each subset of the data set,\n",
    " 2. then train a linear regression model with the L2 penalty, and\n",
    " 3. plot a graph of the `power_1` feature vs 'price' with the data points and the model fits, and\n",
    " 4. prints out the smallest and largest coefficients for the `power_1` feature over the different models.\n",
    "\n",
    "We have provided the code for plotting.\n",
    "\n",
    "**Hints:**\n",
    "* The beginning of Question 1 might be a helpful place to start\n",
    "* Remember to include the `'price'` column like we had to earlier\n",
    "* When calling `sklearn.linear_model.Ridge()`, make sure you don't set `fit_intercept = True`(Leave it blank).\n",
    "* You can get the value of a the coefficient at the `i`th index by calling `coefs[i]`.\n",
    " "
   ]
  },
  {
   "cell_type": "code",
   "execution_count": 19,
   "metadata": {},
   "outputs": [],
   "source": [
    "# Student Edition\n",
    "\n",
    "def train_model_on_subsets(l2_penalty):\n",
    "    learned_models = []\n",
    "    model_coefficients = []\n",
    "\n",
    "    for subset in data_subsets:\n",
    "        # 1. Generate polynomial features up to degree 15 on the 'sqft_living' input for each subset of the data set,\n",
    "        poly15_data = polynomial_data_frame(subset['sqft_living'], 15)\n",
    "        \n",
    "        # 2. Train a linear regression model with the L2 penalty\n",
    "        my_features = list(poly15_data) # Returns a list of the names of features.\n",
    "\n",
    "        poly15_data['price'] = subset['price']\n",
    "\n",
    "        current_model15 = Ridge(alpha = l2_penalty, normalize = True).fit(poly15_data[my_features], poly15_data['price'])\n",
    "        \n",
    "        # Uncomment this line and append the model that you trained\n",
    "        learned_models.append(current_model15)\n",
    "        # Hint: You also need to do something to the coefficients here...\n",
    "        model_coefficients.append(current_model15.coef_[0])\n",
    "\n",
    "    # 3. Plot a graph of the power_1 feature vs 'price' with the data points and the model fits\n",
    "    plt.plot(poly15_data['power_1'],poly15_data['price'],'.')\n",
    "    plt.xlabel('Power 1 feature of sqft_living')\n",
    "    plt.ylabel('Price')\n",
    "    \n",
    "    for model15 in learned_models:        \n",
    "        plt.plot(poly15_data['power_1'], model15.predict(poly15_data[my_features]),'-')\n",
    "\n",
    "    \n",
    "    # 4. Print the smallest and largest coefficients for the power_1 feature over the different models.\n",
    "    print(min(model_coefficients))\n",
    "    print(max(model_coefficients))"
   ]
  },
  {
   "cell_type": "markdown",
   "metadata": {
    "pycharm": {
     "metadata": false
    }
   },
   "source": [
    "### Q2) Use the function that you wrote to train a polynomial regression model on the subsets with the `l2_small_penalty`. Take a look at the plot of the resulting model. For the models learned in each of these training sets, what are the smallest and largest values you learned for the coefficient of feature `power_1`? \n",
    "(For the purpose of answering this question, negative numbers are considered \"smaller\" than positive numbers. So -5 is smaller than -3, and -3 is smaller than 5 and so forth.)"
   ]
  },
  {
   "cell_type": "code",
   "execution_count": 20,
   "metadata": {
    "scrolled": true
   },
   "outputs": [
    {
     "name": "stdout",
     "output_type": "stream",
     "text": [
      "-1647.3572962687945\n",
      "2631.5768064213044\n"
     ]
    },
    {
     "data": {
      "image/png": "[encoded data removed]",
      "text/plain": [
       "<Figure size 432x288 with 1 Axes>"
      ]
     },
     "metadata": {
      "needs_background": "light"
     },
     "output_type": "display_data"
    }
   ],
   "source": [
    "# Student Edition\n",
    "# Do what the prompt ask you to do here!\n",
    "train_model_on_subsets(l2_small_penalty)"
   ]
  },
  {
   "cell_type": "markdown",
   "metadata": {},
   "source": [
    "### <span style=\"color:red\">Q2 Answer: -1647.3572962687945,2631.5768064213044</span>"
   ]
  },
  {
   "cell_type": "markdown",
   "metadata": {},
   "source": [
    "\n",
    "### Q3) Do these models have high bias or high variance?\n",
    "a) High Bias  \n",
    "b) High Variance\n"
   ]
  },
  {
   "cell_type": "markdown",
   "metadata": {},
   "source": [
    "### <span style=\"color:red\">Q3 Answer: b) High Variance </span>"
   ]
  },
  {
   "cell_type": "markdown",
   "metadata": {
    "pycharm": {
     "metadata": false
    }
   },
   "source": [
    "## Ridge Regression comes to the rescue\n",
    "\n",
    "Generally, whenever we see weights change so much in response to change in data, we believe the variance of our estimate to be large. Ridge regression aims to address this issue by penalizing \"large\" weights. \n",
    "\n",
    "Use the function that you wrote before to, with the argument `l2_penalty=l2_large_penalty`, fit a 15th-order polynomial model on `set_1`, `set_2`, `set_3`, and `set_4`. Other than the change in the `l2_penalty` parameter, the code should be the same as the experiment above. \n",
    "\n",
    "\n",
    "### Q4)  For the models learned with the high level of regularization in each of these training sets, what are the smallest and largest values you learned for the coefficient of feature `power_1`?\n",
    "\n",
    "(For the purpose of answering this question, negative numbers are considered \"smaller\" than positive numbers. So -5 is smaller than -3, and -3 is smaller than 5 and so forth.)\n",
    "\n",
    "### Q5) Do these models have high bias or high variance?\n",
    "\n",
    "a) High Bias  \n",
    "b) High Variance"
   ]
  },
  {
   "cell_type": "code",
   "execution_count": 21,
   "metadata": {
    "pycharm": {
     "metadata": false,
     "name": "#%%\n"
    }
   },
   "outputs": [],
   "source": [
    "l2_large_penalty=1e5"
   ]
  },
  {
   "cell_type": "code",
   "execution_count": 22,
   "metadata": {},
   "outputs": [
    {
     "name": "stdout",
     "output_type": "stream",
     "text": [
      "0.0020284106464078812\n",
      "0.00477107545049397\n"
     ]
    },
    {
     "data": {
      "image/png": "[encoded data removed]",
      "text/plain": [
       "<Figure size 432x288 with 1 Axes>"
      ]
     },
     "metadata": {
      "needs_background": "light"
     },
     "output_type": "display_data"
    }
   ],
   "source": [
    "# Student Edition\n",
    "# Do what the prompt ask you to do here!\n",
    "train_model_on_subsets(l2_large_penalty)"
   ]
  },
  {
   "cell_type": "markdown",
   "metadata": {},
   "source": [
    "### <span style=\"color:red\">Q4 Answer:0.0020284106464078812, 0.00477107545049397 </span>"
   ]
  },
  {
   "cell_type": "markdown",
   "metadata": {},
   "source": [
    "### <span style=\"color:red\">Q5 Answer:a) High Bias </span>"
   ]
  },
  {
   "cell_type": "markdown",
   "metadata": {
    "pycharm": {
     "metadata": false
    }
   },
   "source": [
    "Play around with some of the l2 penalties and see what happens. "
   ]
  },
  {
   "cell_type": "markdown",
   "metadata": {
    "pycharm": {
     "metadata": false
    }
   },
   "source": [
    "## Ridge and LASSO Regression on Housing Data"
   ]
  },
  {
   "cell_type": "markdown",
   "metadata": {
    "pycharm": {
     "metadata": false
    }
   },
   "source": [
    "Let's take a look at our dataset again."
   ]
  },
  {
   "cell_type": "code",
   "execution_count": 23,
   "metadata": {
    "pycharm": {
     "metadata": false,
     "name": "#%%\n"
    }
   },
   "outputs": [
    {
     "data": {
      "text/html": [
       "<div>\n",
       "<style scoped>\n",
       "    .dataframe tbody tr th:only-of-type {\n",
       "        vertical-align: middle;\n",
       "    }\n",
       "\n",
       "    .dataframe tbody tr th {\n",
       "        vertical-align: top;\n",
       "    }\n",
       "\n",
       "    .dataframe thead th {\n",
       "        text-align: right;\n",
       "    }\n",
       "</style>\n",
       "<table border=\"1\" class=\"dataframe\">\n",
       "  <thead>\n",
       "    <tr style=\"text-align: right;\">\n",
       "      <th></th>\n",
       "      <th>id</th>\n",
       "      <th>date</th>\n",
       "      <th>price</th>\n",
       "      <th>bedrooms</th>\n",
       "      <th>bathrooms</th>\n",
       "      <th>sqft_living</th>\n",
       "      <th>sqft_lot</th>\n",
       "      <th>floors</th>\n",
       "      <th>waterfront</th>\n",
       "      <th>view</th>\n",
       "      <th>...</th>\n",
       "      <th>grade</th>\n",
       "      <th>sqft_above</th>\n",
       "      <th>sqft_basement</th>\n",
       "      <th>yr_built</th>\n",
       "      <th>yr_renovated</th>\n",
       "      <th>zipcode</th>\n",
       "      <th>lat</th>\n",
       "      <th>long</th>\n",
       "      <th>sqft_living15</th>\n",
       "      <th>sqft_lot15</th>\n",
       "    </tr>\n",
       "  </thead>\n",
       "  <tbody>\n",
       "    <tr>\n",
       "      <th>8945</th>\n",
       "      <td>8655900100</td>\n",
       "      <td>20140807T000000</td>\n",
       "      <td>230950</td>\n",
       "      <td>2</td>\n",
       "      <td>1.00</td>\n",
       "      <td>930</td>\n",
       "      <td>12724</td>\n",
       "      <td>1.0</td>\n",
       "      <td>0</td>\n",
       "      <td>0</td>\n",
       "      <td>...</td>\n",
       "      <td>6</td>\n",
       "      <td>930</td>\n",
       "      <td>0</td>\n",
       "      <td>1912</td>\n",
       "      <td>0</td>\n",
       "      <td>98014</td>\n",
       "      <td>47.6567</td>\n",
       "      <td>-121.909</td>\n",
       "      <td>1240</td>\n",
       "      <td>21828</td>\n",
       "    </tr>\n",
       "    <tr>\n",
       "      <th>21456</th>\n",
       "      <td>3362401761</td>\n",
       "      <td>20150225T000000</td>\n",
       "      <td>450000</td>\n",
       "      <td>2</td>\n",
       "      <td>1.50</td>\n",
       "      <td>1020</td>\n",
       "      <td>1049</td>\n",
       "      <td>3.0</td>\n",
       "      <td>0</td>\n",
       "      <td>0</td>\n",
       "      <td>...</td>\n",
       "      <td>8</td>\n",
       "      <td>1020</td>\n",
       "      <td>0</td>\n",
       "      <td>2008</td>\n",
       "      <td>0</td>\n",
       "      <td>98103</td>\n",
       "      <td>47.6800</td>\n",
       "      <td>-122.348</td>\n",
       "      <td>1350</td>\n",
       "      <td>1395</td>\n",
       "    </tr>\n",
       "    <tr>\n",
       "      <th>17614</th>\n",
       "      <td>2407000405</td>\n",
       "      <td>20150226T000000</td>\n",
       "      <td>228500</td>\n",
       "      <td>3</td>\n",
       "      <td>1.00</td>\n",
       "      <td>1080</td>\n",
       "      <td>7486</td>\n",
       "      <td>1.5</td>\n",
       "      <td>0</td>\n",
       "      <td>0</td>\n",
       "      <td>...</td>\n",
       "      <td>6</td>\n",
       "      <td>990</td>\n",
       "      <td>90</td>\n",
       "      <td>1942</td>\n",
       "      <td>0</td>\n",
       "      <td>98146</td>\n",
       "      <td>47.4838</td>\n",
       "      <td>-122.335</td>\n",
       "      <td>1170</td>\n",
       "      <td>7800</td>\n",
       "    </tr>\n",
       "    <tr>\n",
       "      <th>3101</th>\n",
       "      <td>84000245</td>\n",
       "      <td>20141120T000000</td>\n",
       "      <td>190000</td>\n",
       "      <td>3</td>\n",
       "      <td>1.75</td>\n",
       "      <td>1100</td>\n",
       "      <td>9452</td>\n",
       "      <td>1.0</td>\n",
       "      <td>0</td>\n",
       "      <td>0</td>\n",
       "      <td>...</td>\n",
       "      <td>6</td>\n",
       "      <td>1100</td>\n",
       "      <td>0</td>\n",
       "      <td>1942</td>\n",
       "      <td>0</td>\n",
       "      <td>98146</td>\n",
       "      <td>47.4864</td>\n",
       "      <td>-122.337</td>\n",
       "      <td>1350</td>\n",
       "      <td>9452</td>\n",
       "    </tr>\n",
       "    <tr>\n",
       "      <th>7332</th>\n",
       "      <td>4310700020</td>\n",
       "      <td>20141010T000000</td>\n",
       "      <td>280000</td>\n",
       "      <td>3</td>\n",
       "      <td>1.00</td>\n",
       "      <td>1100</td>\n",
       "      <td>5132</td>\n",
       "      <td>1.0</td>\n",
       "      <td>0</td>\n",
       "      <td>0</td>\n",
       "      <td>...</td>\n",
       "      <td>6</td>\n",
       "      <td>840</td>\n",
       "      <td>260</td>\n",
       "      <td>1948</td>\n",
       "      <td>0</td>\n",
       "      <td>98103</td>\n",
       "      <td>47.7011</td>\n",
       "      <td>-122.336</td>\n",
       "      <td>1280</td>\n",
       "      <td>5132</td>\n",
       "    </tr>\n",
       "    <tr>\n",
       "      <th>18754</th>\n",
       "      <td>6819100040</td>\n",
       "      <td>20140624T000000</td>\n",
       "      <td>631500</td>\n",
       "      <td>2</td>\n",
       "      <td>1.00</td>\n",
       "      <td>1130</td>\n",
       "      <td>2640</td>\n",
       "      <td>1.0</td>\n",
       "      <td>0</td>\n",
       "      <td>0</td>\n",
       "      <td>...</td>\n",
       "      <td>8</td>\n",
       "      <td>1130</td>\n",
       "      <td>0</td>\n",
       "      <td>1927</td>\n",
       "      <td>0</td>\n",
       "      <td>98109</td>\n",
       "      <td>47.6438</td>\n",
       "      <td>-122.357</td>\n",
       "      <td>1680</td>\n",
       "      <td>3200</td>\n",
       "    </tr>\n",
       "    <tr>\n",
       "      <th>6502</th>\n",
       "      <td>9407102360</td>\n",
       "      <td>20140616T000000</td>\n",
       "      <td>309212</td>\n",
       "      <td>3</td>\n",
       "      <td>1.75</td>\n",
       "      <td>1150</td>\n",
       "      <td>9600</td>\n",
       "      <td>1.0</td>\n",
       "      <td>0</td>\n",
       "      <td>0</td>\n",
       "      <td>...</td>\n",
       "      <td>7</td>\n",
       "      <td>1150</td>\n",
       "      <td>0</td>\n",
       "      <td>1979</td>\n",
       "      <td>0</td>\n",
       "      <td>98045</td>\n",
       "      <td>47.4434</td>\n",
       "      <td>-121.774</td>\n",
       "      <td>1520</td>\n",
       "      <td>9976</td>\n",
       "    </tr>\n",
       "    <tr>\n",
       "      <th>14533</th>\n",
       "      <td>5145100180</td>\n",
       "      <td>20140917T000000</td>\n",
       "      <td>325000</td>\n",
       "      <td>3</td>\n",
       "      <td>1.00</td>\n",
       "      <td>1150</td>\n",
       "      <td>7486</td>\n",
       "      <td>1.0</td>\n",
       "      <td>0</td>\n",
       "      <td>0</td>\n",
       "      <td>...</td>\n",
       "      <td>7</td>\n",
       "      <td>1150</td>\n",
       "      <td>0</td>\n",
       "      <td>1970</td>\n",
       "      <td>0</td>\n",
       "      <td>98034</td>\n",
       "      <td>47.7261</td>\n",
       "      <td>-122.219</td>\n",
       "      <td>1510</td>\n",
       "      <td>7486</td>\n",
       "    </tr>\n",
       "    <tr>\n",
       "      <th>9038</th>\n",
       "      <td>1526300015</td>\n",
       "      <td>20140612T000000</td>\n",
       "      <td>397990</td>\n",
       "      <td>3</td>\n",
       "      <td>1.00</td>\n",
       "      <td>1180</td>\n",
       "      <td>11862</td>\n",
       "      <td>1.0</td>\n",
       "      <td>0</td>\n",
       "      <td>0</td>\n",
       "      <td>...</td>\n",
       "      <td>7</td>\n",
       "      <td>1180</td>\n",
       "      <td>0</td>\n",
       "      <td>1948</td>\n",
       "      <td>0</td>\n",
       "      <td>98177</td>\n",
       "      <td>47.7153</td>\n",
       "      <td>-122.363</td>\n",
       "      <td>1540</td>\n",
       "      <td>8100</td>\n",
       "    </tr>\n",
       "    <tr>\n",
       "      <th>6813</th>\n",
       "      <td>806000020</td>\n",
       "      <td>20150310T000000</td>\n",
       "      <td>203000</td>\n",
       "      <td>3</td>\n",
       "      <td>1.50</td>\n",
       "      <td>1200</td>\n",
       "      <td>9120</td>\n",
       "      <td>1.0</td>\n",
       "      <td>0</td>\n",
       "      <td>0</td>\n",
       "      <td>...</td>\n",
       "      <td>7</td>\n",
       "      <td>1000</td>\n",
       "      <td>200</td>\n",
       "      <td>1963</td>\n",
       "      <td>0</td>\n",
       "      <td>98055</td>\n",
       "      <td>47.4545</td>\n",
       "      <td>-122.187</td>\n",
       "      <td>1640</td>\n",
       "      <td>9200</td>\n",
       "    </tr>\n",
       "  </tbody>\n",
       "</table>\n",
       "<p>10 rows × 21 columns</p>\n",
       "</div>"
      ],
      "text/plain": [
       "               id             date   price  bedrooms  bathrooms  sqft_living  \\\n",
       "8945   8655900100  20140807T000000  230950         2       1.00          930   \n",
       "21456  3362401761  20150225T000000  450000         2       1.50         1020   \n",
       "17614  2407000405  20150226T000000  228500         3       1.00         1080   \n",
       "3101     84000245  20141120T000000  190000         3       1.75         1100   \n",
       "7332   4310700020  20141010T000000  280000         3       1.00         1100   \n",
       "18754  6819100040  20140624T000000  631500         2       1.00         1130   \n",
       "6502   9407102360  20140616T000000  309212         3       1.75         1150   \n",
       "14533  5145100180  20140917T000000  325000         3       1.00         1150   \n",
       "9038   1526300015  20140612T000000  397990         3       1.00         1180   \n",
       "6813    806000020  20150310T000000  203000         3       1.50         1200   \n",
       "\n",
       "       sqft_lot  floors  waterfront  view     ...      grade  sqft_above  \\\n",
       "8945      12724     1.0           0     0     ...          6         930   \n",
       "21456      1049     3.0           0     0     ...          8        1020   \n",
       "17614      7486     1.5           0     0     ...          6         990   \n",
       "3101       9452     1.0           0     0     ...          6        1100   \n",
       "7332       5132     1.0           0     0     ...          6         840   \n",
       "18754      2640     1.0           0     0     ...          8        1130   \n",
       "6502       9600     1.0           0     0     ...          7        1150   \n",
       "14533      7486     1.0           0     0     ...          7        1150   \n",
       "9038      11862     1.0           0     0     ...          7        1180   \n",
       "6813       9120     1.0           0     0     ...          7        1000   \n",
       "\n",
       "       sqft_basement  yr_built  yr_renovated  zipcode      lat     long  \\\n",
       "8945               0      1912             0    98014  47.6567 -121.909   \n",
       "21456              0      2008             0    98103  47.6800 -122.348   \n",
       "17614             90      1942             0    98146  47.4838 -122.335   \n",
       "3101               0      1942             0    98146  47.4864 -122.337   \n",
       "7332             260      1948             0    98103  47.7011 -122.336   \n",
       "18754              0      1927             0    98109  47.6438 -122.357   \n",
       "6502               0      1979             0    98045  47.4434 -121.774   \n",
       "14533              0      1970             0    98034  47.7261 -122.219   \n",
       "9038               0      1948             0    98177  47.7153 -122.363   \n",
       "6813             200      1963             0    98055  47.4545 -122.187   \n",
       "\n",
       "       sqft_living15  sqft_lot15  \n",
       "8945            1240       21828  \n",
       "21456           1350        1395  \n",
       "17614           1170        7800  \n",
       "3101            1350        9452  \n",
       "7332            1280        5132  \n",
       "18754           1680        3200  \n",
       "6502            1520        9976  \n",
       "14533           1510        7486  \n",
       "9038            1540        8100  \n",
       "6813            1640        9200  \n",
       "\n",
       "[10 rows x 21 columns]"
      ]
     },
     "execution_count": 23,
     "metadata": {},
     "output_type": "execute_result"
    }
   ],
   "source": [
    "sales[0:10]  # Preview the first ten items of the dataset."
   ]
  },
  {
   "cell_type": "markdown",
   "metadata": {
    "pycharm": {
     "metadata": false
    }
   },
   "source": [
    "## Create new features\n",
    "\n",
    "We are going to create new features that are transformations of our inputs."
   ]
  },
  {
   "cell_type": "code",
   "execution_count": 24,
   "metadata": {
    "pycharm": {
     "metadata": false,
     "name": "#%%\n"
    }
   },
   "outputs": [],
   "source": [
    "from math import log, sqrt\n",
    "sales['sqft_living_sqrt'] = sales['sqft_living'].apply(sqrt)\n",
    "sales['sqft_lot_sqrt'] = sales['sqft_lot'].apply(sqrt)\n",
    "sales['bedrooms_square'] = sales['bedrooms']*sales['bedrooms']\n",
    "sales['floors_square'] = sales['floors']*sales['floors']"
   ]
  },
  {
   "cell_type": "markdown",
   "metadata": {
    "pycharm": {
     "metadata": false
    }
   },
   "source": [
    "* Squaring bedrooms will increase the separation between not many bedrooms (e.g. 1) and lots of bedrooms (e.g. 4) since 1^2 = 1 but 4^2 = 16. Consequently this variable will mostly affect houses with many bedrooms.\n",
    "* On the other hand, taking square root of sqft_living will decrease the separation between big house and small house. The owner may not be exactly twice as happy for getting a house that is twice as big."
   ]
  },
  {
   "cell_type": "code",
   "execution_count": 25,
   "metadata": {
    "pycharm": {
     "metadata": false,
     "name": "#%%\n"
    }
   },
   "outputs": [],
   "source": [
    "all_features = ['bedrooms', 'bedrooms_square',\n",
    "            'bathrooms',\n",
    "            'sqft_living', 'sqft_living_sqrt',\n",
    "            'sqft_lot', 'sqft_lot_sqrt',\n",
    "            'floors', 'floors_square',\n",
    "            'waterfront', 'view', 'condition', 'grade',\n",
    "            'sqft_above',\n",
    "            'sqft_basement',\n",
    "            'yr_built', 'yr_renovated']"
   ]
  },
  {
   "cell_type": "markdown",
   "metadata": {
    "pycharm": {
     "metadata": false
    }
   },
   "source": [
    "### Normalizing features\n",
    "\n",
    "Here's a function that will take in a feature column and normalize it. We will apply this function on all of the features that we will be using."
   ]
  },
  {
   "cell_type": "code",
   "execution_count": 26,
   "metadata": {
    "pycharm": {
     "metadata": false,
     "name": "#%%\n"
    }
   },
   "outputs": [],
   "source": [
    "def normalize(v):\n",
    "    largest = v.max()\n",
    "    if largest == 0: \n",
    "        return v\n",
    "    return v / largest"
   ]
  },
  {
   "cell_type": "code",
   "execution_count": 27,
   "metadata": {
    "pycharm": {
     "metadata": false,
     "name": "#%%\n"
    }
   },
   "outputs": [
    {
     "data": {
      "text/html": [
       "<div>\n",
       "<style scoped>\n",
       "    .dataframe tbody tr th:only-of-type {\n",
       "        vertical-align: middle;\n",
       "    }\n",
       "\n",
       "    .dataframe tbody tr th {\n",
       "        vertical-align: top;\n",
       "    }\n",
       "\n",
       "    .dataframe thead th {\n",
       "        text-align: right;\n",
       "    }\n",
       "</style>\n",
       "<table border=\"1\" class=\"dataframe\">\n",
       "  <thead>\n",
       "    <tr style=\"text-align: right;\">\n",
       "      <th></th>\n",
       "      <th>id</th>\n",
       "      <th>date</th>\n",
       "      <th>price</th>\n",
       "      <th>bedrooms</th>\n",
       "      <th>bathrooms</th>\n",
       "      <th>sqft_living</th>\n",
       "      <th>sqft_lot</th>\n",
       "      <th>floors</th>\n",
       "      <th>waterfront</th>\n",
       "      <th>view</th>\n",
       "      <th>...</th>\n",
       "      <th>yr_renovated</th>\n",
       "      <th>zipcode</th>\n",
       "      <th>lat</th>\n",
       "      <th>long</th>\n",
       "      <th>sqft_living15</th>\n",
       "      <th>sqft_lot15</th>\n",
       "      <th>sqft_living_sqrt</th>\n",
       "      <th>sqft_lot_sqrt</th>\n",
       "      <th>bedrooms_square</th>\n",
       "      <th>floors_square</th>\n",
       "    </tr>\n",
       "  </thead>\n",
       "  <tbody>\n",
       "    <tr>\n",
       "      <th>8945</th>\n",
       "      <td>8655900100</td>\n",
       "      <td>20140807T000000</td>\n",
       "      <td>230950</td>\n",
       "      <td>0.4</td>\n",
       "      <td>0.235294</td>\n",
       "      <td>0.166547</td>\n",
       "      <td>0.078734</td>\n",
       "      <td>0.333333</td>\n",
       "      <td>0.0</td>\n",
       "      <td>0.0</td>\n",
       "      <td>...</td>\n",
       "      <td>0.0</td>\n",
       "      <td>98014</td>\n",
       "      <td>47.6567</td>\n",
       "      <td>-121.909</td>\n",
       "      <td>1240</td>\n",
       "      <td>21828</td>\n",
       "      <td>0.408102</td>\n",
       "      <td>0.280596</td>\n",
       "      <td>0.16</td>\n",
       "      <td>0.111111</td>\n",
       "    </tr>\n",
       "    <tr>\n",
       "      <th>21456</th>\n",
       "      <td>3362401761</td>\n",
       "      <td>20150225T000000</td>\n",
       "      <td>450000</td>\n",
       "      <td>0.4</td>\n",
       "      <td>0.352941</td>\n",
       "      <td>0.182665</td>\n",
       "      <td>0.006491</td>\n",
       "      <td>1.000000</td>\n",
       "      <td>0.0</td>\n",
       "      <td>0.0</td>\n",
       "      <td>...</td>\n",
       "      <td>0.0</td>\n",
       "      <td>98103</td>\n",
       "      <td>47.6800</td>\n",
       "      <td>-122.348</td>\n",
       "      <td>1350</td>\n",
       "      <td>1395</td>\n",
       "      <td>0.427393</td>\n",
       "      <td>0.080567</td>\n",
       "      <td>0.16</td>\n",
       "      <td>1.000000</td>\n",
       "    </tr>\n",
       "    <tr>\n",
       "      <th>17614</th>\n",
       "      <td>2407000405</td>\n",
       "      <td>20150226T000000</td>\n",
       "      <td>228500</td>\n",
       "      <td>0.6</td>\n",
       "      <td>0.235294</td>\n",
       "      <td>0.193410</td>\n",
       "      <td>0.046322</td>\n",
       "      <td>0.500000</td>\n",
       "      <td>0.0</td>\n",
       "      <td>0.0</td>\n",
       "      <td>...</td>\n",
       "      <td>0.0</td>\n",
       "      <td>98146</td>\n",
       "      <td>47.4838</td>\n",
       "      <td>-122.335</td>\n",
       "      <td>1170</td>\n",
       "      <td>7800</td>\n",
       "      <td>0.439784</td>\n",
       "      <td>0.215226</td>\n",
       "      <td>0.36</td>\n",
       "      <td>0.250000</td>\n",
       "    </tr>\n",
       "    <tr>\n",
       "      <th>3101</th>\n",
       "      <td>84000245</td>\n",
       "      <td>20141120T000000</td>\n",
       "      <td>190000</td>\n",
       "      <td>0.6</td>\n",
       "      <td>0.411765</td>\n",
       "      <td>0.196991</td>\n",
       "      <td>0.058488</td>\n",
       "      <td>0.333333</td>\n",
       "      <td>0.0</td>\n",
       "      <td>0.0</td>\n",
       "      <td>...</td>\n",
       "      <td>0.0</td>\n",
       "      <td>98146</td>\n",
       "      <td>47.4864</td>\n",
       "      <td>-122.337</td>\n",
       "      <td>1350</td>\n",
       "      <td>9452</td>\n",
       "      <td>0.443837</td>\n",
       "      <td>0.241842</td>\n",
       "      <td>0.36</td>\n",
       "      <td>0.111111</td>\n",
       "    </tr>\n",
       "    <tr>\n",
       "      <th>7332</th>\n",
       "      <td>4310700020</td>\n",
       "      <td>20141010T000000</td>\n",
       "      <td>280000</td>\n",
       "      <td>0.6</td>\n",
       "      <td>0.235294</td>\n",
       "      <td>0.196991</td>\n",
       "      <td>0.031756</td>\n",
       "      <td>0.333333</td>\n",
       "      <td>0.0</td>\n",
       "      <td>0.0</td>\n",
       "      <td>...</td>\n",
       "      <td>0.0</td>\n",
       "      <td>98103</td>\n",
       "      <td>47.7011</td>\n",
       "      <td>-122.336</td>\n",
       "      <td>1280</td>\n",
       "      <td>5132</td>\n",
       "      <td>0.443837</td>\n",
       "      <td>0.178202</td>\n",
       "      <td>0.36</td>\n",
       "      <td>0.111111</td>\n",
       "    </tr>\n",
       "    <tr>\n",
       "      <th>18754</th>\n",
       "      <td>6819100040</td>\n",
       "      <td>20140624T000000</td>\n",
       "      <td>631500</td>\n",
       "      <td>0.4</td>\n",
       "      <td>0.235294</td>\n",
       "      <td>0.202364</td>\n",
       "      <td>0.016336</td>\n",
       "      <td>0.333333</td>\n",
       "      <td>0.0</td>\n",
       "      <td>0.0</td>\n",
       "      <td>...</td>\n",
       "      <td>0.0</td>\n",
       "      <td>98109</td>\n",
       "      <td>47.6438</td>\n",
       "      <td>-122.357</td>\n",
       "      <td>1680</td>\n",
       "      <td>3200</td>\n",
       "      <td>0.449849</td>\n",
       "      <td>0.127812</td>\n",
       "      <td>0.16</td>\n",
       "      <td>0.111111</td>\n",
       "    </tr>\n",
       "    <tr>\n",
       "      <th>6502</th>\n",
       "      <td>9407102360</td>\n",
       "      <td>20140616T000000</td>\n",
       "      <td>309212</td>\n",
       "      <td>0.6</td>\n",
       "      <td>0.411765</td>\n",
       "      <td>0.205946</td>\n",
       "      <td>0.059403</td>\n",
       "      <td>0.333333</td>\n",
       "      <td>0.0</td>\n",
       "      <td>0.0</td>\n",
       "      <td>...</td>\n",
       "      <td>0.0</td>\n",
       "      <td>98045</td>\n",
       "      <td>47.4434</td>\n",
       "      <td>-121.774</td>\n",
       "      <td>1520</td>\n",
       "      <td>9976</td>\n",
       "      <td>0.453812</td>\n",
       "      <td>0.243728</td>\n",
       "      <td>0.36</td>\n",
       "      <td>0.111111</td>\n",
       "    </tr>\n",
       "    <tr>\n",
       "      <th>14533</th>\n",
       "      <td>5145100180</td>\n",
       "      <td>20140917T000000</td>\n",
       "      <td>325000</td>\n",
       "      <td>0.6</td>\n",
       "      <td>0.235294</td>\n",
       "      <td>0.205946</td>\n",
       "      <td>0.046322</td>\n",
       "      <td>0.333333</td>\n",
       "      <td>0.0</td>\n",
       "      <td>0.0</td>\n",
       "      <td>...</td>\n",
       "      <td>0.0</td>\n",
       "      <td>98034</td>\n",
       "      <td>47.7261</td>\n",
       "      <td>-122.219</td>\n",
       "      <td>1510</td>\n",
       "      <td>7486</td>\n",
       "      <td>0.453812</td>\n",
       "      <td>0.215226</td>\n",
       "      <td>0.36</td>\n",
       "      <td>0.111111</td>\n",
       "    </tr>\n",
       "    <tr>\n",
       "      <th>9038</th>\n",
       "      <td>1526300015</td>\n",
       "      <td>20140612T000000</td>\n",
       "      <td>397990</td>\n",
       "      <td>0.6</td>\n",
       "      <td>0.235294</td>\n",
       "      <td>0.211318</td>\n",
       "      <td>0.073400</td>\n",
       "      <td>0.333333</td>\n",
       "      <td>0.0</td>\n",
       "      <td>0.0</td>\n",
       "      <td>...</td>\n",
       "      <td>0.0</td>\n",
       "      <td>98177</td>\n",
       "      <td>47.7153</td>\n",
       "      <td>-122.363</td>\n",
       "      <td>1540</td>\n",
       "      <td>8100</td>\n",
       "      <td>0.459693</td>\n",
       "      <td>0.270925</td>\n",
       "      <td>0.36</td>\n",
       "      <td>0.111111</td>\n",
       "    </tr>\n",
       "    <tr>\n",
       "      <th>6813</th>\n",
       "      <td>806000020</td>\n",
       "      <td>20150310T000000</td>\n",
       "      <td>203000</td>\n",
       "      <td>0.6</td>\n",
       "      <td>0.352941</td>\n",
       "      <td>0.214900</td>\n",
       "      <td>0.056433</td>\n",
       "      <td>0.333333</td>\n",
       "      <td>0.0</td>\n",
       "      <td>0.0</td>\n",
       "      <td>...</td>\n",
       "      <td>0.0</td>\n",
       "      <td>98055</td>\n",
       "      <td>47.4545</td>\n",
       "      <td>-122.187</td>\n",
       "      <td>1640</td>\n",
       "      <td>9200</td>\n",
       "      <td>0.463573</td>\n",
       "      <td>0.237557</td>\n",
       "      <td>0.36</td>\n",
       "      <td>0.111111</td>\n",
       "    </tr>\n",
       "  </tbody>\n",
       "</table>\n",
       "<p>10 rows × 25 columns</p>\n",
       "</div>"
      ],
      "text/plain": [
       "               id             date   price  bedrooms  bathrooms  sqft_living  \\\n",
       "8945   8655900100  20140807T000000  230950       0.4   0.235294     0.166547   \n",
       "21456  3362401761  20150225T000000  450000       0.4   0.352941     0.182665   \n",
       "17614  2407000405  20150226T000000  228500       0.6   0.235294     0.193410   \n",
       "3101     84000245  20141120T000000  190000       0.6   0.411765     0.196991   \n",
       "7332   4310700020  20141010T000000  280000       0.6   0.235294     0.196991   \n",
       "18754  6819100040  20140624T000000  631500       0.4   0.235294     0.202364   \n",
       "6502   9407102360  20140616T000000  309212       0.6   0.411765     0.205946   \n",
       "14533  5145100180  20140917T000000  325000       0.6   0.235294     0.205946   \n",
       "9038   1526300015  20140612T000000  397990       0.6   0.235294     0.211318   \n",
       "6813    806000020  20150310T000000  203000       0.6   0.352941     0.214900   \n",
       "\n",
       "       sqft_lot    floors  waterfront  view      ...        yr_renovated  \\\n",
       "8945   0.078734  0.333333         0.0   0.0      ...                 0.0   \n",
       "21456  0.006491  1.000000         0.0   0.0      ...                 0.0   \n",
       "17614  0.046322  0.500000         0.0   0.0      ...                 0.0   \n",
       "3101   0.058488  0.333333         0.0   0.0      ...                 0.0   \n",
       "7332   0.031756  0.333333         0.0   0.0      ...                 0.0   \n",
       "18754  0.016336  0.333333         0.0   0.0      ...                 0.0   \n",
       "6502   0.059403  0.333333         0.0   0.0      ...                 0.0   \n",
       "14533  0.046322  0.333333         0.0   0.0      ...                 0.0   \n",
       "9038   0.073400  0.333333         0.0   0.0      ...                 0.0   \n",
       "6813   0.056433  0.333333         0.0   0.0      ...                 0.0   \n",
       "\n",
       "       zipcode      lat     long  sqft_living15  sqft_lot15  sqft_living_sqrt  \\\n",
       "8945     98014  47.6567 -121.909           1240       21828          0.408102   \n",
       "21456    98103  47.6800 -122.348           1350        1395          0.427393   \n",
       "17614    98146  47.4838 -122.335           1170        7800          0.439784   \n",
       "3101     98146  47.4864 -122.337           1350        9452          0.443837   \n",
       "7332     98103  47.7011 -122.336           1280        5132          0.443837   \n",
       "18754    98109  47.6438 -122.357           1680        3200          0.449849   \n",
       "6502     98045  47.4434 -121.774           1520        9976          0.453812   \n",
       "14533    98034  47.7261 -122.219           1510        7486          0.453812   \n",
       "9038     98177  47.7153 -122.363           1540        8100          0.459693   \n",
       "6813     98055  47.4545 -122.187           1640        9200          0.463573   \n",
       "\n",
       "       sqft_lot_sqrt  bedrooms_square  floors_square  \n",
       "8945        0.280596             0.16       0.111111  \n",
       "21456       0.080567             0.16       1.000000  \n",
       "17614       0.215226             0.36       0.250000  \n",
       "3101        0.241842             0.36       0.111111  \n",
       "7332        0.178202             0.36       0.111111  \n",
       "18754       0.127812             0.16       0.111111  \n",
       "6502        0.243728             0.36       0.111111  \n",
       "14533       0.215226             0.36       0.111111  \n",
       "9038        0.270925             0.36       0.111111  \n",
       "6813        0.237557             0.36       0.111111  \n",
       "\n",
       "[10 rows x 25 columns]"
      ]
     },
     "execution_count": 27,
     "metadata": {},
     "output_type": "execute_result"
    }
   ],
   "source": [
    "for feature in all_features:\n",
    "    sales[feature] = normalize(sales[feature])\n",
    "    \n",
    "# Preview\n",
    "sales[0:10]"
   ]
  },
  {
   "cell_type": "markdown",
   "metadata": {
    "pycharm": {
     "metadata": false
    }
   },
   "source": [
    "## Train, Test and Validation sets.\n",
    "\n",
    "We stressed in lecture on the importance of splitting the data into training and test sets. We will also create a validation set from the training set which will allow us to explore multiple values for L1 and L2 penalties later on.\n",
    "\n",
    "Let us do three way split into train, validation, and test sets:\n",
    "* Split our sales data into 2 sets: training (90%) and test (10%)\n",
    "* Further split our training data into two sets: train (50%), validation (50%)\n",
    "\n",
    "**Be *very* careful that you use seed = 0 to ensure you get the same answer!**\n",
    "\n",
    "\n",
    "Note: Use the previous given `random_split()` to split data."
   ]
  },
  {
   "cell_type": "code",
   "execution_count": 30,
   "metadata": {},
   "outputs": [],
   "source": [
    "# Student Edition\n",
    "\n",
    "# initial train/test split\n",
    "(training_and_validation, testing) = random_split(sales, 0.9, seed=0)\n",
    "\n",
    "# split training into train and validate\n",
    "(training, validation) = random_split(training_and_validation, 0.5, seed=0)"
   ]
  },
  {
   "cell_type": "markdown",
   "metadata": {},
   "source": [
    "### Next, we write a loop that does the following:\n",
    "\n",
    "* For l2_penalty in [10^-5, 10^-4, 10^-3, ..., 10^3] (to get this in Python, type `np.logspace(-5, 3, num=8)`.)\n",
    "* Fit a regression model with a given l2_penalty on TRAIN data. Specify `alpha=l2_penalty` in the parameter list.\n",
    "* Evaluate the model on VALIDATION data (here you will want to use `sk.metrics.mean_squared_error()` for that l2_penalty and find the RMSE.\n",
    "* Report which L2 penalty produced the lowest RMSE on validation data.    \n",
    "\n",
    "* Note: Scikit-Learn only provides MSE. What do we need to do to find RMSE?\n",
    "* You can use functions from the `math` package, although it is optional."
   ]
  },
  {
   "cell_type": "code",
   "execution_count": 31,
   "metadata": {},
   "outputs": [],
   "source": [
    "# # Student Edition\n",
    "# from sklearn.metrics import mean_squared_error\n",
    "import math\n",
    "l2_penalties = np.logspace(-5, 3, num = 8)\n",
    "rmse_all = []\n",
    "ridge_models = []\n",
    "\n",
    "for l2_penalty in l2_penalties:\n",
    "    model = Ridge(alpha = l2_penalty).fit(training[all_features], training['price'])\n",
    "    # Don't forget to do something with ridge_models\n",
    "    ridge_models.append(model)\n",
    "    rmse = math.sqrt(sk.metrics.mean_squared_error(validation['price'], model.predict(validation[all_features])))\n",
    "    # Don't forget to do something with rmse_all\n",
    "    rmse_all.append(rmse)"
   ]
  },
  {
   "cell_type": "markdown",
   "metadata": {
    "pycharm": {
     "metadata": false
    }
   },
   "source": [
    "### Q6) Run the code below to see which l2 penalty gave you the lowest RMSE. What was the l2 penalty?\n"
   ]
  },
  {
   "cell_type": "code",
   "execution_count": 32,
   "metadata": {},
   "outputs": [],
   "source": [
    "# This function takes in a model column and a features column. \n",
    "# And prints the coefficient along with its feature name.\n",
    "def print_rows(model, features):\n",
    "    feat = list(zip(model.coef_, features))\n",
    "    print(*feat, sep = \"\\n\")"
   ]
  },
  {
   "cell_type": "code",
   "execution_count": 33,
   "metadata": {},
   "outputs": [
    {
     "name": "stdout",
     "output_type": "stream",
     "text": [
      "l2_penalty: 5.179474679231202\n",
      "(13099.885932283849, 'bedrooms')\n",
      "(12697.999278066134, 'bedrooms_square')\n",
      "(224150.53276275424, 'bathrooms')\n",
      "(238203.09544240695, 'sqft_living')\n",
      "(158387.3562525352, 'sqft_living_sqrt')\n",
      "(63001.0645980582, 'sqft_lot')\n",
      "(97380.82974770931, 'sqft_lot_sqrt')\n",
      "(60448.3266442922, 'floors')\n",
      "(60639.80950325303, 'floors_square')\n",
      "(140335.2052319032, 'waterfront')\n",
      "(382300.68409480364, 'view')\n",
      "(1233.1510852629426, 'condition')\n",
      "(159068.62496572506, 'grade')\n",
      "(271129.9618704728, 'sqft_above')\n",
      "(-112111.964716049, 'sqft_basement')\n",
      "(4974.20515097947, 'yr_built')\n",
      "(5570.72886256864, 'yr_renovated')\n"
     ]
    }
   ],
   "source": [
    "print('l2_penalty: ' + str(l2_penalties[rmse_all.index(min(rmse_all))]))\n",
    "\n",
    "print_rows(ridge_models[rmse_all.index(min(rmse_all))], all_features)"
   ]
  },
  {
   "cell_type": "code",
   "execution_count": 34,
   "metadata": {
    "pycharm": {
     "metadata": false,
     "name": "#%%\n"
    }
   },
   "outputs": [
    {
     "data": {
      "text/plain": [
       "Text(0, 0.5, 'RMSE')"
      ]
     },
     "execution_count": 34,
     "metadata": {},
     "output_type": "execute_result"
    },
    {
     "data": {
      "image/png": "[encoded data removed]",
      "text/plain": [
       "<Figure size 432x288 with 1 Axes>"
      ]
     },
     "metadata": {
      "needs_background": "light"
     },
     "output_type": "display_data"
    }
   ],
   "source": [
    "plt.plot(l2_penalties,rmse_all,'b-o')\n",
    "plt.xscale('log')\n",
    "plt.xlabel('l2_penalty')\n",
    "plt.ylabel('RMSE')"
   ]
  },
  {
   "cell_type": "markdown",
   "metadata": {},
   "source": [
    "### <span style=\"color:red\">Q6 Answer: 5.179474679231202 </span>"
   ]
  },
  {
   "cell_type": "markdown",
   "metadata": {
    "pycharm": {
     "metadata": false
    }
   },
   "source": [
    "### Q7) What is the RMSE on TEST data of the model with the best l2_penalty?"
   ]
  },
  {
   "cell_type": "code",
   "execution_count": 67,
   "metadata": {},
   "outputs": [
    {
     "name": "stdout",
     "output_type": "stream",
     "text": [
      "TEST RMSE 134165.84314066786\n"
     ]
    }
   ],
   "source": [
    "# Student Edition\n",
    "\n",
    "l2_penalty = 5.179474679231202 \n",
    "ridgereg = Ridge(alpha = l2_penalty, normalize = True)\n",
    "model = ridgereg.fit(training[all_features], training['price'])\n",
    "rmse = math.sqrt(sk.metrics.mean_squared_error(testing['price'], model.predict(testing[all_features])))\n",
    "\n",
    "print('TEST RMSE', rmse)"
   ]
  },
  {
   "cell_type": "markdown",
   "metadata": {},
   "source": [
    "### <span style=\"color:red\">Q7 Answer: 134165.84314066786</span>"
   ]
  },
  {
   "cell_type": "markdown",
   "metadata": {
    "pycharm": {
     "metadata": false
    }
   },
   "source": [
    "## LASSO Regression\n",
    "\n",
    "Let's see a demonstration of LASSO regressions feature selection. Let's fit a model with a high penalty of l1_penalty=`1e3`."
   ]
  },
  {
   "cell_type": "code",
   "execution_count": 36,
   "metadata": {
    "pycharm": {
     "metadata": false,
     "name": "#%%\n"
    }
   },
   "outputs": [],
   "source": [
    "from sklearn.linear_model import Lasso\n",
    "lasso_high_penalty = Lasso(alpha = 1e3, normalize=True).fit(training[all_features], training['price'])"
   ]
  },
  {
   "cell_type": "markdown",
   "metadata": {
    "pycharm": {
     "metadata": false
    }
   },
   "source": [
    "### Q8) With this model, which features were NOT chosen?"
   ]
  },
  {
   "cell_type": "markdown",
   "metadata": {
    "pycharm": {
     "metadata": false
    }
   },
   "source": [
    "Find what features had zero weights."
   ]
  },
  {
   "cell_type": "code",
   "execution_count": 60,
   "metadata": {},
   "outputs": [
    {
     "data": {
      "text/plain": [
       "array([ -137505.74152541,       -0.        ,   110011.20125168,\n",
       "              0.        ,       -0.        ,       -0.        ,\n",
       "        -225664.40585139,  -314074.16162441,       -0.        ,\n",
       "        -227027.45591329,  1517884.29359021,   355535.33372862,\n",
       "        1330157.67253439,  1275699.54501497,  -244030.52368519,\n",
       "       -3416634.74917455,       -0.        ])"
      ]
     },
     "execution_count": 60,
     "metadata": {},
     "output_type": "execute_result"
    }
   ],
   "source": [
    "# Student Edition\n",
    "lasso_high_penalty.coef_\n"
   ]
  },
  {
   "cell_type": "markdown",
   "metadata": {},
   "source": [
    "### <span style=\"color:red\">Q8 Answer: bedrooms_square, sqft_living, sqft_living_sqrt, sqft_lot, floors_square, yr_renovated</span>"
   ]
  },
  {
   "cell_type": "markdown",
   "metadata": {
    "pycharm": {
     "metadata": false
    }
   },
   "source": [
    "## Learn the best L1 penalty\n",
    "\n",
    "Let's go repeat the same process we followed for Ridge Regression to find the best `l1_penalty`.\n",
    "\n",
    "Next, we write a loop that does the following:\n",
    "* For `l1_penalty` in [10^3, ..., 10^7] (to get this in Python, type `np.logspace(3, 7, num=10)`.)\n",
    "    * Fit a regression model with a given `l1_penalty` on TRAIN data. Specify `alpha=l1_penalty` in the parameter list.\n",
    "    * Evaluate the model on VALIDATION data (here you will want to use `.mean_squared_error()` for that `l1_penalty` and find the RMSE.\n",
    "* Report which L2 penalty produced the lowest RMSE on validation data.\n"
   ]
  },
  {
   "cell_type": "code",
   "execution_count": 61,
   "metadata": {
    "pycharm": {
     "metadata": false,
     "name": "#%%\n"
    }
   },
   "outputs": [],
   "source": [
    "# Student Edition\n",
    "l1_penalties = np.logspace(3, 7, num=10)\n",
    "rmse_all = []\n",
    "lasso_models = []\n",
    "\n",
    "for l1_penalty in l1_penalties:\n",
    "    model = Lasso(alpha = l1_penalty, normalize=True).fit(training[all_features], training['price'])\n",
    "    lasso_models.append(model)\n",
    "    \n",
    "    rmse = math.sqrt(sk.metrics.mean_squared_error(validation['price'], model.predict(validation[all_features])))\n",
    "    rmse_all.append(rmse)"
   ]
  },
  {
   "cell_type": "markdown",
   "metadata": {
    "pycharm": {
     "metadata": false
    }
   },
   "source": [
    "### Q9) Run the code below to see which `l1 penalty` gave you the lowest RMSE. What was the `l1 penalty`?"
   ]
  },
  {
   "cell_type": "code",
   "execution_count": 62,
   "metadata": {
    "pycharm": {
     "metadata": false,
     "name": "#%%\n"
    }
   },
   "outputs": [
    {
     "name": "stdout",
     "output_type": "stream",
     "text": [
      "21544.346900318822\n"
     ]
    }
   ],
   "source": [
    "print(l1_penalties[rmse_all.index(min(rmse_all))])"
   ]
  },
  {
   "cell_type": "markdown",
   "metadata": {
    "pycharm": {
     "metadata": false
    }
   },
   "source": [
    "Let's visualize this. We are using a log scale on our x axis."
   ]
  },
  {
   "cell_type": "code",
   "execution_count": 63,
   "metadata": {
    "pycharm": {
     "metadata": false,
     "name": "#%%\n"
    }
   },
   "outputs": [
    {
     "data": {
      "text/plain": [
       "Text(0, 0.5, 'RMSE')"
      ]
     },
     "execution_count": 63,
     "metadata": {},
     "output_type": "execute_result"
    },
    {
     "data": {
      "image/png": "[encoded data removed]",
      "text/plain": [
       "<Figure size 432x288 with 1 Axes>"
      ]
     },
     "metadata": {
      "needs_background": "light"
     },
     "output_type": "display_data"
    }
   ],
   "source": [
    "plt.plot(l1_penalties,rmse_all,'b-o')\n",
    "plt.xscale('log')\n",
    "plt.xlabel('l1_penalty')\n",
    "plt.ylabel('RMSE')"
   ]
  },
  {
   "cell_type": "markdown",
   "metadata": {},
   "source": [
    "### <span style=\"color:red\">Q9 Answer: 21544.346900318822</span>"
   ]
  },
  {
   "cell_type": "markdown",
   "metadata": {
    "pycharm": {
     "metadata": false
    }
   },
   "source": [
    "### Q10) What is the RMSE on TEST data of the model with the best `l1_penalty`?"
   ]
  },
  {
   "cell_type": "code",
   "execution_count": 64,
   "metadata": {},
   "outputs": [
    {
     "name": "stdout",
     "output_type": "stream",
     "text": [
      "Best L1 Penalty 21544.346900318822\n",
      "TEST RMSE 111636.01486426743\n"
     ]
    }
   ],
   "source": [
    "# Student Edition\n",
    "l1_penalties = np.logspace(3, 7, num=10)\n",
    "rmse_all = []\n",
    "lasso_models = []\n",
    "\n",
    "for l1_penalty in l1_penalties:\n",
    "    model = Lasso(alpha = l1_penalty).fit(training[all_features], training['price'])\n",
    "    lasso_models.append(model)\n",
    "    \n",
    "    rmse = math.sqrt(sk.metrics.mean_squared_error(testing['price'], model.predict(testing[all_features])))\n",
    "    rmse_all.append(rmse)\n",
    "best_l1_penalty = l1_penalties[rmse_all.index(min(rmse_all))]\n",
    "best_lasso_model = lasso_models[rmse_all.index(min(rmse_all))]\n",
    "test_rmse = rmse_all[rmse_all.index(min(rmse_all))]\n",
    "print('Best L1 Penalty', best_l1_penalty)\n",
    "print('TEST RMSE', test_rmse)"
   ]
  },
  {
   "cell_type": "markdown",
   "metadata": {},
   "source": [
    "### <span style=\"color:red\">Q10 Answer: 111636.01486426743</span>"
   ]
  },
  {
   "cell_type": "markdown",
   "metadata": {
    "pycharm": {
     "metadata": false
    }
   },
   "source": [
    "### Q11) Now that we've trained a model with the best `l1_penalty`, which features were CHOSEN?"
   ]
  },
  {
   "cell_type": "code",
   "execution_count": 66,
   "metadata": {},
   "outputs": [
    {
     "data": {
      "text/plain": [
       "array([      0.        ,       0.        ,       0.        ,\n",
       "             0.        ,       0.        ,       0.        ,\n",
       "             0.        ,       0.        ,       0.        ,\n",
       "             0.        , 1021212.43853086,       0.        ,\n",
       "             0.        , 1059251.42715063,      -0.        ,\n",
       "             0.        ,       0.        ])"
      ]
     },
     "execution_count": 66,
     "metadata": {},
     "output_type": "execute_result"
    }
   ],
   "source": [
    "# Student Edition\n",
    "# Write your answer here.\n",
    "lasso_best_penalty = Lasso(alpha = best_l1_penalty).fit(training[all_features], training['price'])\n",
    "lasso_best_penalty.coef_"
   ]
  },
  {
   "cell_type": "markdown",
   "metadata": {},
   "source": [
    "### <span style=\"color:red\">Q11 Answer:view, sqft_above </span>"
   ]
  },
  {
   "cell_type": "markdown",
   "metadata": {
    "pycharm": {
     "metadata": false
    }
   },
   "source": [
    "### Q12) Which did better? Ridge or LASSO?\n",
    "a) Ridge regression  \n",
    "b) LASSO"
   ]
  },
  {
   "cell_type": "markdown",
   "metadata": {},
   "source": [
    "### <span style=\"color:red\">Q12 Answer:b) LASSO </span>"
   ]
  },
  {
   "cell_type": "markdown",
   "metadata": {},
   "source": [
    "Note: For Q13 and Q14, you can use `<span style=\"color:red\">Text</span>` to make your answer red, so it is easier to see."
   ]
  },
  {
   "cell_type": "markdown",
   "metadata": {
    "pycharm": {
     "metadata": false
    }
   },
   "source": [
    "### Q13) Why would we want to use Ridge over Lasso?\n",
    "### <span style=\"color:red\">Q13 Answer: </span>\n",
    "Select all that apply:\n",
    "* Feature Selection \n",
    "* <span style=\"color:red\"> Usually gives lower true error</span>\n",
    "* Computationally more efficient.\n",
    "* <span style=\"color:red\"> Usually gives lower test error</span>\n",
    "* Guaranteed to converge to the global optimum in all cases"
   ]
  },
  {
   "cell_type": "markdown",
   "metadata": {
    "pycharm": {
     "metadata": false
    }
   },
   "source": [
    "### Q14) Why would we want to use Lasso over Ridge?\n",
    "### <span style=\"color:red\">Q14 Answer: </span>\n",
    "Select all that apply:\n",
    "* <span style=\"color:red\">Feature Selection </span>\n",
    "* Usually gives lower true error\n",
    "* <span style=\"color:red\">Computationally more efficient. </span>\n",
    "* Usually gives lower test error\n",
    "* Guaranteed to converge to the global optimum in all cases"
   ]
  },
  {
   "cell_type": "markdown",
   "metadata": {},
   "source": [
    "### That's it! You made it! \n",
    "### If you dislike this homework, tell Prof. Oh why it is a good idea to fire me. But if you like it, hit like, subscribe to the quiz section, or consider turning in your homework in Canvas before the deadline. While you are there, make sure to submit your quiz AND your notebook! We don't have a merch store so you can't buy a cool T-shirt, but there is a [really cool online discussion board](https://canvas.uw.edu/courses/1271722/discussion_topics), which you should totally join. "
   ]
  },
  {
   "cell_type": "code",
   "execution_count": null,
   "metadata": {},
   "outputs": [],
   "source": []
  }
 ],
 "metadata": {
  "kernelspec": {
   "display_name": "Python 3",
   "language": "python",
   "name": "python3"
  },
  "language_info": {
   "codemirror_mode": {
    "name": "ipython",
    "version": 3
   },
   "file_extension": ".py",
   "mimetype": "text/x-python",
   "name": "python",
   "nbconvert_exporter": "python",
   "pygments_lexer": "ipython3",
   "version": "3.6.7"
  },
  "stem_cell": {
   "cell_type": "raw",
   "metadata": {
    "pycharm": {
     "metadata": false
    }
   },
   "source": ""
  }
 },
 "nbformat": 4,
 "nbformat_minor": 1
}
