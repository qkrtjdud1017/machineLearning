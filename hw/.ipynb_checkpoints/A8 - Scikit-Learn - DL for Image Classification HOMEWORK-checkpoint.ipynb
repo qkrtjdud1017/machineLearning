{
 "cells": [
  {
   "cell_type": "markdown",
   "metadata": {},
   "source": [
    "# Assignment 8 - Using Deep Features for Image Classification\n",
    "\n",
    "### <span style=\"color:red\">THIS IS HOMEWORK.</span>\n",
    "### <span style=\"color:red\">Part 1 of 2.</span>\n",
    "### Due: June 6, 11:59 pm on Canvas.\n",
    "> **Copyright ©2019 University of Washington**  \n",
    "\n",
    "> **Emily Fox**, author of the TuriCreate based version of this assignment.  \n",
    "> **Sewoong Oh**, instructor of CSE/STAT 416 for Spring 2019.     \n",
    "> **Hongjun Wu**, revisor of the Scikit-Learn based version of this assignment.    \n",
    "> **Henry Wong**, revised the 2nd part of this assignment.    \n",
    "> **All rights reserved.**\n",
    "\n",
    "### Clarification\n",
    "* <span style=\"color:red\">Read & post to [Assignment 8 Clarifications](https://canvas.uw.edu/courses/1271722/discussion_topics/4846944) if you are not sure of something.</span>\n",
    "\n",
    "### Purpose\n",
    "* We will explore the use of deep learning. \n",
    "* We will work through the deep learning workflow using an image classification exercise. \n",
    " \n",
    "### Method & Summary\n",
    "* We will use CIFAR-10 image dataset to create a deep learning model to classify an image between four categories.\n",
    "* Note: since neural networks can take a long time to train, we have already trained a generic **feature extractor** using a convolutional neural network. (This feature extractor produces a vector that is a useful representation of the concepts in the image.) Now, the goal is to take the features extracted by the original neural network to perform a different image classification task.\n",
    "\n",
    "### Permission\n",
    "* Permission is hereby granted to students registered for University of Washington CSE/STAT 416.\n",
    "* For use solely during Spring Quarter 2019 for purposes of the course.  \n",
    "* No other use, copying, distribution, or modification is permitted without prior written consent. \n",
    "* Copyrights for third-party components of this work must be honored.  \n",
    "* Instructors interested in reusing these course materials should contact the author.\n",
    "\n",
    "> * If you have any questions or you are unclear what we are refering to in this homework, please do not hesitate to reach out! Post a discussion and we would love to listen to and answer your questions. Hope you enjoy this assignment! "
   ]
  },
  {
   "cell_type": "markdown",
   "metadata": {},
   "source": [
    "### Hey smart humans welcome to DEEP LEARNING!!! THE MAGIC ~~(Nope there is no magic in CS just math and a bunch of numbers)~~\n",
    "* In this assignment, you will play around with image classification and image retrieval.\n",
    "* Many thanks for Henry Wang who helped me finished the 2nd part of this assignment! He is a nice guy!\n",
    "* Now, let's have some sweet sweet deep learning shall we?\n",
    "* BTW all the memes are from a FB group called `(AI Memes) AI & Deep Learning Memes for Back-Propagated Poets` that Joshua discovered which you are now smart enough to understand most of its contents.\n",
    "> <img align=\"right\" src=\"https://i.imgur.com/DlD3uxj.jpg\" alt=\"meme\" width=\"250\">\n",
    "> Like always, things written in blockquotes are completely optional."
   ]
  },
  {
   "cell_type": "markdown",
   "metadata": {},
   "source": [
    "## Import Packages"
   ]
  },
  {
   "cell_type": "code",
   "execution_count": 1,
   "metadata": {},
   "outputs": [],
   "source": [
    "# Import Statement\n",
    "import sklearn as sk\n",
    "import pandas as pd\n",
    "import numpy as np\n",
    "import matplotlib.pyplot as plt\n",
    "\n",
    "# Magic Function (Like...magic)\n",
    "# Interested? Don't know what it means? Read this!\n",
    "# https://stackoverflow.com/questions/43027980/purpose-of-matplotlib-inline\n",
    "%matplotlib inline\n",
    "\n",
    "# Make Pandas print more stuff\n",
    "pd.set_option('display.max_rows', 500)\n",
    "pd.set_option('display.max_columns', 500)\n",
    "pd.set_option('display.width', 1000)"
   ]
  },
  {
   "cell_type": "markdown",
   "metadata": {},
   "source": [
    "## Load Image Dataset\n",
    "* [CIFAR-10](https://github.com/EN10/CIFAR) is a very popular image dataset, and it is really good for teaching purposes.\n",
    "* We will be using a customized version of the data so it only has 4 categories: `cat`,`bird`,`automobile`,`dog`."
   ]
  },
  {
   "cell_type": "markdown",
   "metadata": {},
   "source": [
    "> * Advanced Question: Why don't we just import Keras and use the CIFAR-10 in Keras (and Keras itself) instead?\n",
    "    * BTW Keras is a high-level API to build and train deep learning models. \n",
    "        * It's used for fast prototyping, advanced research, and production. \n",
    "        * You should DEFINITELY learn more about it if you are into deep learning!\n",
    "    * To reduce the amount of computing power needed to complete this assignment (So even just use CPU won't take forever), we pre-trained some deep features for you so you don't need to sit in front of the computer all day and waste your precious exam prep time.\n",
    "    * Well in real world if it take forever just go and buy yourself a coffee, no big deal.    \n",
    "<img align=\"center\" src=\"https://i.imgur.com/LjJT3Ng.jpg\" alt=\"meme\" width=\"200\">"
   ]
  },
  {
   "cell_type": "markdown",
   "metadata": {},
   "source": [
    ">* Okay, in real world you won't be playing with CIFAR-10 anyways.\n",
    "* There are many cool things you can do when you really get into deep learning!\n",
    "* We use DL in many ways, like in research, we use DL algorithms to analyze pictures taken by the Large Hadron Collider in Switzerland to discover dark matter!\n",
    "* If you are interested, please continue to learn more after this course, and go change the world 😀\n",
    "<img align=\"center\" src=\"https://i.imgur.com/nrmeYQl.jpg\" alt=\"meme\" width=\"300\">"
   ]
  },
  {
   "cell_type": "code",
   "execution_count": 4,
   "metadata": {},
   "outputs": [],
   "source": [
    "image_train = pd.read_csv('/data/image_train_data.csv')\n",
    "image_test = pd.read_csv('/data/image_test_data.csv')"
   ]
  },
  {
   "cell_type": "markdown",
   "metadata": {},
   "source": [
    "* Let's take a look at this dataset.  **The length of the training set should be 2005.** "
   ]
  },
  {
   "cell_type": "code",
   "execution_count": 5,
   "metadata": {},
   "outputs": [
    {
     "name": "stdout",
     "output_type": "stream",
     "text": [
      "Length of the training set:  2005\n"
     ]
    },
    {
     "data": {
      "text/html": [
       "<div>\n",
       "<style scoped>\n",
       "    .dataframe tbody tr th:only-of-type {\n",
       "        vertical-align: middle;\n",
       "    }\n",
       "\n",
       "    .dataframe tbody tr th {\n",
       "        vertical-align: top;\n",
       "    }\n",
       "\n",
       "    .dataframe thead th {\n",
       "        text-align: right;\n",
       "    }\n",
       "</style>\n",
       "<table border=\"1\" class=\"dataframe\">\n",
       "  <thead>\n",
       "    <tr style=\"text-align: right;\">\n",
       "      <th></th>\n",
       "      <th>id</th>\n",
       "      <th>image</th>\n",
       "      <th>label</th>\n",
       "      <th>deep_features</th>\n",
       "      <th>image_array</th>\n",
       "    </tr>\n",
       "  </thead>\n",
       "  <tbody>\n",
       "    <tr>\n",
       "      <th>0</th>\n",
       "      <td>24</td>\n",
       "      <td>Height: 32 Width: 32</td>\n",
       "      <td>bird</td>\n",
       "      <td>[0.242872 1.09545 0 0.39363 0 0 11.8949 0 0 0 ...</td>\n",
       "      <td>[73 77 58 71 68 50 77 69 44 120 116 83 125 120...</td>\n",
       "    </tr>\n",
       "    <tr>\n",
       "      <th>1</th>\n",
       "      <td>33</td>\n",
       "      <td>Height: 32 Width: 32</td>\n",
       "      <td>cat</td>\n",
       "      <td>[0.525088 0 0 0 0 0 9.94829 0 0 0 0 0 1.01264 ...</td>\n",
       "      <td>[7 5 8 7 5 8 5 4 6 7 4 7 11 5 9 11 5 9 17 11 1...</td>\n",
       "    </tr>\n",
       "    <tr>\n",
       "      <th>2</th>\n",
       "      <td>36</td>\n",
       "      <td>Height: 32 Width: 32</td>\n",
       "      <td>cat</td>\n",
       "      <td>[0.566016 0 0 0 0 0 9.9972 0 0 0 1.38345 0 0.7...</td>\n",
       "      <td>[169 122 65 131 108 75 193 196 192 218 221 222...</td>\n",
       "    </tr>\n",
       "    <tr>\n",
       "      <th>3</th>\n",
       "      <td>70</td>\n",
       "      <td>Height: 32 Width: 32</td>\n",
       "      <td>dog</td>\n",
       "      <td>[1.1298 0 0 0.778194 0 0.758051 9.83053 0 0 0....</td>\n",
       "      <td>[154 179 152 159 183 157 165 189 162 174 199 1...</td>\n",
       "    </tr>\n",
       "    <tr>\n",
       "      <th>4</th>\n",
       "      <td>90</td>\n",
       "      <td>Height: 32 Width: 32</td>\n",
       "      <td>bird</td>\n",
       "      <td>[1.71787 0 0 0 0 0 9.33936 0 0 0 0 0 0.412137 ...</td>\n",
       "      <td>[216 195 180 201 178 160 210 184 164 212 188 1...</td>\n",
       "    </tr>\n",
       "  </tbody>\n",
       "</table>\n",
       "</div>"
      ],
      "text/plain": [
       "   id                 image label                                      deep_features                                        image_array\n",
       "0  24  Height: 32 Width: 32  bird  [0.242872 1.09545 0 0.39363 0 0 11.8949 0 0 0 ...  [73 77 58 71 68 50 77 69 44 120 116 83 125 120...\n",
       "1  33  Height: 32 Width: 32   cat  [0.525088 0 0 0 0 0 9.94829 0 0 0 0 0 1.01264 ...  [7 5 8 7 5 8 5 4 6 7 4 7 11 5 9 11 5 9 17 11 1...\n",
       "2  36  Height: 32 Width: 32   cat  [0.566016 0 0 0 0 0 9.9972 0 0 0 1.38345 0 0.7...  [169 122 65 131 108 75 193 196 192 218 221 222...\n",
       "3  70  Height: 32 Width: 32   dog  [1.1298 0 0 0.778194 0 0.758051 9.83053 0 0 0....  [154 179 152 159 183 157 165 189 162 174 199 1...\n",
       "4  90  Height: 32 Width: 32  bird  [1.71787 0 0 0 0 0 9.33936 0 0 0 0 0 0.412137 ...  [216 195 180 201 178 160 210 184 164 212 188 1..."
      ]
     },
     "execution_count": 5,
     "metadata": {},
     "output_type": "execute_result"
    }
   ],
   "source": [
    "print('Length of the training set: ', len(image_train))\n",
    "image_train[0:5]"
   ]
  },
  {
   "cell_type": "markdown",
   "metadata": {},
   "source": [
    "* This dataset has the following columns:\n",
    "    * `id` of the image.\n",
    "    * `label` of the image.\n",
    "    * `image` the resolution of the image.\n",
    "    * `deep_features` that we pre-trained. We'll discuss these more later.\n",
    "    * `image_array` that stores the data of the image.\n",
    "        * For each pixel, there is a R(Red), G(Green), B(Blue) value to represent the color of that pixel, and that is what in the `image_array`."
   ]
  },
  {
   "cell_type": "markdown",
   "metadata": {},
   "source": [
    "## Reformat Data\n",
    "(Credits to Henry Wang for this section)\n",
    "\n",
    "* Notice how the arrays given in the `deep_features` and `image_array` columns don't have commas? They're actually strings! :O\n",
    "    * This is due to how the DataFrame was saved as a `.CSV` file. \n",
    "    * ~~(More because the previous version used a complete different old ML framework, as well as a different data structure and makes EVERYTHING complicated...ugh but in real world you will get poorly formated data sometime in your ML career so this is useful)~~\n",
    "* Thils will make our life difficult later when we are trying to do computations, since the input to our models must be a properly-formatted array. So we will do some preprocessing. \n",
    "* We will change the two columns from `str` type to numpy arrays, and also change the `id` column from `str` to `int`. "
   ]
  },
  {
   "cell_type": "code",
   "execution_count": 6,
   "metadata": {},
   "outputs": [],
   "source": [
    "def str_to_array(array_str):\n",
    "    array = eval(array_str.replace(' ', ','))\n",
    "    return np.array(array)\n",
    "\n",
    "for dataset in [image_test, image_train]:\n",
    "    for column in ['deep_features', 'image_array']:\n",
    "        dataset[column] = dataset[column].apply(str_to_array)\n",
    "    dataset['id'] = dataset['id'].astype(int)"
   ]
  },
  {
   "cell_type": "code",
   "execution_count": 7,
   "metadata": {},
   "outputs": [
    {
     "data": {
      "text/html": [
       "<div>\n",
       "<style scoped>\n",
       "    .dataframe tbody tr th:only-of-type {\n",
       "        vertical-align: middle;\n",
       "    }\n",
       "\n",
       "    .dataframe tbody tr th {\n",
       "        vertical-align: top;\n",
       "    }\n",
       "\n",
       "    .dataframe thead th {\n",
       "        text-align: right;\n",
       "    }\n",
       "</style>\n",
       "<table border=\"1\" class=\"dataframe\">\n",
       "  <thead>\n",
       "    <tr style=\"text-align: right;\">\n",
       "      <th></th>\n",
       "      <th>id</th>\n",
       "      <th>image</th>\n",
       "      <th>label</th>\n",
       "      <th>deep_features</th>\n",
       "      <th>image_array</th>\n",
       "    </tr>\n",
       "  </thead>\n",
       "  <tbody>\n",
       "    <tr>\n",
       "      <th>0</th>\n",
       "      <td>24</td>\n",
       "      <td>Height: 32 Width: 32</td>\n",
       "      <td>bird</td>\n",
       "      <td>[0.242872, 1.09545, 0.0, 0.39363, 0.0, 0.0, 11...</td>\n",
       "      <td>[73, 77, 58, 71, 68, 50, 77, 69, 44, 120, 116,...</td>\n",
       "    </tr>\n",
       "    <tr>\n",
       "      <th>1</th>\n",
       "      <td>33</td>\n",
       "      <td>Height: 32 Width: 32</td>\n",
       "      <td>cat</td>\n",
       "      <td>[0.525088, 0.0, 0.0, 0.0, 0.0, 0.0, 9.94829, 0...</td>\n",
       "      <td>[7, 5, 8, 7, 5, 8, 5, 4, 6, 7, 4, 7, 11, 5, 9,...</td>\n",
       "    </tr>\n",
       "    <tr>\n",
       "      <th>2</th>\n",
       "      <td>36</td>\n",
       "      <td>Height: 32 Width: 32</td>\n",
       "      <td>cat</td>\n",
       "      <td>[0.566016, 0.0, 0.0, 0.0, 0.0, 0.0, 9.9972, 0....</td>\n",
       "      <td>[169, 122, 65, 131, 108, 75, 193, 196, 192, 21...</td>\n",
       "    </tr>\n",
       "    <tr>\n",
       "      <th>3</th>\n",
       "      <td>70</td>\n",
       "      <td>Height: 32 Width: 32</td>\n",
       "      <td>dog</td>\n",
       "      <td>[1.1298, 0.0, 0.0, 0.778194, 0.0, 0.758051, 9....</td>\n",
       "      <td>[154, 179, 152, 159, 183, 157, 165, 189, 162, ...</td>\n",
       "    </tr>\n",
       "    <tr>\n",
       "      <th>4</th>\n",
       "      <td>90</td>\n",
       "      <td>Height: 32 Width: 32</td>\n",
       "      <td>bird</td>\n",
       "      <td>[1.71787, 0.0, 0.0, 0.0, 0.0, 0.0, 9.33936, 0....</td>\n",
       "      <td>[216, 195, 180, 201, 178, 160, 210, 184, 164, ...</td>\n",
       "    </tr>\n",
       "  </tbody>\n",
       "</table>\n",
       "</div>"
      ],
      "text/plain": [
       "   id                 image label                                      deep_features                                        image_array\n",
       "0  24  Height: 32 Width: 32  bird  [0.242872, 1.09545, 0.0, 0.39363, 0.0, 0.0, 11...  [73, 77, 58, 71, 68, 50, 77, 69, 44, 120, 116,...\n",
       "1  33  Height: 32 Width: 32   cat  [0.525088, 0.0, 0.0, 0.0, 0.0, 0.0, 9.94829, 0...  [7, 5, 8, 7, 5, 8, 5, 4, 6, 7, 4, 7, 11, 5, 9,...\n",
       "2  36  Height: 32 Width: 32   cat  [0.566016, 0.0, 0.0, 0.0, 0.0, 0.0, 9.9972, 0....  [169, 122, 65, 131, 108, 75, 193, 196, 192, 21...\n",
       "3  70  Height: 32 Width: 32   dog  [1.1298, 0.0, 0.0, 0.778194, 0.0, 0.758051, 9....  [154, 179, 152, 159, 183, 157, 165, 189, 162, ...\n",
       "4  90  Height: 32 Width: 32  bird  [1.71787, 0.0, 0.0, 0.0, 0.0, 0.0, 9.33936, 0....  [216, 195, 180, 201, 178, 160, 210, 184, 164, ..."
      ]
     },
     "execution_count": 7,
     "metadata": {},
     "output_type": "execute_result"
    }
   ],
   "source": [
    "image_train.head()"
   ]
  },
  {
   "cell_type": "markdown",
   "metadata": {},
   "source": [
    "### Exploring the image data\n",
    "\n",
    "* Here's a function to display the images neatly."
   ]
  },
  {
   "cell_type": "code",
   "execution_count": 8,
   "metadata": {},
   "outputs": [],
   "source": [
    "# A helper function to get pixel data from the image array\n",
    "def get_pixel_data(image_array):\n",
    "    return np.array(image_array, dtype=np.uint8).reshape((32,32,3))\n",
    "    \n",
    "# This takes rows from the dataframe, and display its images and labels.\n",
    "def show_images(image_rows):\n",
    "    n = len(image_rows)\n",
    "    width = 5 # change this to have more images in each row\n",
    "    fig = plt.figure()\n",
    "    fig.set_size_inches(width * 2, n / 2 + 1)\n",
    "    for i in range(n):\n",
    "        axis = fig.add_subplot(n / width + 1, width, i + 1)\n",
    "        axis.set_axis_off()\n",
    "        axis.set_title(image_rows.iloc[i]['label'])\n",
    "        plt.imshow(get_pixel_data(image_rows.iloc[i]['image_array']))"
   ]
  },
  {
   "cell_type": "markdown",
   "metadata": {},
   "source": [
    "> #### Okay, we get this piece of code that we just need to run, but how does it work?\n",
    "* `get_pixel_data`: Takes in an `image_array` and serves as a helper method to reshape it into a np array.\n",
    "* `show_image`: Well, shows image.\n",
    "    * `n`: How many images we want python to show.\n",
    "    * `width`: We set it to `5`, but you can always change it to make a row show more or fewer images.\n",
    "    * `fig`: a `plt.figure()` object, basically, a figure.\n",
    "    * Then the for loop pretty much just uses `set_title` to show you a title and uses `plt.imshow()` as well as the `get_pixel_data` helper method to actually render the image (32x32 pixels, each pixel with a different R, G, B value.) \n",
    "* Makes more sense? Great."
   ]
  },
  {
   "cell_type": "code",
   "execution_count": 9,
   "metadata": {},
   "outputs": [
    {
     "data": {
      "image/png": "[encoded data removed]",
      "text/plain": [
       "<Figure size 720x252 with 5 Axes>"
      ]
     },
     "metadata": {
      "needs_background": "light"
     },
     "output_type": "display_data"
    }
   ],
   "source": [
    "# I picked 15:20 because there are more cats here, feel free to play around.\n",
    "show_images(image_train[15:20])  "
   ]
  },
  {
   "cell_type": "markdown",
   "metadata": {},
   "source": [
    "You can call this function and pass in a some rows from the DataFrame to visualize the images."
   ]
  },
  {
   "cell_type": "markdown",
   "metadata": {},
   "source": [
    "## Train a classifier on the raw image pixels\n",
    "\n",
    "* We provided a custom logistic regression class to help with the fitting and evaluating images.\n",
    "* Please take some time to read through the code of the objects to get familiar with what we are doing here."
   ]
  },
  {
   "cell_type": "markdown",
   "metadata": {},
   "source": [
    "#### Let's fill in this class!\n",
    "* Initially, we would just give you all the code. \n",
    "* However, since some of you complained multiple times throughout the quarter about this course and homework is wayyyyyy too easy and want more practice (Also we think it is reasonable work), let's fill in this Python class.\n",
    "* Writing a custom class to fit your situation can significantly reduce redundant code and improve the efficiency of your project, so at the end of the day, it is a good knowledge to have.\n",
    "    * Before everything, let's get the most important thing out of the way. How to feed in the `image_array` (Or feature columns in general)? Well, we need to convert the entire column into a Numpy array. Some tips for that:\n",
    "        * First, we need to create an array that contains each row's `image_array`. To do this, we can get the `values` of the appropriate column, like this: `DataFrame[column].values`. (The result should be an array of arrays.)\n",
    "        * Next, we can stack the many `image_arrays` on top of each other to create a 2-D array. Take a look at the docmentation for `np.stack()`.\n",
    "    * Now, Here are the methods you need to write.\n",
    "        * `fit`:\n",
    "            * Fits the model, namely, `self.model`.\n",
    "        * `predict`:\n",
    "            * Make prediction using the model, and print out the predictions the model made.\n",
    "        * `evaluate`:\n",
    "            * Evaluate the model by computing `accuracy = real_label / predictions`.\n",
    "            * Print out the `Number predicted correct` as well as `accuracy`."
   ]
  },
  {
   "cell_type": "code",
   "execution_count": 27,
   "metadata": {},
   "outputs": [],
   "source": [
    "# SOLUTION\n",
    "from sklearn.linear_model import LogisticRegression\n",
    "class logistic_regression_model:\n",
    "    # A custom logistic regression model class to make fiting, and evaluate the model easier.\n",
    "    def __init__(self):\n",
    "        self.model = LogisticRegression(random_state=0)\n",
    "        \n",
    "    # Basically, fits the Logistic Regression model.\n",
    "    # params:\n",
    "    # X: a pandas dataframe of the training data\n",
    "    # column: a string refering to the feature column of the dataframe\n",
    "    def fit(self, X, column):\n",
    "        features = np.stack(X[column].values)\n",
    "        self.model.fit(features, X['label'])\n",
    "        \n",
    "    # Prints the prediction.\n",
    "    # params:\n",
    "    # X: a pandas dataframe of the data to be predicted.\n",
    "    # column: the name of the feature column, which we're using to predict\n",
    "    def predict(self, X, column):\n",
    "        return self.model.predict(np.stack(X[column].values))\n",
    "        \n",
    "    # Evaluates the model. Prints out the number of correct predictions and the accuracy.\n",
    "    # params:\n",
    "    # X: a pandas dataframe of the data to be predicted.\n",
    "    # column: the name of the feature column, which we're using to predict\n",
    "    def evaluate(self, X, column):\n",
    "        count = 0\n",
    "        pred = self.predict(X, column)\n",
    "        for i in range(len(pred)):\n",
    "            if pred[i] == X['label'][i]:\n",
    "                count += 1\n",
    "        return count\n",
    "        \n"
   ]
  },
  {
   "cell_type": "markdown",
   "metadata": {},
   "source": [
    "* We're going to first train a model that just uses the raw pixel data of each image. \n",
    "> * The column `image_array` contains a list of RGB values for each pixel. Each image is a 32 x 32 image, so there are 1024 pixels in total. Each pixel has is comprised of 3 values, one for Red, Green and Blue. So the length of `image_array` for each image is 3072.\n",
    "\n",
    "* Create a logistic classifier model that's trained on `image_array` features. Call this model the `raw_pixel_model`. \n",
    "\n",
    "**NOTE:** These methods might take a bit of time to run. For debugging purposes, you can try passing only a small subset of `image_train` (such as `image_train[0:10]`) to the methods at first to make sure that your code works. But don't forget to change it back to the original `image_train`!\n"
   ]
  },
  {
   "cell_type": "code",
   "execution_count": 29,
   "metadata": {},
   "outputs": [
    {
     "name": "stderr",
     "output_type": "stream",
     "text": [
      "/anaconda3/lib/python3.7/site-packages/sklearn/linear_model/logistic.py:433: FutureWarning: Default solver will be changed to 'lbfgs' in 0.22. Specify a solver to silence this warning.\n",
      "  FutureWarning)\n",
      "/anaconda3/lib/python3.7/site-packages/sklearn/linear_model/logistic.py:460: FutureWarning: Default multi_class will be changed to 'auto' in 0.22. Specify the multi_class option to silence this warning.\n",
      "  \"this warning.\", FutureWarning)\n"
     ]
    },
    {
     "data": {
      "text/plain": [
       "2005"
      ]
     },
     "execution_count": 29,
     "metadata": {},
     "output_type": "execute_result"
    }
   ],
   "source": [
    "# Students write code here\n",
    "raw_pixel_model = logistic_regression_model()\n",
    "raw_pixel_model.fit(image_train, 'image_array')\n",
    "raw_pixel_model.predict(image_train, 'image_array')\n",
    "raw_pixel_model.evaluate(image_train, 'image_array')"
   ]
  },
  {
   "cell_type": "markdown",
   "metadata": {},
   "source": [
    "### Make a prediction with the simple model based on raw pixels\n",
    "* First, print out the first three images in the test set as well as their labels.\n",
    "* Predict the labels for the first three images in the test set `raw_pixel_model`."
   ]
  },
  {
   "cell_type": "code",
   "execution_count": null,
   "metadata": {},
   "outputs": [],
   "source": [
    "# Students write code here"
   ]
  },
  {
   "cell_type": "code",
   "execution_count": 31,
   "metadata": {},
   "outputs": [
    {
     "data": {
      "text/plain": [
       "array(['dog', 'cat', 'dog'], dtype=object)"
      ]
     },
     "execution_count": 31,
     "metadata": {},
     "output_type": "execute_result"
    }
   ],
   "source": [
    "# Students write code here\n",
    "raw_pixel_model.predict(image_test[0:3], 'image_array')"
   ]
  },
  {
   "cell_type": "markdown",
   "metadata": {},
   "source": [
    "***Question 1.1:*** How are the images labeled? c\n",
    "\n",
    "a) cat, dog, bird  \n",
    "b) dog, bird, automobile  \n",
    "c) dog, cat, dog  \n",
    "d) bird, cat, bird  \n",
    "e) bird, dog, dog"
   ]
  },
  {
   "cell_type": "markdown",
   "metadata": {},
   "source": [
    "* Hmmmmmm...\n",
    "* As you can see, just training a model directly on the raw pixel features doesn't produce good results. There are way too many features, and they don't do a good job of representing what's actually in the image. For example, if you just shift everything up by one pixel, you'll end up with an entirely different set of features, even though the object in the picture is still exactly the same. So the model overfits terribly.\n",
    "\n",
    "<img align=\"center\" src=\"https://i.imgur.com/EyQ3Opk.jpg\" alt=\"meme\" width=\"400\">\n",
    "\n"
   ]
  },
  {
   "cell_type": "markdown",
   "metadata": {},
   "source": [
    "### Evaluating raw pixel model on test data"
   ]
  },
  {
   "cell_type": "markdown",
   "metadata": {},
   "source": [
    "***Question 1.2:*** What is the accuracy of the model on the test data as a decimal accurate up to 3 decimal places (e.g. 81.7% accuracy -> 0.817)? 0.396\n"
   ]
  },
  {
   "cell_type": "code",
   "execution_count": 32,
   "metadata": {},
   "outputs": [
    {
     "data": {
      "text/plain": [
       "0.396"
      ]
     },
     "execution_count": 32,
     "metadata": {},
     "output_type": "execute_result"
    }
   ],
   "source": [
    "# Students write code here\n",
    "raw_pixel_model.evaluate(image_test, 'image_array')/len(image_test)"
   ]
  },
  {
   "cell_type": "markdown",
   "metadata": {},
   "source": [
    "## Can we improve the model using deep features?\n",
    "\n",
    "* Using the raw pixel data directly as features didn't work so well. But convolutional neural networks are good at extracting complex and useful features from images. Let's try that!\n",
    "* We only have 2005 data points, so it is not possible to train a deep neural network effectively with so little data. Training on a larger dataset would have taken a huge amount of time (usually a GPU is needed to speed things up)."
   ]
  },
  {
   "cell_type": "code",
   "execution_count": 33,
   "metadata": {},
   "outputs": [
    {
     "data": {
      "text/plain": [
       "2005"
      ]
     },
     "execution_count": 33,
     "metadata": {},
     "output_type": "execute_result"
    }
   ],
   "source": [
    "len(image_train)"
   ]
  },
  {
   "cell_type": "markdown",
   "metadata": {},
   "source": [
    "* Thus, we used transfer learning to pre-compute some deep features for you.\n",
    "\n",
    "### How did we compute these deep_features?\n",
    "\n",
    "* First, we trained a convolutional neural network to classify images on a huge general image dataset (ImageNet).\n",
    "    - Through this, the first few layers of the network learned how to extract useful features from images. \n",
    "* Then, we passed our new images through the first few layers of this network to extract a vector of `deep_features` for each image.\n",
    "* (This approach usually works better than trying to train the entire model from scratch on a small dataset, since learning to extract features is often the trickiest part and should be done on a large dataset.)\n",
    "* As we can see below, the column `deep_features` already contains the pre-computed deep features for this data. "
   ]
  },
  {
   "cell_type": "code",
   "execution_count": 34,
   "metadata": {},
   "outputs": [
    {
     "data": {
      "text/html": [
       "<div>\n",
       "<style scoped>\n",
       "    .dataframe tbody tr th:only-of-type {\n",
       "        vertical-align: middle;\n",
       "    }\n",
       "\n",
       "    .dataframe tbody tr th {\n",
       "        vertical-align: top;\n",
       "    }\n",
       "\n",
       "    .dataframe thead th {\n",
       "        text-align: right;\n",
       "    }\n",
       "</style>\n",
       "<table border=\"1\" class=\"dataframe\">\n",
       "  <thead>\n",
       "    <tr style=\"text-align: right;\">\n",
       "      <th></th>\n",
       "      <th>id</th>\n",
       "      <th>image</th>\n",
       "      <th>label</th>\n",
       "      <th>deep_features</th>\n",
       "      <th>image_array</th>\n",
       "    </tr>\n",
       "  </thead>\n",
       "  <tbody>\n",
       "    <tr>\n",
       "      <th>0</th>\n",
       "      <td>24</td>\n",
       "      <td>Height: 32 Width: 32</td>\n",
       "      <td>bird</td>\n",
       "      <td>[0.242872, 1.09545, 0.0, 0.39363, 0.0, 0.0, 11...</td>\n",
       "      <td>[73, 77, 58, 71, 68, 50, 77, 69, 44, 120, 116,...</td>\n",
       "    </tr>\n",
       "    <tr>\n",
       "      <th>1</th>\n",
       "      <td>33</td>\n",
       "      <td>Height: 32 Width: 32</td>\n",
       "      <td>cat</td>\n",
       "      <td>[0.525088, 0.0, 0.0, 0.0, 0.0, 0.0, 9.94829, 0...</td>\n",
       "      <td>[7, 5, 8, 7, 5, 8, 5, 4, 6, 7, 4, 7, 11, 5, 9,...</td>\n",
       "    </tr>\n",
       "    <tr>\n",
       "      <th>2</th>\n",
       "      <td>36</td>\n",
       "      <td>Height: 32 Width: 32</td>\n",
       "      <td>cat</td>\n",
       "      <td>[0.566016, 0.0, 0.0, 0.0, 0.0, 0.0, 9.9972, 0....</td>\n",
       "      <td>[169, 122, 65, 131, 108, 75, 193, 196, 192, 21...</td>\n",
       "    </tr>\n",
       "    <tr>\n",
       "      <th>3</th>\n",
       "      <td>70</td>\n",
       "      <td>Height: 32 Width: 32</td>\n",
       "      <td>dog</td>\n",
       "      <td>[1.1298, 0.0, 0.0, 0.778194, 0.0, 0.758051, 9....</td>\n",
       "      <td>[154, 179, 152, 159, 183, 157, 165, 189, 162, ...</td>\n",
       "    </tr>\n",
       "    <tr>\n",
       "      <th>4</th>\n",
       "      <td>90</td>\n",
       "      <td>Height: 32 Width: 32</td>\n",
       "      <td>bird</td>\n",
       "      <td>[1.71787, 0.0, 0.0, 0.0, 0.0, 0.0, 9.33936, 0....</td>\n",
       "      <td>[216, 195, 180, 201, 178, 160, 210, 184, 164, ...</td>\n",
       "    </tr>\n",
       "  </tbody>\n",
       "</table>\n",
       "</div>"
      ],
      "text/plain": [
       "   id                 image label                                      deep_features                                        image_array\n",
       "0  24  Height: 32 Width: 32  bird  [0.242872, 1.09545, 0.0, 0.39363, 0.0, 0.0, 11...  [73, 77, 58, 71, 68, 50, 77, 69, 44, 120, 116,...\n",
       "1  33  Height: 32 Width: 32   cat  [0.525088, 0.0, 0.0, 0.0, 0.0, 0.0, 9.94829, 0...  [7, 5, 8, 7, 5, 8, 5, 4, 6, 7, 4, 7, 11, 5, 9,...\n",
       "2  36  Height: 32 Width: 32   cat  [0.566016, 0.0, 0.0, 0.0, 0.0, 0.0, 9.9972, 0....  [169, 122, 65, 131, 108, 75, 193, 196, 192, 21...\n",
       "3  70  Height: 32 Width: 32   dog  [1.1298, 0.0, 0.0, 0.778194, 0.0, 0.758051, 9....  [154, 179, 152, 159, 183, 157, 165, 189, 162, ...\n",
       "4  90  Height: 32 Width: 32  bird  [1.71787, 0.0, 0.0, 0.0, 0.0, 0.0, 9.33936, 0....  [216, 195, 180, 201, 178, 160, 210, 184, 164, ..."
      ]
     },
     "execution_count": 34,
     "metadata": {},
     "output_type": "execute_result"
    }
   ],
   "source": [
    "image_train.head()"
   ]
  },
  {
   "cell_type": "markdown",
   "metadata": {},
   "source": [
    "### Given the deep features, let's train a classifier\n",
    "\n",
    "Now train a new logistic classifier model that trains on the `deep_features` of the `image_train`, and call it the `deep_features_model`.\n"
   ]
  },
  {
   "cell_type": "code",
   "execution_count": 35,
   "metadata": {},
   "outputs": [
    {
     "name": "stderr",
     "output_type": "stream",
     "text": [
      "/anaconda3/lib/python3.7/site-packages/sklearn/linear_model/logistic.py:433: FutureWarning: Default solver will be changed to 'lbfgs' in 0.22. Specify a solver to silence this warning.\n",
      "  FutureWarning)\n",
      "/anaconda3/lib/python3.7/site-packages/sklearn/linear_model/logistic.py:460: FutureWarning: Default multi_class will be changed to 'auto' in 0.22. Specify the multi_class option to silence this warning.\n",
      "  \"this warning.\", FutureWarning)\n"
     ]
    }
   ],
   "source": [
    "# Students write code here\n",
    "deep_features_model = logistic_regression_model()\n",
    "deep_features_model.fit(image_train, 'deep_features')\n"
   ]
  },
  {
   "cell_type": "markdown",
   "metadata": {},
   "source": [
    "### Apply the deep features model to first few images of test set\n",
    "* First, show the images and labels for the first three images in the test set.\n",
    "* Then, predict the labels for the first three images in the test set using `deep_features_model`."
   ]
  },
  {
   "cell_type": "code",
   "execution_count": null,
   "metadata": {},
   "outputs": [],
   "source": [
    "# Students write code here"
   ]
  },
  {
   "cell_type": "code",
   "execution_count": 37,
   "metadata": {},
   "outputs": [
    {
     "data": {
      "text/plain": [
       "array(['cat', 'automobile', 'cat'], dtype=object)"
      ]
     },
     "execution_count": 37,
     "metadata": {},
     "output_type": "execute_result"
    }
   ],
   "source": [
    "# Students write code here\n",
    "deep_features_model.predict(image_test[0:3], 'deep_features')"
   ]
  },
  {
   "cell_type": "markdown",
   "metadata": {},
   "source": [
    "***Question 1.3:*** How are the images labeled? c\n",
    "\n",
    "a) cat, dog, bird  \n",
    "b) dog, bird, automobile  \n",
    "c) cat, automobile, cat  \n",
    "d) automobile, dog, bird  \n",
    "e) bird, dog, dog"
   ]
  },
  {
   "cell_type": "markdown",
   "metadata": {},
   "source": [
    "### Compute `test_data` accuracy of  `deep_features_model`\n",
    "\n",
    "***Question 1.4:*** What is the accuracy of `deep_features_model` as a decimal accurate up to 3 decimal places (e.g. 85.4% accuracy -> 0.854)? 0.798"
   ]
  },
  {
   "cell_type": "code",
   "execution_count": 38,
   "metadata": {},
   "outputs": [
    {
     "data": {
      "text/plain": [
       "0.798"
      ]
     },
     "execution_count": 38,
     "metadata": {},
     "output_type": "execute_result"
    }
   ],
   "source": [
    "# Students write code here\n",
    "deep_features_model.evaluate(image_test, 'deep_features')/len(image_test)"
   ]
  },
  {
   "cell_type": "markdown",
   "metadata": {},
   "source": [
    "<img align=\"right\" src=\"https://i.imgur.com/m9Qprs1.jpg\" alt=\"meme\" width=\"200\">\n",
    "\n",
    "* Oh...one more thing. \n",
    "* By this time, you experienced the power of deep learning and transfer learning on traditional ML algorithms. \n",
    "* But please don't do throw everything else away and study the previous material...\n",
    "    * you still got a final exam coming up.\n",
    "    * Also, deep learning isn't always the best approach. Maybe you don't have enough data to train a massive model, so you'd prefer to use a simpler model to avoid overfitting (like linear regression or logistic regression). Or if most of your features are categorical, decision trees might work better. But there are many situations where deep learning does well, such as recognizing objects in images!\n"
   ]
  },
  {
   "cell_type": "markdown",
   "metadata": {},
   "source": [
    "### Cool! So you reached the end of the first part of this assignment, we will see you in Part 2.\n",
    "* Not too bad, right? We now have a pretty good classifier for us to use to classify cats, dogs, birds, as well as automobile.\n",
    "* We will explore doing some kNN on images in the next part.\n"
   ]
  },
  {
   "cell_type": "code",
   "execution_count": null,
   "metadata": {},
   "outputs": [],
   "source": []
  }
 ],
 "metadata": {
  "kernelspec": {
   "display_name": "Python 3",
   "language": "python",
   "name": "python3"
  },
  "language_info": {
   "codemirror_mode": {
    "name": "ipython",
    "version": 3
   },
   "file_extension": ".py",
   "mimetype": "text/x-python",
   "name": "python",
   "nbconvert_exporter": "python",
   "pygments_lexer": "ipython3",
   "version": "3.7.1"
  }
 },
 "nbformat": 4,
 "nbformat_minor": 1
}
