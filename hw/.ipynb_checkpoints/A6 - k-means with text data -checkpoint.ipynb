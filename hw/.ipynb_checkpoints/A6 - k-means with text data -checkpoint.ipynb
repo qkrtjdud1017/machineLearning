{
 "cells": [
  {
   "cell_type": "markdown",
   "metadata": {},
   "source": [
    "# k-means with text data"
   ]
  },
  {
   "cell_type": "markdown",
   "metadata": {},
   "source": [
    "### Due: Wednesday, 16th May, at 11:59 pm on Canvas\n",
    "\n",
    "In this assignment you will\n",
    "* Cluster Wikipedia documents using k-means\n",
    "* Explore the role of random initialization on the quality of the clustering\n",
    "* Explore how results differ after changing the number of clusters\n",
    "* Evaluate clustering, both quantitatively and qualitatively\n",
    "\n",
    "When properly executed, clustering uncovers valuable insights from a set of unlabeled documents.\n",
    "\n",
    "Copyright ©2018 Emily Fox.  All rights reserved.  Permission is hereby granted to students registered for University of Washington CSE/STAT 416 for use solely during Spring Quarter 2018 for purposes of the course.  No other use, copying, distribution, or modification is permitted without prior written consent. Copyrights for third-party components of this work must be honored.  Instructors interested in reusing these course materials should contact the author."
   ]
  },
  {
   "cell_type": "markdown",
   "metadata": {},
   "source": [
    "## Import necessary packages"
   ]
  },
  {
   "cell_type": "code",
   "execution_count": 2,
   "metadata": {},
   "outputs": [],
   "source": [
    "import pandas as pd\n",
    "import matplotlib.pyplot as plt\n",
    "import numpy as np\n",
    "import sys\n",
    "import os\n",
    "from scipy.sparse import csr_matrix\n",
    "from sklearn.model_selection import train_test_split\n",
    "%matplotlib inline"
   ]
  },
  {
   "cell_type": "markdown",
   "metadata": {},
   "source": [
    "## Load data, extract features"
   ]
  },
  {
   "cell_type": "markdown",
   "metadata": {},
   "source": [
    "To work with text data, we must first convert the documents into numerical features. As in the first assignment, let's extract TF-IDF features for each article."
   ]
  },
  {
   "cell_type": "code",
   "execution_count": 3,
   "metadata": {},
   "outputs": [],
   "source": [
    "wiki = pd.read_csv('/data/people_wiki.csv').sample(frac=0.1, random_state=0) # Using 10% of the data, due to limited resources"
   ]
  },
  {
   "cell_type": "code",
   "execution_count": 4,
   "metadata": {},
   "outputs": [
    {
     "data": {
      "text/html": [
       "<div>\n",
       "<style scoped>\n",
       "    .dataframe tbody tr th:only-of-type {\n",
       "        vertical-align: middle;\n",
       "    }\n",
       "\n",
       "    .dataframe tbody tr th {\n",
       "        vertical-align: top;\n",
       "    }\n",
       "\n",
       "    .dataframe thead th {\n",
       "        text-align: right;\n",
       "    }\n",
       "</style>\n",
       "<table border=\"1\" class=\"dataframe\">\n",
       "  <thead>\n",
       "    <tr style=\"text-align: right;\">\n",
       "      <th></th>\n",
       "      <th>URI</th>\n",
       "      <th>name</th>\n",
       "      <th>text</th>\n",
       "    </tr>\n",
       "  </thead>\n",
       "  <tbody>\n",
       "    <tr>\n",
       "      <th>50034</th>\n",
       "      <td>&lt;http://dbpedia.org/resource/Mauno_J%C3%A4rvel...</td>\n",
       "      <td>Mauno J%C3%A4rvel%C3%A4</td>\n",
       "      <td>mauno jrvel born 25 november 1949 in kaustinen...</td>\n",
       "    </tr>\n",
       "    <tr>\n",
       "      <th>39362</th>\n",
       "      <td>&lt;http://dbpedia.org/resource/David_W._Jourdan&gt;</td>\n",
       "      <td>David W. Jourdan</td>\n",
       "      <td>david walter jourdan born december 5 1954 is a...</td>\n",
       "    </tr>\n",
       "    <tr>\n",
       "      <th>20786</th>\n",
       "      <td>&lt;http://dbpedia.org/resource/Patrick_Roach&gt;</td>\n",
       "      <td>Patrick Roach</td>\n",
       "      <td>patrick roach born march 4 1969 is a canadian ...</td>\n",
       "    </tr>\n",
       "    <tr>\n",
       "      <th>26367</th>\n",
       "      <td>&lt;http://dbpedia.org/resource/Louis_Sauer&gt;</td>\n",
       "      <td>Louis Sauer</td>\n",
       "      <td>louis lou sauer aka louis edward sauer born 19...</td>\n",
       "    </tr>\n",
       "    <tr>\n",
       "      <th>14855</th>\n",
       "      <td>&lt;http://dbpedia.org/resource/Marty_Keough&gt;</td>\n",
       "      <td>Marty Keough</td>\n",
       "      <td>richard martin keough born april 14 1934 in oa...</td>\n",
       "    </tr>\n",
       "    <tr>\n",
       "      <th>50746</th>\n",
       "      <td>&lt;http://dbpedia.org/resource/Andrea_Jung&gt;</td>\n",
       "      <td>Andrea Jung</td>\n",
       "      <td>andrea jung pinyin zhng bnxin jyutping zung1 b...</td>\n",
       "    </tr>\n",
       "    <tr>\n",
       "      <th>53451</th>\n",
       "      <td>&lt;http://dbpedia.org/resource/Olivia_Mitchell&gt;</td>\n",
       "      <td>Olivia Mitchell</td>\n",
       "      <td>olivia mitchell born 31 july 1947 is an irish ...</td>\n",
       "    </tr>\n",
       "    <tr>\n",
       "      <th>1247</th>\n",
       "      <td>&lt;http://dbpedia.org/resource/Prayut_Chan-o-cha&gt;</td>\n",
       "      <td>Prayut Chan-o-cha</td>\n",
       "      <td>prayut chanocha previously spelt prayuth chano...</td>\n",
       "    </tr>\n",
       "    <tr>\n",
       "      <th>25988</th>\n",
       "      <td>&lt;http://dbpedia.org/resource/Ritchie_Humphreys&gt;</td>\n",
       "      <td>Ritchie Humphreys</td>\n",
       "      <td>ritchie john humphreys born 30 november 1977 i...</td>\n",
       "    </tr>\n",
       "    <tr>\n",
       "      <th>3518</th>\n",
       "      <td>&lt;http://dbpedia.org/resource/Francisco_G._Ciga...</td>\n",
       "      <td>Francisco G. Cigarroa</td>\n",
       "      <td>francisco gonzalez cigarroa born december 1 19...</td>\n",
       "    </tr>\n",
       "    <tr>\n",
       "      <th>30282</th>\n",
       "      <td>&lt;http://dbpedia.org/resource/Marian_Vanghelie&gt;</td>\n",
       "      <td>Marian Vanghelie</td>\n",
       "      <td>daniel marian vanghelie b 1968 bucharest is a ...</td>\n",
       "    </tr>\n",
       "    <tr>\n",
       "      <th>18440</th>\n",
       "      <td>&lt;http://dbpedia.org/resource/Peter_Michael_Hamel&gt;</td>\n",
       "      <td>Peter Michael Hamel</td>\n",
       "      <td>peter michael hamel born in munich 15 july 194...</td>\n",
       "    </tr>\n",
       "    <tr>\n",
       "      <th>18518</th>\n",
       "      <td>&lt;http://dbpedia.org/resource/Paul_Danblon&gt;</td>\n",
       "      <td>Paul Danblon</td>\n",
       "      <td>paul danblon born 25 july 1931 is a belgian co...</td>\n",
       "    </tr>\n",
       "    <tr>\n",
       "      <th>27116</th>\n",
       "      <td>&lt;http://dbpedia.org/resource/Lloyd_McGuire&gt;</td>\n",
       "      <td>Lloyd McGuire</td>\n",
       "      <td>lloyd mcguire is an english actor who has appe...</td>\n",
       "    </tr>\n",
       "    <tr>\n",
       "      <th>51530</th>\n",
       "      <td>&lt;http://dbpedia.org/resource/Jack_Cressend&gt;</td>\n",
       "      <td>Jack Cressend</td>\n",
       "      <td>john baptiste jack cressend iii born may 13 19...</td>\n",
       "    </tr>\n",
       "    <tr>\n",
       "      <th>32512</th>\n",
       "      <td>&lt;http://dbpedia.org/resource/Thorsten_Engelmann&gt;</td>\n",
       "      <td>Thorsten Engelmann</td>\n",
       "      <td>thorsten engelmann born 20 july 1981 in berlin...</td>\n",
       "    </tr>\n",
       "    <tr>\n",
       "      <th>6686</th>\n",
       "      <td>&lt;http://dbpedia.org/resource/Yelena_Yemchuk&gt;</td>\n",
       "      <td>Yelena Yemchuk</td>\n",
       "      <td>yelena yemchuk ukrainian born april 22 1970 is...</td>\n",
       "    </tr>\n",
       "    <tr>\n",
       "      <th>22452</th>\n",
       "      <td>&lt;http://dbpedia.org/resource/Grace_Knight&gt;</td>\n",
       "      <td>Grace Knight</td>\n",
       "      <td>grace ethel knight born 23 december 1955 manch...</td>\n",
       "    </tr>\n",
       "    <tr>\n",
       "      <th>25206</th>\n",
       "      <td>&lt;http://dbpedia.org/resource/Chris_Hadfield&gt;</td>\n",
       "      <td>Chris Hadfield</td>\n",
       "      <td>chris austin hadfield oc oont msc cd born 29 a...</td>\n",
       "    </tr>\n",
       "    <tr>\n",
       "      <th>16918</th>\n",
       "      <td>&lt;http://dbpedia.org/resource/Diederik_Hol&gt;</td>\n",
       "      <td>Diederik Hol</td>\n",
       "      <td>diederik hol born 10 april 1972 is a dutch des...</td>\n",
       "    </tr>\n",
       "    <tr>\n",
       "      <th>53681</th>\n",
       "      <td>&lt;http://dbpedia.org/resource/Lisa_Hammer&gt;</td>\n",
       "      <td>Lisa Hammer</td>\n",
       "      <td>lisa hammer ne houle born april 4 1967 in sale...</td>\n",
       "    </tr>\n",
       "    <tr>\n",
       "      <th>48309</th>\n",
       "      <td>&lt;http://dbpedia.org/resource/Alayne_Fleischmann&gt;</td>\n",
       "      <td>Alayne Fleischmann</td>\n",
       "      <td>alayne fleischmann is a lawyer formerly employ...</td>\n",
       "    </tr>\n",
       "    <tr>\n",
       "      <th>1787</th>\n",
       "      <td>&lt;http://dbpedia.org/resource/Lisa_Law&gt;</td>\n",
       "      <td>Lisa Law</td>\n",
       "      <td>lisa law is an american photographer and filmm...</td>\n",
       "    </tr>\n",
       "    <tr>\n",
       "      <th>45934</th>\n",
       "      <td>&lt;http://dbpedia.org/resource/Pierre_Sabatier&gt;</td>\n",
       "      <td>Pierre Sabatier</td>\n",
       "      <td>pierre clestin sabatier born 1935 in casablanc...</td>\n",
       "    </tr>\n",
       "    <tr>\n",
       "      <th>36034</th>\n",
       "      <td>&lt;http://dbpedia.org/resource/Teymoor_Nabili&gt;</td>\n",
       "      <td>Teymoor Nabili</td>\n",
       "      <td>teymoor nabili is a veteran journalist and bro...</td>\n",
       "    </tr>\n",
       "    <tr>\n",
       "      <th>7206</th>\n",
       "      <td>&lt;http://dbpedia.org/resource/Elliot_Levine&gt;</td>\n",
       "      <td>Elliot Levine</td>\n",
       "      <td>elliot b levine born september 28 1963 washing...</td>\n",
       "    </tr>\n",
       "    <tr>\n",
       "      <th>22269</th>\n",
       "      <td>&lt;http://dbpedia.org/resource/Renee_Nele&gt;</td>\n",
       "      <td>Renee Nele</td>\n",
       "      <td>e r nele born 15 march 1932 is a german sculpt...</td>\n",
       "    </tr>\n",
       "    <tr>\n",
       "      <th>12677</th>\n",
       "      <td>&lt;http://dbpedia.org/resource/Rosie_Ledet&gt;</td>\n",
       "      <td>Rosie Ledet</td>\n",
       "      <td>rosie ledet born october 25 1971 mary roszela ...</td>\n",
       "    </tr>\n",
       "    <tr>\n",
       "      <th>5976</th>\n",
       "      <td>&lt;http://dbpedia.org/resource/Jack_Deam&gt;</td>\n",
       "      <td>Jack Deam</td>\n",
       "      <td>jack deam born ian deam in 1972 in oldham lanc...</td>\n",
       "    </tr>\n",
       "    <tr>\n",
       "      <th>30334</th>\n",
       "      <td>&lt;http://dbpedia.org/resource/Jordan_Zevon&gt;</td>\n",
       "      <td>Jordan Zevon</td>\n",
       "      <td>jordan zevon born august 7 1969 is an american...</td>\n",
       "    </tr>\n",
       "    <tr>\n",
       "      <th>...</th>\n",
       "      <td>...</td>\n",
       "      <td>...</td>\n",
       "      <td>...</td>\n",
       "    </tr>\n",
       "    <tr>\n",
       "      <th>12662</th>\n",
       "      <td>&lt;http://dbpedia.org/resource/Anweshaa&gt;</td>\n",
       "      <td>Anweshaa</td>\n",
       "      <td>anweshaa born anweshaa dutta gupta 15 december...</td>\n",
       "    </tr>\n",
       "    <tr>\n",
       "      <th>12359</th>\n",
       "      <td>&lt;http://dbpedia.org/resource/Mari%C3%A1n_Aguil...</td>\n",
       "      <td>Mari%C3%A1n Aguilera</td>\n",
       "      <td>marin aguilera prez born 12 march 1977 in barc...</td>\n",
       "    </tr>\n",
       "    <tr>\n",
       "      <th>36593</th>\n",
       "      <td>&lt;http://dbpedia.org/resource/Paul_Thomas_Ander...</td>\n",
       "      <td>Paul Thomas Anderson</td>\n",
       "      <td>paul thomas anderson born june 26 1970 is an a...</td>\n",
       "    </tr>\n",
       "    <tr>\n",
       "      <th>45859</th>\n",
       "      <td>&lt;http://dbpedia.org/resource/Simon_Chapman_(ac...</td>\n",
       "      <td>Simon Chapman (academic)</td>\n",
       "      <td>simon fenton chapman ao born 1951 bowral new s...</td>\n",
       "    </tr>\n",
       "    <tr>\n",
       "      <th>41700</th>\n",
       "      <td>&lt;http://dbpedia.org/resource/Jane_Colebrook&gt;</td>\n",
       "      <td>Jane Colebrook</td>\n",
       "      <td>katrina jane colebrook born 8 november 1957 kn...</td>\n",
       "    </tr>\n",
       "    <tr>\n",
       "      <th>35546</th>\n",
       "      <td>&lt;http://dbpedia.org/resource/Boodee_Keerthisena&gt;</td>\n",
       "      <td>Boodee Keerthisena</td>\n",
       "      <td>vishvanath buddhika keerthisena also known as ...</td>\n",
       "    </tr>\n",
       "    <tr>\n",
       "      <th>23964</th>\n",
       "      <td>&lt;http://dbpedia.org/resource/Charlie_Tonga&gt;</td>\n",
       "      <td>Charlie Tonga</td>\n",
       "      <td>charlie tonga born 27 september 1977 tonga is ...</td>\n",
       "    </tr>\n",
       "    <tr>\n",
       "      <th>37035</th>\n",
       "      <td>&lt;http://dbpedia.org/resource/Shawn_Cosgrove&gt;</td>\n",
       "      <td>Shawn Cosgrove</td>\n",
       "      <td>shawn cosgrove born 2 december 1955 is an aust...</td>\n",
       "    </tr>\n",
       "    <tr>\n",
       "      <th>14772</th>\n",
       "      <td>&lt;http://dbpedia.org/resource/Willis_Ot%C3%A1%C...</td>\n",
       "      <td>Willis Ot%C3%A1%C3%B1ez</td>\n",
       "      <td>willis alexander otez born april 19 1973 in co...</td>\n",
       "    </tr>\n",
       "    <tr>\n",
       "      <th>54182</th>\n",
       "      <td>&lt;http://dbpedia.org/resource/George_Phang&gt;</td>\n",
       "      <td>George Phang</td>\n",
       "      <td>george phang is a reggae producer born in the ...</td>\n",
       "    </tr>\n",
       "    <tr>\n",
       "      <th>25564</th>\n",
       "      <td>&lt;http://dbpedia.org/resource/Rick_Titus_(journ...</td>\n",
       "      <td>Rick Titus (journalist)</td>\n",
       "      <td>rick titus is an american former race car driv...</td>\n",
       "    </tr>\n",
       "    <tr>\n",
       "      <th>50025</th>\n",
       "      <td>&lt;http://dbpedia.org/resource/Paul_Swadel&gt;</td>\n",
       "      <td>Paul Swadel</td>\n",
       "      <td>paul swadel is a new zealand film director and...</td>\n",
       "    </tr>\n",
       "    <tr>\n",
       "      <th>40958</th>\n",
       "      <td>&lt;http://dbpedia.org/resource/Chope_Paljor_Tser...</td>\n",
       "      <td>Chope Paljor Tsering</td>\n",
       "      <td>chope paljor tsering is a former member of the...</td>\n",
       "    </tr>\n",
       "    <tr>\n",
       "      <th>54875</th>\n",
       "      <td>&lt;http://dbpedia.org/resource/Jane_Rossington&gt;</td>\n",
       "      <td>Jane Rossington</td>\n",
       "      <td>jane rossington born 5 march 1943 is a british...</td>\n",
       "    </tr>\n",
       "    <tr>\n",
       "      <th>22819</th>\n",
       "      <td>&lt;http://dbpedia.org/resource/Eckhart_Tolle&gt;</td>\n",
       "      <td>Eckhart Tolle</td>\n",
       "      <td>eckhart tolle krt tl ekart tol german pronunci...</td>\n",
       "    </tr>\n",
       "    <tr>\n",
       "      <th>58838</th>\n",
       "      <td>&lt;http://dbpedia.org/resource/Kakha_Kaladze&gt;</td>\n",
       "      <td>Kakha Kaladze</td>\n",
       "      <td>kakhaber kakha kaladze georgian kaxabr kaladz ...</td>\n",
       "    </tr>\n",
       "    <tr>\n",
       "      <th>55827</th>\n",
       "      <td>&lt;http://dbpedia.org/resource/Jay_Jasanoff&gt;</td>\n",
       "      <td>Jay Jasanoff</td>\n",
       "      <td>jay harold jasanoff dznf born june 12 1942 is ...</td>\n",
       "    </tr>\n",
       "    <tr>\n",
       "      <th>40783</th>\n",
       "      <td>&lt;http://dbpedia.org/resource/Capers_Jones&gt;</td>\n",
       "      <td>Capers Jones</td>\n",
       "      <td>capers jones is an american specialist in soft...</td>\n",
       "    </tr>\n",
       "    <tr>\n",
       "      <th>25295</th>\n",
       "      <td>&lt;http://dbpedia.org/resource/Peter_M._Donohue&gt;</td>\n",
       "      <td>Peter M. Donohue</td>\n",
       "      <td>rev peter m donohue osa is a roman catholic pr...</td>\n",
       "    </tr>\n",
       "    <tr>\n",
       "      <th>25315</th>\n",
       "      <td>&lt;http://dbpedia.org/resource/Barrett_Martin&gt;</td>\n",
       "      <td>Barrett Martin</td>\n",
       "      <td>barrett martin born april 14 1967 is an americ...</td>\n",
       "    </tr>\n",
       "    <tr>\n",
       "      <th>49148</th>\n",
       "      <td>&lt;http://dbpedia.org/resource/Tariq_Pervez&gt;</td>\n",
       "      <td>Tariq Pervez</td>\n",
       "      <td>tariq pervez born 30 december 1948 a pakistani...</td>\n",
       "    </tr>\n",
       "    <tr>\n",
       "      <th>44107</th>\n",
       "      <td>&lt;http://dbpedia.org/resource/Alastair_Buchan&gt;</td>\n",
       "      <td>Alastair Buchan</td>\n",
       "      <td>professor alastair buchan born 16 october 1955...</td>\n",
       "    </tr>\n",
       "    <tr>\n",
       "      <th>23126</th>\n",
       "      <td>&lt;http://dbpedia.org/resource/Hern%C3%A1n_Crist...</td>\n",
       "      <td>Hern%C3%A1n Cristante</td>\n",
       "      <td>rolando hernn cristante mandarino born 16 sept...</td>\n",
       "    </tr>\n",
       "    <tr>\n",
       "      <th>16022</th>\n",
       "      <td>&lt;http://dbpedia.org/resource/George_Mackie,_Ba...</td>\n",
       "      <td>George Mackie, Baron Mackie of Benshie</td>\n",
       "      <td>george yull mackie baron mackie of benshie cbe...</td>\n",
       "    </tr>\n",
       "    <tr>\n",
       "      <th>20949</th>\n",
       "      <td>&lt;http://dbpedia.org/resource/Clint_Lowery&gt;</td>\n",
       "      <td>Clint Lowery</td>\n",
       "      <td>clint lowery born december 15 1971 is an ameri...</td>\n",
       "    </tr>\n",
       "    <tr>\n",
       "      <th>56569</th>\n",
       "      <td>&lt;http://dbpedia.org/resource/Rodney_Croome&gt;</td>\n",
       "      <td>Rodney Croome</td>\n",
       "      <td>rodney peter croome am is an australian lgbt r...</td>\n",
       "    </tr>\n",
       "    <tr>\n",
       "      <th>26247</th>\n",
       "      <td>&lt;http://dbpedia.org/resource/Barry_Butler_(foo...</td>\n",
       "      <td>Barry Butler (footballer, born 1962)</td>\n",
       "      <td>barry geoffrey butler born 4 june 1962 farnwor...</td>\n",
       "    </tr>\n",
       "    <tr>\n",
       "      <th>3140</th>\n",
       "      <td>&lt;http://dbpedia.org/resource/Keith_Jeffery&gt;</td>\n",
       "      <td>Keith Jeffery</td>\n",
       "      <td>keith jeffery mria is a northern irish histori...</td>\n",
       "    </tr>\n",
       "    <tr>\n",
       "      <th>6576</th>\n",
       "      <td>&lt;http://dbpedia.org/resource/S%C3%A1ndor_K%C3%...</td>\n",
       "      <td>S%C3%A1ndor K%C3%BCrti</td>\n",
       "      <td>dr sndor krti born 1947 graduated in 1971 from...</td>\n",
       "    </tr>\n",
       "    <tr>\n",
       "      <th>51419</th>\n",
       "      <td>&lt;http://dbpedia.org/resource/Sir_David_Gilmour...</td>\n",
       "      <td>Sir David Gilmour, 4th Baronet</td>\n",
       "      <td>the honourable sir david robert gilmour 4th ba...</td>\n",
       "    </tr>\n",
       "  </tbody>\n",
       "</table>\n",
       "<p>5907 rows × 3 columns</p>\n",
       "</div>"
      ],
      "text/plain": [
       "                                                     URI  \\\n",
       "50034  <http://dbpedia.org/resource/Mauno_J%C3%A4rvel...   \n",
       "39362     <http://dbpedia.org/resource/David_W._Jourdan>   \n",
       "20786        <http://dbpedia.org/resource/Patrick_Roach>   \n",
       "26367          <http://dbpedia.org/resource/Louis_Sauer>   \n",
       "14855         <http://dbpedia.org/resource/Marty_Keough>   \n",
       "50746          <http://dbpedia.org/resource/Andrea_Jung>   \n",
       "53451      <http://dbpedia.org/resource/Olivia_Mitchell>   \n",
       "1247     <http://dbpedia.org/resource/Prayut_Chan-o-cha>   \n",
       "25988    <http://dbpedia.org/resource/Ritchie_Humphreys>   \n",
       "3518   <http://dbpedia.org/resource/Francisco_G._Ciga...   \n",
       "30282     <http://dbpedia.org/resource/Marian_Vanghelie>   \n",
       "18440  <http://dbpedia.org/resource/Peter_Michael_Hamel>   \n",
       "18518         <http://dbpedia.org/resource/Paul_Danblon>   \n",
       "27116        <http://dbpedia.org/resource/Lloyd_McGuire>   \n",
       "51530        <http://dbpedia.org/resource/Jack_Cressend>   \n",
       "32512   <http://dbpedia.org/resource/Thorsten_Engelmann>   \n",
       "6686        <http://dbpedia.org/resource/Yelena_Yemchuk>   \n",
       "22452         <http://dbpedia.org/resource/Grace_Knight>   \n",
       "25206       <http://dbpedia.org/resource/Chris_Hadfield>   \n",
       "16918         <http://dbpedia.org/resource/Diederik_Hol>   \n",
       "53681          <http://dbpedia.org/resource/Lisa_Hammer>   \n",
       "48309   <http://dbpedia.org/resource/Alayne_Fleischmann>   \n",
       "1787              <http://dbpedia.org/resource/Lisa_Law>   \n",
       "45934      <http://dbpedia.org/resource/Pierre_Sabatier>   \n",
       "36034       <http://dbpedia.org/resource/Teymoor_Nabili>   \n",
       "7206         <http://dbpedia.org/resource/Elliot_Levine>   \n",
       "22269           <http://dbpedia.org/resource/Renee_Nele>   \n",
       "12677          <http://dbpedia.org/resource/Rosie_Ledet>   \n",
       "5976             <http://dbpedia.org/resource/Jack_Deam>   \n",
       "30334         <http://dbpedia.org/resource/Jordan_Zevon>   \n",
       "...                                                  ...   \n",
       "12662             <http://dbpedia.org/resource/Anweshaa>   \n",
       "12359  <http://dbpedia.org/resource/Mari%C3%A1n_Aguil...   \n",
       "36593  <http://dbpedia.org/resource/Paul_Thomas_Ander...   \n",
       "45859  <http://dbpedia.org/resource/Simon_Chapman_(ac...   \n",
       "41700       <http://dbpedia.org/resource/Jane_Colebrook>   \n",
       "35546   <http://dbpedia.org/resource/Boodee_Keerthisena>   \n",
       "23964        <http://dbpedia.org/resource/Charlie_Tonga>   \n",
       "37035       <http://dbpedia.org/resource/Shawn_Cosgrove>   \n",
       "14772  <http://dbpedia.org/resource/Willis_Ot%C3%A1%C...   \n",
       "54182         <http://dbpedia.org/resource/George_Phang>   \n",
       "25564  <http://dbpedia.org/resource/Rick_Titus_(journ...   \n",
       "50025          <http://dbpedia.org/resource/Paul_Swadel>   \n",
       "40958  <http://dbpedia.org/resource/Chope_Paljor_Tser...   \n",
       "54875      <http://dbpedia.org/resource/Jane_Rossington>   \n",
       "22819        <http://dbpedia.org/resource/Eckhart_Tolle>   \n",
       "58838        <http://dbpedia.org/resource/Kakha_Kaladze>   \n",
       "55827         <http://dbpedia.org/resource/Jay_Jasanoff>   \n",
       "40783         <http://dbpedia.org/resource/Capers_Jones>   \n",
       "25295     <http://dbpedia.org/resource/Peter_M._Donohue>   \n",
       "25315       <http://dbpedia.org/resource/Barrett_Martin>   \n",
       "49148         <http://dbpedia.org/resource/Tariq_Pervez>   \n",
       "44107      <http://dbpedia.org/resource/Alastair_Buchan>   \n",
       "23126  <http://dbpedia.org/resource/Hern%C3%A1n_Crist...   \n",
       "16022  <http://dbpedia.org/resource/George_Mackie,_Ba...   \n",
       "20949         <http://dbpedia.org/resource/Clint_Lowery>   \n",
       "56569        <http://dbpedia.org/resource/Rodney_Croome>   \n",
       "26247  <http://dbpedia.org/resource/Barry_Butler_(foo...   \n",
       "3140         <http://dbpedia.org/resource/Keith_Jeffery>   \n",
       "6576   <http://dbpedia.org/resource/S%C3%A1ndor_K%C3%...   \n",
       "51419  <http://dbpedia.org/resource/Sir_David_Gilmour...   \n",
       "\n",
       "                                         name  \\\n",
       "50034                 Mauno J%C3%A4rvel%C3%A4   \n",
       "39362                        David W. Jourdan   \n",
       "20786                           Patrick Roach   \n",
       "26367                             Louis Sauer   \n",
       "14855                            Marty Keough   \n",
       "50746                             Andrea Jung   \n",
       "53451                         Olivia Mitchell   \n",
       "1247                        Prayut Chan-o-cha   \n",
       "25988                       Ritchie Humphreys   \n",
       "3518                    Francisco G. Cigarroa   \n",
       "30282                        Marian Vanghelie   \n",
       "18440                     Peter Michael Hamel   \n",
       "18518                            Paul Danblon   \n",
       "27116                           Lloyd McGuire   \n",
       "51530                           Jack Cressend   \n",
       "32512                      Thorsten Engelmann   \n",
       "6686                           Yelena Yemchuk   \n",
       "22452                            Grace Knight   \n",
       "25206                          Chris Hadfield   \n",
       "16918                            Diederik Hol   \n",
       "53681                             Lisa Hammer   \n",
       "48309                      Alayne Fleischmann   \n",
       "1787                                 Lisa Law   \n",
       "45934                         Pierre Sabatier   \n",
       "36034                          Teymoor Nabili   \n",
       "7206                            Elliot Levine   \n",
       "22269                              Renee Nele   \n",
       "12677                             Rosie Ledet   \n",
       "5976                                Jack Deam   \n",
       "30334                            Jordan Zevon   \n",
       "...                                       ...   \n",
       "12662                                Anweshaa   \n",
       "12359                    Mari%C3%A1n Aguilera   \n",
       "36593                    Paul Thomas Anderson   \n",
       "45859                Simon Chapman (academic)   \n",
       "41700                          Jane Colebrook   \n",
       "35546                      Boodee Keerthisena   \n",
       "23964                           Charlie Tonga   \n",
       "37035                          Shawn Cosgrove   \n",
       "14772                 Willis Ot%C3%A1%C3%B1ez   \n",
       "54182                            George Phang   \n",
       "25564                 Rick Titus (journalist)   \n",
       "50025                             Paul Swadel   \n",
       "40958                    Chope Paljor Tsering   \n",
       "54875                         Jane Rossington   \n",
       "22819                           Eckhart Tolle   \n",
       "58838                           Kakha Kaladze   \n",
       "55827                            Jay Jasanoff   \n",
       "40783                            Capers Jones   \n",
       "25295                        Peter M. Donohue   \n",
       "25315                          Barrett Martin   \n",
       "49148                            Tariq Pervez   \n",
       "44107                         Alastair Buchan   \n",
       "23126                   Hern%C3%A1n Cristante   \n",
       "16022  George Mackie, Baron Mackie of Benshie   \n",
       "20949                            Clint Lowery   \n",
       "56569                           Rodney Croome   \n",
       "26247    Barry Butler (footballer, born 1962)   \n",
       "3140                            Keith Jeffery   \n",
       "6576                   S%C3%A1ndor K%C3%BCrti   \n",
       "51419          Sir David Gilmour, 4th Baronet   \n",
       "\n",
       "                                                    text  \n",
       "50034  mauno jrvel born 25 november 1949 in kaustinen...  \n",
       "39362  david walter jourdan born december 5 1954 is a...  \n",
       "20786  patrick roach born march 4 1969 is a canadian ...  \n",
       "26367  louis lou sauer aka louis edward sauer born 19...  \n",
       "14855  richard martin keough born april 14 1934 in oa...  \n",
       "50746  andrea jung pinyin zhng bnxin jyutping zung1 b...  \n",
       "53451  olivia mitchell born 31 july 1947 is an irish ...  \n",
       "1247   prayut chanocha previously spelt prayuth chano...  \n",
       "25988  ritchie john humphreys born 30 november 1977 i...  \n",
       "3518   francisco gonzalez cigarroa born december 1 19...  \n",
       "30282  daniel marian vanghelie b 1968 bucharest is a ...  \n",
       "18440  peter michael hamel born in munich 15 july 194...  \n",
       "18518  paul danblon born 25 july 1931 is a belgian co...  \n",
       "27116  lloyd mcguire is an english actor who has appe...  \n",
       "51530  john baptiste jack cressend iii born may 13 19...  \n",
       "32512  thorsten engelmann born 20 july 1981 in berlin...  \n",
       "6686   yelena yemchuk ukrainian born april 22 1970 is...  \n",
       "22452  grace ethel knight born 23 december 1955 manch...  \n",
       "25206  chris austin hadfield oc oont msc cd born 29 a...  \n",
       "16918  diederik hol born 10 april 1972 is a dutch des...  \n",
       "53681  lisa hammer ne houle born april 4 1967 in sale...  \n",
       "48309  alayne fleischmann is a lawyer formerly employ...  \n",
       "1787   lisa law is an american photographer and filmm...  \n",
       "45934  pierre clestin sabatier born 1935 in casablanc...  \n",
       "36034  teymoor nabili is a veteran journalist and bro...  \n",
       "7206   elliot b levine born september 28 1963 washing...  \n",
       "22269  e r nele born 15 march 1932 is a german sculpt...  \n",
       "12677  rosie ledet born october 25 1971 mary roszela ...  \n",
       "5976   jack deam born ian deam in 1972 in oldham lanc...  \n",
       "30334  jordan zevon born august 7 1969 is an american...  \n",
       "...                                                  ...  \n",
       "12662  anweshaa born anweshaa dutta gupta 15 december...  \n",
       "12359  marin aguilera prez born 12 march 1977 in barc...  \n",
       "36593  paul thomas anderson born june 26 1970 is an a...  \n",
       "45859  simon fenton chapman ao born 1951 bowral new s...  \n",
       "41700  katrina jane colebrook born 8 november 1957 kn...  \n",
       "35546  vishvanath buddhika keerthisena also known as ...  \n",
       "23964  charlie tonga born 27 september 1977 tonga is ...  \n",
       "37035  shawn cosgrove born 2 december 1955 is an aust...  \n",
       "14772  willis alexander otez born april 19 1973 in co...  \n",
       "54182  george phang is a reggae producer born in the ...  \n",
       "25564  rick titus is an american former race car driv...  \n",
       "50025  paul swadel is a new zealand film director and...  \n",
       "40958  chope paljor tsering is a former member of the...  \n",
       "54875  jane rossington born 5 march 1943 is a british...  \n",
       "22819  eckhart tolle krt tl ekart tol german pronunci...  \n",
       "58838  kakhaber kakha kaladze georgian kaxabr kaladz ...  \n",
       "55827  jay harold jasanoff dznf born june 12 1942 is ...  \n",
       "40783  capers jones is an american specialist in soft...  \n",
       "25295  rev peter m donohue osa is a roman catholic pr...  \n",
       "25315  barrett martin born april 14 1967 is an americ...  \n",
       "49148  tariq pervez born 30 december 1948 a pakistani...  \n",
       "44107  professor alastair buchan born 16 october 1955...  \n",
       "23126  rolando hernn cristante mandarino born 16 sept...  \n",
       "16022  george yull mackie baron mackie of benshie cbe...  \n",
       "20949  clint lowery born december 15 1971 is an ameri...  \n",
       "56569  rodney peter croome am is an australian lgbt r...  \n",
       "26247  barry geoffrey butler born 4 june 1962 farnwor...  \n",
       "3140   keith jeffery mria is a northern irish histori...  \n",
       "6576   dr sndor krti born 1947 graduated in 1971 from...  \n",
       "51419  the honourable sir david robert gilmour 4th ba...  \n",
       "\n",
       "[5907 rows x 3 columns]"
      ]
     },
     "execution_count": 4,
     "metadata": {},
     "output_type": "execute_result"
    }
   ],
   "source": [
    "wiki"
   ]
  },
  {
   "cell_type": "code",
   "execution_count": 5,
   "metadata": {},
   "outputs": [],
   "source": [
    "from sklearn.feature_extraction.text import TfidfVectorizer\n",
    "vectorizer = TfidfVectorizer(max_df=0.95)\n",
    "tf_idf = vectorizer.fit_transform(wiki['text'])\n",
    "map_index_to_word = {i: x for i, x in enumerate(vectorizer.get_feature_names())}"
   ]
  },
  {
   "cell_type": "code",
   "execution_count": 6,
   "metadata": {},
   "outputs": [
    {
     "data": {
      "text/plain": [
       "(5907, 112801)"
      ]
     },
     "execution_count": 6,
     "metadata": {},
     "output_type": "execute_result"
    }
   ],
   "source": [
    "tf_idf.shape"
   ]
  },
  {
   "cell_type": "markdown",
   "metadata": {},
   "source": [
    "For the remainder of the assignment, we will use sparse matrices. Sparse matrices are matrices that have a small number of nonzero entries. A good data structure for sparse matrices would only store the nonzero entries to save space and speed up computation. SciPy provides a highly-optimized library for sparse matrices. Many matrix operations available for NumPy arrays are also available for SciPy sparse matrices.\n",
    "\n",
    "We first convert the TF-IDF column (in dictionary format) into the SciPy sparse matrix format. We included plenty of comments for the curious; if you'd like, you may skip the next block and treat the function as a black box."
   ]
  },
  {
   "cell_type": "markdown",
   "metadata": {},
   "source": [
    "The above matrix contains a TF-IDF score for each of the 5907 pages in the data set and each of the 112801 unique words."
   ]
  },
  {
   "cell_type": "markdown",
   "metadata": {},
   "source": [
    "## Normalize all vectors"
   ]
  },
  {
   "cell_type": "markdown",
   "metadata": {},
   "source": [
    "As discussed in the previous assignment, Euclidean distance can be a poor metric of similarity between documents, as it unfairly penalizes long articles. For a reasonable assessment of similarity, we should disregard the length information and use length-agnostic metrics, such as cosine distance.\n",
    "\n",
    "The k-means algorithm does not directly work with cosine distance, so we take an alternative route to remove length information: we normalize all vectors to be unit length. It turns out that Euclidean distance closely mimics cosine distance when all vectors are unit length. In particular, the squared Euclidean distance between any two vectors of length one is directly proportional to their cosine distance.\n",
    "\n",
    "We can prove this as follows. Let $\\mathbf{x}$ and $\\mathbf{y}$ be normalized vectors, i.e. unit vectors, so that $\\|\\mathbf{x}\\|=\\|\\mathbf{y}\\|=1$. Write the squared Euclidean distance as the dot product of $(\\mathbf{x} - \\mathbf{y})$ to itself:\n",
    "\\begin{align*}\n",
    "\\|\\mathbf{x} - \\mathbf{y}\\|^2 &= (\\mathbf{x} - \\mathbf{y})^T(\\mathbf{x} - \\mathbf{y})\\\\\n",
    "                              &= (\\mathbf{x}^T \\mathbf{x}) - 2(\\mathbf{x}^T \\mathbf{y}) + (\\mathbf{y}^T \\mathbf{y})\\\\\n",
    "                              &= \\|\\mathbf{x}\\|^2 - 2(\\mathbf{x}^T \\mathbf{y}) + \\|\\mathbf{y}\\|^2\\\\\n",
    "                              &= 2 - 2(\\mathbf{x}^T \\mathbf{y})\\\\\n",
    "                              &= 2(1 - (\\mathbf{x}^T \\mathbf{y}))\\\\\n",
    "                              &= 2\\left(1 - \\frac{\\mathbf{x}^T \\mathbf{y}}{\\|\\mathbf{x}\\|\\|\\mathbf{y}\\|}\\right)\\\\\n",
    "                              &= 2\\left[\\text{cosine distance}\\right]\n",
    "\\end{align*}\n",
    "\n",
    "This tells us that two **unit vectors** that are close in Euclidean distance are also close in cosine distance. Thus, the k-means algorithm (which naturally uses Euclidean distances) on normalized vectors will produce the same results as clustering using cosine distance as a distance metric.\n",
    "\n",
    "We import the [`normalize()` function](http://scikit-learn.org/stable/modules/generated/sklearn.preprocessing.normalize.html) from scikit-learn to normalize all vectors to unit length."
   ]
  },
  {
   "cell_type": "code",
   "execution_count": 7,
   "metadata": {},
   "outputs": [],
   "source": [
    "from sklearn.preprocessing import normalize\n",
    "tf_idf = normalize(tf_idf)"
   ]
  },
  {
   "cell_type": "markdown",
   "metadata": {},
   "source": [
    "## Implement k-means"
   ]
  },
  {
   "cell_type": "markdown",
   "metadata": {},
   "source": [
    "Let us implement the k-means algorithm. First, we choose an initial set of centroids. A common practice is to choose randomly from the data points.\n",
    "\n",
    "**Note:** We specify a seed here, so that everyone gets the same answer. In practice, we highly recommend to use different seeds every time (for instance, by using the current timestamp)."
   ]
  },
  {
   "cell_type": "code",
   "execution_count": 8,
   "metadata": {},
   "outputs": [],
   "source": [
    "def get_initial_centroids(data, k, seed=None):\n",
    "    '''Randomly choose k data points as initial centroids'''\n",
    "    if seed is not None: # useful for obtaining consistent results\n",
    "        np.random.seed(seed)\n",
    "    n = data.shape[0] # number of data points\n",
    "        \n",
    "    # Pick K indices from range [0, N).\n",
    "    rand_indices = np.random.randint(0, n, k)\n",
    "    \n",
    "    # Keep centroids as dense format, as many entries will be nonzero due to averaging.\n",
    "    # As long as at least one document in a cluster contains a word,\n",
    "    # it will carry a nonzero weight in the TF-IDF vector of the centroid.\n",
    "    centroids = data[rand_indices,:].toarray()\n",
    "    \n",
    "    return centroids"
   ]
  },
  {
   "cell_type": "markdown",
   "metadata": {},
   "source": [
    "After initialization, the k-means algorithm iterates between the following two steps:\n",
    "1. Assign each data point to the closest centroid.\n",
    "$$\n",
    "z_i \\gets \\mathrm{argmin}_j \\|\\mu_j - \\mathbf{x}_i\\|^2\n",
    "$$\n",
    "2. Revise centroids as the mean of the assigned data points.\n",
    "$$\n",
    "\\mu_j \\gets \\frac{1}{n_j}\\sum_{i:z_i=j} \\mathbf{x}_i\n",
    "$$"
   ]
  },
  {
   "cell_type": "markdown",
   "metadata": {},
   "source": [
    "In pseudocode, we iteratively do the following:\n",
    "```\n",
    "cluster_assignment = assign_clusters(data, centroids)\n",
    "centroids = revise_centroids(data, k, cluster_assignment)\n",
    "```"
   ]
  },
  {
   "cell_type": "markdown",
   "metadata": {},
   "source": [
    "### Assigning clusters"
   ]
  },
  {
   "cell_type": "markdown",
   "metadata": {},
   "source": [
    "How do we implement Step 1 of the main k-means loop above? First import `pairwise_distances` function from scikit-learn, which calculates Euclidean distances between rows of given arrays. See [this documentation](http://scikit-learn.org/stable/modules/generated/sklearn.metrics.pairwise.pairwise_distances.html) for more information.\n",
    "\n",
    "For the sake of demonstration, let's look at documents 100 through 102 as query documents and compute the distances between each of these documents and every other document in the corpus. In the k-means algorithm, we will have to compute pairwise distances between the set of centroids and the set of documents."
   ]
  },
  {
   "cell_type": "code",
   "execution_count": 9,
   "metadata": {},
   "outputs": [
    {
     "name": "stdout",
     "output_type": "stream",
     "text": [
      "[[1.39996239 1.39958932]\n",
      " [1.40386156 1.39754968]\n",
      " [1.38421176 1.39682604]\n",
      " ...\n",
      " [1.40562888 1.39024794]\n",
      " [1.39673862 1.38306708]\n",
      " [1.40872806 1.40250208]]\n"
     ]
    }
   ],
   "source": [
    "from sklearn.metrics import pairwise_distances\n",
    "\n",
    "# Get the TF-IDF vectors for documents 100 through 102.\n",
    "queries = tf_idf[100:102,:]\n",
    "\n",
    "# Compute pairwise distances from every data point to each query vector.\n",
    "dist = pairwise_distances(tf_idf, queries, metric='euclidean')\n",
    "print(dist)"
   ]
  },
  {
   "cell_type": "markdown",
   "metadata": {},
   "source": [
    "More formally, `dist[i,j]` is assigned the distance between the `i`th row of `X` (i.e., `X[i,:]`) and the `j`th row of `Y` (i.e., `Y[j,:]`)."
   ]
  },
  {
   "cell_type": "markdown",
   "metadata": {},
   "source": [
    "**Checkpoint:** For a moment, suppose that we initialize three centroids with the first 3 rows of `tf_idf`. Write code to compute pairwise distances from each of the centroids (which we're initializing as the first 3 rows) to all data points in `tf_idf`, and save it `distances`. Then find the distance between row 430 of `tf_idf` and the second centroid by extracting it from `distances` and save it to `dist`."
   ]
  },
  {
   "cell_type": "code",
   "execution_count": 10,
   "metadata": {},
   "outputs": [],
   "source": [
    "# Students should write code here\n",
    "distances = pairwise_distances(tf_idf, tf_idf[0:3, :], metric='euclidean')\n",
    "dist = distances[430, 1]"
   ]
  },
  {
   "cell_type": "code",
   "execution_count": 11,
   "metadata": {},
   "outputs": [
    {
     "name": "stdout",
     "output_type": "stream",
     "text": [
      "Pass\n"
     ]
    }
   ],
   "source": [
    "'''Test cell'''\n",
    "if np.allclose(dist, pairwise_distances(tf_idf[430,:], tf_idf[1,:])):\n",
    "    print('Pass')\n",
    "else:\n",
    "    print('Check your code again')"
   ]
  },
  {
   "cell_type": "markdown",
   "metadata": {},
   "source": [
    "**Checkpoint:** Next, given the pairwise distances, we take the minimum of the distances for each data point. Fittingly, NumPy provides an `argmin` function. See [this documentation](http://docs.scipy.org/doc/numpy-1.10.1/reference/generated/numpy.argmin.html) for details.\n",
    "\n",
    "Read the documentation and write code to produce a 1D array whose i-th entry indicates the centroid that is the closest to the i-th data point. Use the list of distances from the previous checkpoint. Following the theme of this case study, we will judge whether the clustering makes sense in the context of document analysis.. Save this array as `closest_cluster`.\n",
    "\n",
    "**Hint:** the resulting array should be as long as the number of data points."
   ]
  },
  {
   "cell_type": "code",
   "execution_count": 12,
   "metadata": {},
   "outputs": [],
   "source": [
    "# Students should write code here\n",
    "closest_cluster = np.argmin(distances, axis = 1)"
   ]
  },
  {
   "cell_type": "code",
   "execution_count": 13,
   "metadata": {},
   "outputs": [
    {
     "name": "stdout",
     "output_type": "stream",
     "text": [
      "Pass\n"
     ]
    }
   ],
   "source": [
    "'''Test cell'''\n",
    "reference = [list(row).index(min(row)) for row in distances]\n",
    "if np.allclose(closest_cluster, reference):\n",
    "    print('Pass')\n",
    "else:\n",
    "    print('Check your code again')"
   ]
  },
  {
   "cell_type": "markdown",
   "metadata": {},
   "source": [
    "**Checkpoint:** Let's put these steps together.  First, initialize three centroids with the first 3 rows of `tf_idf`. Then, compute distances from each of the centroids to all data points in `tf_idf`. Finally, use these distance calculations to compute cluster assignments and assign them to `cluster_assignment`."
   ]
  },
  {
   "cell_type": "code",
   "execution_count": 14,
   "metadata": {},
   "outputs": [],
   "source": [
    "# Students should write code here\n",
    "cluster_assignment = closest_cluster"
   ]
  },
  {
   "cell_type": "code",
   "execution_count": 15,
   "metadata": {},
   "outputs": [
    {
     "name": "stdout",
     "output_type": "stream",
     "text": [
      "Pass\n"
     ]
    }
   ],
   "source": [
    "\"\"\"Test Cell\"\"\"\n",
    "if len(cluster_assignment)==5907 and \\\n",
    "   np.array_equal(np.bincount(cluster_assignment), np.array([515,  440, 4952])):\n",
    "    print('Pass') # count number of data points for each cluster\n",
    "else:\n",
    "    print('Check your code again.')"
   ]
  },
  {
   "cell_type": "markdown",
   "metadata": {},
   "source": [
    "Now we are ready to fill in the blanks the function `assign_clusters(data, centroids)`. \n",
    "\n",
    "Parameters:  \n",
    " - `data` - is an `np.array` of `float` values of length `N`.  \n",
    " - `centroids` - is an `np.array` of `float` values of length `k`.\n",
    "\n",
    "Returns  \n",
    "-  A `np.array` of length `N` where the `i`th index represents which centroid `data[i]` was assigned to. The assignments range between the values `0, ..., k-1`."
   ]
  },
  {
   "cell_type": "code",
   "execution_count": 16,
   "metadata": {},
   "outputs": [],
   "source": [
    "def assign_clusters(data, centroids):\n",
    "    \n",
    "    # Compute distances between each data point and the set of centroids:\n",
    "    distances_from_centroids = pairwise_distances(data, centroids, metric='euclidean')\n",
    "    \n",
    "    # Compute cluster assignments for each data point:\n",
    "    cluster_assignment = np.argmin(distances_from_centroids, axis=1)\n",
    "    \n",
    "    return cluster_assignment"
   ]
  },
  {
   "cell_type": "markdown",
   "metadata": {},
   "source": [
    "**Checkpoint**. For the last time, let us check if Step 1 was implemented correctly. With rows 0, 2, 4, and 6 of `tf_idf` as an initial set of centroids, we assign cluster labels to rows 0, 10, 20, ..., and 90 of `tf_idf`. The resulting cluster labels should be `[0, 3, 3, 3, 3, 2, 2, 1, 1, 1]`."
   ]
  },
  {
   "cell_type": "code",
   "execution_count": 17,
   "metadata": {},
   "outputs": [
    {
     "name": "stdout",
     "output_type": "stream",
     "text": [
      "Pass\n"
     ]
    }
   ],
   "source": [
    "if np.allclose(assign_clusters(tf_idf[0:100:10], tf_idf[0:8:2]), np.array([0, 3, 3, 3, 3, 2, 2, 1, 1, 1])):\n",
    "    print('Pass')\n",
    "else:\n",
    "    print('Check your code again.')"
   ]
  },
  {
   "cell_type": "markdown",
   "metadata": {},
   "source": [
    "### Revising clusters"
   ]
  },
  {
   "cell_type": "markdown",
   "metadata": {},
   "source": [
    "Let's turn to Step 2, where we compute the new centroids given the cluster assignments. "
   ]
  },
  {
   "cell_type": "markdown",
   "metadata": {},
   "source": [
    "SciPy and NumPy arrays allow for filtering via Boolean masks. For instance, we filter all data points that are assigned to cluster 0 by writing\n",
    "```\n",
    "data[cluster_assignment==0,:]\n",
    "```"
   ]
  },
  {
   "cell_type": "markdown",
   "metadata": {},
   "source": [
    "To develop intuition about filtering, let's look at a toy example consisting of 3 data points and 2 clusters."
   ]
  },
  {
   "cell_type": "code",
   "execution_count": 18,
   "metadata": {},
   "outputs": [],
   "source": [
    "data = np.array([[1., 2., 0.],\n",
    "                 [0., 0., 0.],\n",
    "                 [2., 2., 0.]])\n",
    "centroids = np.array([[0.5, 0.5, 0.],\n",
    "                      [0., -0.5, 0.]])"
   ]
  },
  {
   "cell_type": "markdown",
   "metadata": {},
   "source": [
    "Let's assign these data points to the closest centroid."
   ]
  },
  {
   "cell_type": "code",
   "execution_count": 19,
   "metadata": {},
   "outputs": [
    {
     "name": "stdout",
     "output_type": "stream",
     "text": [
      "[0 1 0]\n"
     ]
    }
   ],
   "source": [
    "cluster_assignment = assign_clusters(data, centroids)\n",
    "print(cluster_assignment)"
   ]
  },
  {
   "cell_type": "markdown",
   "metadata": {},
   "source": [
    "The expression `cluster_assignment==1` gives a list of Booleans that says whether each data point is assigned to cluster 1 or not:"
   ]
  },
  {
   "cell_type": "code",
   "execution_count": 20,
   "metadata": {},
   "outputs": [
    {
     "data": {
      "text/plain": [
       "array([False,  True, False])"
      ]
     },
     "execution_count": 20,
     "metadata": {},
     "output_type": "execute_result"
    }
   ],
   "source": [
    "cluster_assignment==1"
   ]
  },
  {
   "cell_type": "markdown",
   "metadata": {},
   "source": [
    "Likewise for cluster 0:"
   ]
  },
  {
   "cell_type": "code",
   "execution_count": 21,
   "metadata": {},
   "outputs": [
    {
     "data": {
      "text/plain": [
       "array([ True, False,  True])"
      ]
     },
     "execution_count": 21,
     "metadata": {},
     "output_type": "execute_result"
    }
   ],
   "source": [
    "cluster_assignment==0"
   ]
  },
  {
   "cell_type": "markdown",
   "metadata": {},
   "source": [
    "In lieu of indices, we can put in the list of Booleans to pick and choose rows. Only the rows that correspond to a `True` entry will be retained.\n",
    "\n",
    "First, let's look at the data points (i.e., their values) assigned to cluster 1:"
   ]
  },
  {
   "cell_type": "code",
   "execution_count": 22,
   "metadata": {},
   "outputs": [
    {
     "data": {
      "text/plain": [
       "array([[0., 0., 0.]])"
      ]
     },
     "execution_count": 22,
     "metadata": {},
     "output_type": "execute_result"
    }
   ],
   "source": [
    "data[cluster_assignment==1]"
   ]
  },
  {
   "cell_type": "markdown",
   "metadata": {},
   "source": [
    "This makes sense since [0 0 0] is closer to [0 -0.5 0] than to [0.5 0.5 0].\n",
    "\n",
    "Now let's look at the data points assigned to cluster 0:"
   ]
  },
  {
   "cell_type": "code",
   "execution_count": 23,
   "metadata": {},
   "outputs": [
    {
     "data": {
      "text/plain": [
       "array([[1., 2., 0.],\n",
       "       [2., 2., 0.]])"
      ]
     },
     "execution_count": 23,
     "metadata": {},
     "output_type": "execute_result"
    }
   ],
   "source": [
    "data[cluster_assignment==0]"
   ]
  },
  {
   "cell_type": "markdown",
   "metadata": {},
   "source": [
    "Again, this makes sense since these values are each closer to [0.5 0.5 0] than to [0 -0.5 0].\n",
    "\n",
    "Given all the data points in a cluster, it only remains to compute the mean. Use [np.mean()](http://docs.scipy.org/doc/numpy-1.10.0/reference/generated/numpy.mean.html). By default, the function averages all elements in a 2D array. To compute row-wise or column-wise means, add the `axis` argument. See the linked documentation for details. \n",
    "\n",
    "Use this function to average the data points in cluster 0:"
   ]
  },
  {
   "cell_type": "code",
   "execution_count": 24,
   "metadata": {},
   "outputs": [
    {
     "data": {
      "text/plain": [
       "array([1.5, 2. , 0. ])"
      ]
     },
     "execution_count": 24,
     "metadata": {},
     "output_type": "execute_result"
    }
   ],
   "source": [
    "data[cluster_assignment==0].mean(axis=0)"
   ]
  },
  {
   "cell_type": "markdown",
   "metadata": {},
   "source": [
    "Now we are ready to fill in the blanks the function `revise_centroids(data, k, cluster_assignment)`. \n",
    "\n",
    "Parameters:  \n",
    " - `data` - is an `np.array` of `float` values of length `N`.\n",
    " - `k` - number of centroids\n",
    " - `cluster_assignment` - `np.array` of length `N` where the `i`th index represents which centroid `data[i]` was assigned to. The assignments range between the values `0, ..., k-1`.\n",
    "\n",
    "Returns  \n",
    "-  A `np.array` of length `k` for the new centroids."
   ]
  },
  {
   "cell_type": "code",
   "execution_count": 25,
   "metadata": {},
   "outputs": [],
   "source": [
    "def revise_centroids(data, k, cluster_assignment):\n",
    "    new_centroids = []\n",
    "    for i in range(k):\n",
    "        # Select all data points that belong to cluster i. Fill in the blank (RHS only)\n",
    "        member_data_points = data[cluster_assignment == i]\n",
    "        # Compute the mean of the data points. Fill in the blank (RHS only)\n",
    "        centroid = member_data_points.mean(axis=0)\n",
    "        \n",
    "        # Convert numpy.matrix type to numpy.ndarray type\n",
    "        centroid = centroid.A1\n",
    "        new_centroids.append(centroid)\n",
    "    new_centroids = np.array(new_centroids)\n",
    "    \n",
    "    return new_centroids"
   ]
  },
  {
   "cell_type": "markdown",
   "metadata": {},
   "source": [
    "**Checkpoint**. Let's check our Step 2 implementation. Letting rows 0, 10, ..., 100 of `tf_idf` as the data points and the cluster labels `[0, 1, 1, 0, 0, 2, 0, 2, 2, 1]`, we compute the next set of centroids. Each centroid is given by the average of all member data points in corresponding cluster."
   ]
  },
  {
   "cell_type": "code",
   "execution_count": 26,
   "metadata": {},
   "outputs": [
    {
     "name": "stdout",
     "output_type": "stream",
     "text": [
      "Pass\n"
     ]
    }
   ],
   "source": [
    "result = revise_centroids(tf_idf[0:100:10], 3, np.array([0, 1, 1, 0, 0, 2, 0, 2, 2, 1]))\n",
    "if np.allclose(result[0], np.mean(tf_idf[[0,30,40,60]].toarray(), axis=0)) and \\\n",
    "   np.allclose(result[1], np.mean(tf_idf[[10,20,90]].toarray(), axis=0))   and \\\n",
    "   np.allclose(result[2], np.mean(tf_idf[[50,70,80]].toarray(), axis=0)):\n",
    "    print('Pass')\n",
    "else:\n",
    "    print('Check your code')"
   ]
  },
  {
   "cell_type": "markdown",
   "metadata": {},
   "source": [
    "### Assessing convergence"
   ]
  },
  {
   "cell_type": "markdown",
   "metadata": {},
   "source": [
    "How can we tell if the k-means algorithm is converging? We can look at the cluster assignments and see if they stabilize over time. In fact, we'll be running the algorithm until the cluster assignments stop changing at all. To be extra safe, and to assess the clustering performance, we'll be looking at an additional criteria: the sum of all squared distances between data points and centroids. This is defined as\n",
    "$$\n",
    "J(\\mathcal{Z},\\mu) = \\sum_{j=1}^k \\sum_{i:z_i = j} \\|\\mathbf{x}_i - \\mu_j\\|^2.\n",
    "$$\n",
    "The smaller the distances, the more homogeneous the clusters are. In other words, we'd like to have \"tight\" clusters."
   ]
  },
  {
   "cell_type": "code",
   "execution_count": 27,
   "metadata": {},
   "outputs": [],
   "source": [
    "def compute_heterogeneity(data, k, centroids, cluster_assignment):\n",
    "    \n",
    "    heterogeneity = 0.0\n",
    "    for i in range(k):\n",
    "        \n",
    "        # Select all data points that belong to cluster i. Fill in the blank (RHS only)\n",
    "        member_data_points = data[cluster_assignment==i,:]\n",
    "        \n",
    "        if member_data_points.shape[0] > 0: # check if i-th cluster is non-empty\n",
    "            # Compute distances from centroid to data point\n",
    "            distances = pairwise_distances(member_data_points, [centroids[i]], metric='euclidean')\n",
    "            squared_distances = distances**2\n",
    "            heterogeneity += np.sum(squared_distances)\n",
    "        \n",
    "    return heterogeneity"
   ]
  },
  {
   "cell_type": "markdown",
   "metadata": {},
   "source": [
    "Let's compute the cluster heterogeneity for the 2-cluster example we've been considering based on our current cluster assignments and centroids."
   ]
  },
  {
   "cell_type": "code",
   "execution_count": 28,
   "metadata": {},
   "outputs": [
    {
     "data": {
      "text/plain": [
       "7.25"
      ]
     },
     "execution_count": 28,
     "metadata": {},
     "output_type": "execute_result"
    }
   ],
   "source": [
    "compute_heterogeneity(data, 2, centroids, cluster_assignment)"
   ]
  },
  {
   "cell_type": "markdown",
   "metadata": {},
   "source": [
    "### Combining into a single function"
   ]
  },
  {
   "cell_type": "markdown",
   "metadata": {},
   "source": [
    "Once the two k-means steps have been implemented, as well as our heterogeneity metric we wish to monitor, it is only a matter of putting these functions together to write a k-means algorithm that\n",
    "\n",
    "* Repeatedly performs Steps 1 and 2\n",
    "* Tracks convergence metrics\n",
    "* Stops if either no assignment changed or we reach a certain number of iterations."
   ]
  },
  {
   "cell_type": "markdown",
   "metadata": {},
   "source": [
    "Now we are ready to fill in the blanks the function `kmeans(data, k, initial_centroids, maxiter, record_heterogeneity=None, verbose=False)`. \n",
    "\n",
    "Parameters:  \n",
    " - `data` - is an `np.array` of `float` values of length `N`.\n",
    " - `k` - number of centroids\n",
    " - `initial_centroids` - is an `np.array` of `float` values of length `k`.\n",
    " - `maxiter` - maximum number of iterations to run the algorithm\n",
    " - `record_heterogeneity` - if provided an empty list, it will compute the heterogeneity at each iteration and append it to the list. Defaults to `None` and won't record heterogeneity.\n",
    " - `verbose` - set to True to display progress. Defaults to `False` and won't display progress.\n",
    "\n",
    "Returns  \n",
    "- `centroids` - A `np.array` of length `k` for the centroids upon termination of the algorithm.\n",
    "- `cluster_assignment` - A `np.array` of length `N` where the `i`th index represents which centroid `data[i]` was assigned to. The assignments range between the values `0, ..., k-1` upon termination of the algorithm."
   ]
  },
  {
   "cell_type": "code",
   "execution_count": 29,
   "metadata": {},
   "outputs": [],
   "source": [
    "# Fill in the blanks\n",
    "def kmeans(data, k, initial_centroids, maxiter, record_heterogeneity=None, verbose=False):\n",
    "    '''This function runs k-means on given data and initial set of centroids.\n",
    "       maxiter: maximum number of iterations to run.\n",
    "       record_heterogeneity: (optional) a list, to store the history of heterogeneity as function of iterations\n",
    "                             if None, do not store the history.\n",
    "       verbose: if True, print how many data points changed their cluster labels in each iteration'''\n",
    "    centroids = initial_centroids[:]\n",
    "    prev_cluster_assignment = None\n",
    "    \n",
    "    for itr in range(maxiter):        \n",
    "        if verbose:\n",
    "            print(itr)\n",
    "        \n",
    "        # 1. Make cluster assignments using nearest centroids\n",
    "        cluster_assignment = assign_clusters(data, centroids)\n",
    "            \n",
    "        # 2. Compute a new centroid for each of the k clusters, averaging all data points assigned to that cluster.\n",
    "        centroids = revise_centroids(data, k, cluster_assignment)\n",
    "            \n",
    "        # Check for convergence: if none of the assignments changed, stop\n",
    "        if prev_cluster_assignment is not None and \\\n",
    "          (prev_cluster_assignment==cluster_assignment).all():\n",
    "            break\n",
    "        \n",
    "        # Print number of new assignments \n",
    "        if prev_cluster_assignment is not None:\n",
    "            num_changed = sum(abs(prev_cluster_assignment-cluster_assignment))\n",
    "            if verbose:\n",
    "                print('    {0:5d} elements changed their cluster assignment.'.format(num_changed))   \n",
    "        \n",
    "        # Record heterogeneity convergence metric\n",
    "        if record_heterogeneity is not None:\n",
    "            score = compute_heterogeneity(data, k, centroids, cluster_assignment)\n",
    "            record_heterogeneity.append(score)\n",
    "        \n",
    "        prev_cluster_assignment = cluster_assignment[:]\n",
    "        \n",
    "    return centroids, cluster_assignment"
   ]
  },
  {
   "cell_type": "markdown",
   "metadata": {},
   "source": [
    "## Plotting convergence metric"
   ]
  },
  {
   "cell_type": "markdown",
   "metadata": {},
   "source": [
    "We can use the above function to plot the convergence metric across iterations."
   ]
  },
  {
   "cell_type": "code",
   "execution_count": 30,
   "metadata": {},
   "outputs": [],
   "source": [
    "def plot_heterogeneity(heterogeneity, k):\n",
    "    plt.figure(figsize=(7,4))\n",
    "    plt.plot(heterogeneity, linewidth=4)\n",
    "    plt.xlabel('# Iterations')\n",
    "    plt.ylabel('Heterogeneity')\n",
    "    plt.title('Heterogeneity of clustering over time, K={0:d}'.format(k))\n",
    "    plt.rcParams.update({'font.size': 16})\n",
    "    plt.tight_layout()"
   ]
  },
  {
   "cell_type": "markdown",
   "metadata": {},
   "source": [
    "Let's consider running k-means with K=3 clusters for a maximum of 400 iterations, recording cluster heterogeneity at every step.  Then, let's plot the heterogeneity over iterations using the plotting function above."
   ]
  },
  {
   "cell_type": "code",
   "execution_count": 31,
   "metadata": {
    "scrolled": true
   },
   "outputs": [
    {
     "name": "stdout",
     "output_type": "stream",
     "text": [
      "0\n",
      "1\n",
      "     2036 elements changed their cluster assignment.\n",
      "2\n",
      "      654 elements changed their cluster assignment.\n",
      "3\n",
      "      376 elements changed their cluster assignment.\n",
      "4\n",
      "      264 elements changed their cluster assignment.\n",
      "5\n",
      "      112 elements changed their cluster assignment.\n",
      "6\n",
      "       37 elements changed their cluster assignment.\n",
      "7\n",
      "       10 elements changed their cluster assignment.\n",
      "8\n",
      "        6 elements changed their cluster assignment.\n",
      "9\n",
      "        2 elements changed their cluster assignment.\n",
      "10\n",
      "        2 elements changed their cluster assignment.\n",
      "11\n"
     ]
    },
    {
     "data": {
      "image/png": "[encoded data removed]",
      "text/plain": [
       "<Figure size 504x288 with 1 Axes>"
      ]
     },
     "metadata": {
      "needs_background": "light"
     },
     "output_type": "display_data"
    }
   ],
   "source": [
    "k = 3\n",
    "heterogeneity = []\n",
    "initial_centroids = get_initial_centroids(tf_idf, k, seed=0)\n",
    "centroids, cluster_assignment = kmeans(tf_idf, k, initial_centroids, maxiter=400,\n",
    "                                       record_heterogeneity=heterogeneity, verbose=True)\n",
    "plot_heterogeneity(heterogeneity, k)"
   ]
  },
  {
   "cell_type": "markdown",
   "metadata": {},
   "source": [
    "**Quiz Question**. (True/False) The clustering objective (heterogeneity) is non-increasing for this example. True"
   ]
  },
  {
   "cell_type": "markdown",
   "metadata": {},
   "source": [
    "**Quiz Question**. Let's step back from this particular example. If the clustering objective (heterogeneity) would ever increase when running k-means, that would indicate: (choose one)\n",
    "\n",
    "1. k-means algorithm got stuck in a bad local minimum\n",
    "2. There is a bug in the k-means code (o)\n",
    "3. All data points consist of exact duplicates\n",
    "4. Nothing is wrong. The objective should generally go down sooner or later."
   ]
  },
  {
   "cell_type": "markdown",
   "metadata": {},
   "source": [
    "**Quiz Question**. Which of the cluster contains the greatest number of data points in the end? Hint: Use [`np.bincount()`](http://docs.scipy.org/doc/numpy-1.11.0/reference/generated/numpy.bincount.html) to count occurrences of each cluster label.\n",
    " 1. Cluster #0 (o)\n",
    " 2. Cluster #1\n",
    " 3. Cluster #2"
   ]
  },
  {
   "cell_type": "code",
   "execution_count": 32,
   "metadata": {},
   "outputs": [
    {
     "data": {
      "text/plain": [
       "array([4689,  404,  814])"
      ]
     },
     "execution_count": 32,
     "metadata": {},
     "output_type": "execute_result"
    }
   ],
   "source": [
    "np.bincount(cluster_assignment)"
   ]
  },
  {
   "cell_type": "markdown",
   "metadata": {},
   "source": [
    "## Beware of local maxima"
   ]
  },
  {
   "cell_type": "markdown",
   "metadata": {},
   "source": [
    "One weakness of k-means is that it tends to get stuck in a local minimum. To see this, let us run k-means multiple times, with different initial centroids created using different random seeds.\n",
    "\n",
    "**Note:** Again, in practice, you should set different seeds for every run. We give you a list of seeds for this assignment so that everyone gets the same answer.\n",
    "\n",
    "This may take several minutes to run."
   ]
  },
  {
   "cell_type": "code",
   "execution_count": 33,
   "metadata": {
    "scrolled": false
   },
   "outputs": [
    {
     "name": "stdout",
     "output_type": "stream",
     "text": [
      "seed=000000, heterogeneity=5569.17352\n",
      "seed=020000, heterogeneity=5563.93396\n",
      "seed=040000, heterogeneity=5562.09533\n",
      "seed=060000, heterogeneity=5574.80813\n",
      "seed=080000, heterogeneity=5563.38377\n",
      "seed=100000, heterogeneity=5565.93209\n",
      "seed=120000, heterogeneity=5572.40064\n",
      "10.134841203689575\n"
     ]
    }
   ],
   "source": [
    "k = 10\n",
    "heterogeneity = {}\n",
    "import time\n",
    "start = time.time()\n",
    "for seed in [0, 20000, 40000, 60000, 80000, 100000, 120000]:\n",
    "    initial_centroids = get_initial_centroids(tf_idf, k, seed)\n",
    "    centroids, cluster_assignment = kmeans(tf_idf, k, initial_centroids, maxiter=400,\n",
    "                                           record_heterogeneity=None, verbose=False)\n",
    "    # To save time, compute heterogeneity only once in the end\n",
    "    heterogeneity[seed] = compute_heterogeneity(tf_idf, k, centroids, cluster_assignment)\n",
    "    print('seed={0:06d}, heterogeneity={1:.5f}'.format(seed, heterogeneity[seed]))\n",
    "    \n",
    "    sys.stdout.flush()\n",
    "end = time.time()\n",
    "print(end-start)"
   ]
  },
  {
   "cell_type": "markdown",
   "metadata": {},
   "source": [
    "Notice the variation in heterogeneity for different initializations. This indicates that k-means sometimes gets stuck at a bad local minimum."
   ]
  },
  {
   "cell_type": "markdown",
   "metadata": {},
   "source": [
    "One effective way to counter this tendency is to use **k-means++** to provide a smart initialization. This method tries to spread out the initial set of centroids so that they are not too close together. It is known to improve the quality of local optima and lower average runtime."
   ]
  },
  {
   "cell_type": "code",
   "execution_count": 34,
   "metadata": {},
   "outputs": [],
   "source": [
    "def smart_initialize(data, k, seed=None):\n",
    "    '''Use k-means++ to initialize a good set of centroids'''\n",
    "    if seed is not None: # useful for obtaining consistent results\n",
    "        np.random.seed(seed)\n",
    "    centroids = np.zeros((k, data.shape[1]))\n",
    "    \n",
    "    # Randomly choose the first centroid.\n",
    "    # Since we have no prior knowledge, choose uniformly at random\n",
    "    idx = np.random.randint(data.shape[0])\n",
    "    centroids[0] = data[idx,:].toarray()\n",
    "    # Compute distances from the first centroid chosen to all the other data points\n",
    "    distances = pairwise_distances(data, centroids[0:1], metric='euclidean').flatten()\n",
    "    \n",
    "    for i in range(1, k):\n",
    "        # Choose the next centroid randomly, so that the probability for each data point to be chosen\n",
    "        # is directly proportional to its squared distance from the nearest centroid.\n",
    "        # Roughtly speaking, a new centroid should be as far as from ohter centroids as possible.\n",
    "        idx = np.random.choice(data.shape[0], 1, p=distances/sum(distances))\n",
    "        centroids[i] = data[idx,:].toarray()\n",
    "        # Now compute distances from the centroids to all data points\n",
    "        distances = np.min(pairwise_distances(data, centroids[0:i+1], metric='euclidean'),axis=1)\n",
    "    \n",
    "    return centroids"
   ]
  },
  {
   "cell_type": "markdown",
   "metadata": {},
   "source": [
    "Let's now rerun k-means with 10 clusters using the same set of seeds, but always using k-means++ to initialize the algorithm.\n",
    "\n",
    "This may take several minutes to run."
   ]
  },
  {
   "cell_type": "code",
   "execution_count": 35,
   "metadata": {},
   "outputs": [
    {
     "name": "stdout",
     "output_type": "stream",
     "text": [
      "seed=000000, heterogeneity=5563.24947\n",
      "seed=020000, heterogeneity=5569.53006\n",
      "seed=040000, heterogeneity=5563.95996\n",
      "seed=060000, heterogeneity=5567.74848\n",
      "seed=080000, heterogeneity=5557.53663\n",
      "seed=100000, heterogeneity=5559.45113\n",
      "seed=120000, heterogeneity=5559.02003\n",
      "10.820807933807373\n"
     ]
    }
   ],
   "source": [
    "k = 10\n",
    "heterogeneity_smart = {}\n",
    "start = time.time()\n",
    "for seed in [0, 20000, 40000, 60000, 80000, 100000, 120000]:\n",
    "    initial_centroids = smart_initialize(tf_idf, k, seed)\n",
    "    centroids, cluster_assignment = kmeans(tf_idf, k, initial_centroids, maxiter=400,\n",
    "                                           record_heterogeneity=None, verbose=False)\n",
    "    # To save time, compute heterogeneity only once in the end\n",
    "    heterogeneity_smart[seed] = compute_heterogeneity(tf_idf, k, centroids, cluster_assignment)\n",
    "    print('seed={0:06d}, heterogeneity={1:.5f}'.format(seed, heterogeneity_smart[seed]))\n",
    "    sys.stdout.flush()\n",
    "end = time.time()\n",
    "print(end-start)"
   ]
  },
  {
   "cell_type": "markdown",
   "metadata": {},
   "source": [
    "Let's compare the set of cluster heterogeneities we got from our 7 restarts of k-means using random initialization compared to the 7 restarts of k-means using k-means++ as a smart initialization.\n",
    "\n",
    "The following code produces a [box plot](http://matplotlib.org/api/pyplot_api.html) for each of these methods, indicating the spread of values produced by each method."
   ]
  },
  {
   "cell_type": "code",
   "execution_count": 36,
   "metadata": {},
   "outputs": [
    {
     "data": {
      "image/png": "[encoded data removed]",
      "text/plain": [
       "<Figure size 576x360 with 1 Axes>"
      ]
     },
     "metadata": {
      "needs_background": "light"
     },
     "output_type": "display_data"
    }
   ],
   "source": [
    "plt.figure(figsize=(8,5))\n",
    "plt.boxplot([list(heterogeneity.values()), list(heterogeneity_smart.values())], vert=False)\n",
    "plt.yticks([1, 2], ['k-means', 'k-means++'])\n",
    "plt.rcParams.update({'font.size': 16})\n",
    "plt.tight_layout()"
   ]
  },
  {
   "cell_type": "markdown",
   "metadata": {},
   "source": [
    "A few things to notice from the box plot:\n",
    "* Random initialization results in a worse clustering than k-means++ on average.\n",
    "* The best result of k-means++ is better than the best result of random initialization."
   ]
  },
  {
   "cell_type": "markdown",
   "metadata": {},
   "source": [
    "**In general, you should run k-means at least a few times with different initializations and then return the run resulting in the lowest heterogeneity.** Let us write a function that runs k-means multiple times and picks the best run that minimizes heterogeneity. The function accepts an optional list of seed values to be used for the multiple runs; if no such list is provided, the current UTC time is used as seed values."
   ]
  },
  {
   "cell_type": "markdown",
   "metadata": {},
   "source": [
    "Now we are ready to fill in the blanks the function `kmeans_multiple_runs(data, k, maxiter, verbose=False)`. \n",
    "\n",
    "Parameters:  \n",
    " - `data` - is an `np.array` of `float` values of length `N`.\n",
    " - `k` - number of centroids\n",
    " - `maxiter` - maximum number of iterations to run the algorithm\n",
    " - `verbose` - set to True to display progress. Defaults to `False` and won't display progress.\n",
    "\n",
    "Returns  \n",
    "- `final_centroids` - A `np.array` of length `k` for the centroids upon termination of the algorithm.\n",
    "- `final_cluster_assignment` - A `np.array` of length `N` where the `i`th index represents which centroid `data[i]` was assigned to. The assignments range between the values `0, ..., k-1` upon termination of the algorithm."
   ]
  },
  {
   "cell_type": "code",
   "execution_count": 43,
   "metadata": {},
   "outputs": [],
   "source": [
    "def kmeans_multiple_runs(data, k, maxiter, verbose=False):\n",
    "    heterogeneity = {}\n",
    "    \n",
    "    min_heterogeneity_achieved = float('inf')\n",
    "    best_seed = None\n",
    "    final_centroids = None\n",
    "    final_cluster_assignment = None\n",
    "    seed_list = [0, 20000, 40000, 60000, 80000, 100000, 120000]\n",
    "    num_runs = len(seed_list)\n",
    "    \n",
    "    for seed in seed_list:\n",
    "        \n",
    "        # Use k-means++ initialization: Fill in the blank\n",
    "        # Set record_heterogeneity=None because we will compute that once\n",
    "        initial_centroids = smart_initialize(data, k, seed)\n",
    "        \n",
    "        # Run k-means: Fill in the blank \n",
    "        centroids, cluster_assignment = kmeans(data, k, initial_centroids, maxiter, record_heterogeneity=None, verbose=False)\n",
    "        \n",
    "        # To save time, compute heterogeneity only once in the end\n",
    "        # Fill in the blank on the right\n",
    "        heterogeneity[seed] = compute_heterogeneity(data, k, centroids, cluster_assignment)\n",
    "        \n",
    "        if verbose:\n",
    "            print('seed={0:06d}, heterogeneity={1:.5f}'.format(seed, heterogeneity[seed]))\n",
    "            sys.stdout.flush()\n",
    "        \n",
    "        # if current measurement of heterogeneity is lower than previously seen,\n",
    "        # update the minimum record of heterogeneity.\n",
    "        if heterogeneity[seed] < min_heterogeneity_achieved:\n",
    "            min_heterogeneity_achieved = heterogeneity[seed]\n",
    "            best_seed = seed\n",
    "            final_centroids = centroids\n",
    "            final_cluster_assignment = cluster_assignment\n",
    "    \n",
    "    # Return the centroids and cluster assignments that minimize heterogeneity.\n",
    "    return final_centroids, final_cluster_assignment"
   ]
  },
  {
   "cell_type": "markdown",
   "metadata": {},
   "source": [
    "## How to choose K"
   ]
  },
  {
   "cell_type": "markdown",
   "metadata": {},
   "source": [
    "Since we are measuring the tightness of the clusters, a higher value of K reduces the possible heterogeneity metric by definition.  For example, if we have N data points and set K=N clusters, then we could have 0 cluster heterogeneity by setting the N centroids equal to the values of the N data points. (Note: Not all runs for larger K will result in lower heterogeneity than a single run with smaller K due to local optima.)  Let's explore this general trend for ourselves by performing the following analysis."
   ]
  },
  {
   "cell_type": "markdown",
   "metadata": {},
   "source": [
    "Use the `kmeans_multiple_runs` function to run k-means with five different values of K.  For each K, use k-means++ and multiple runs to pick the best solution.  In what follows, we consider K=2,10,25,50,100 and 7 restarts for each setting.\n",
    "\n",
    "\n",
    "**IMPORTANT: The code block below will take about 5-6 minutes to finish. **"
   ]
  },
  {
   "cell_type": "code",
   "execution_count": 44,
   "metadata": {
    "scrolled": false
   },
   "outputs": [
    {
     "name": "stdout",
     "output_type": "stream",
     "text": [
      "seed=000000, heterogeneity=5680.07682\n",
      "seed=020000, heterogeneity=5668.36228\n",
      "seed=040000, heterogeneity=5668.36228\n",
      "seed=060000, heterogeneity=5668.36228\n",
      "seed=080000, heterogeneity=5668.36228\n",
      "seed=100000, heterogeneity=5668.36228\n",
      "seed=120000, heterogeneity=5668.36228\n",
      "seed=000000, heterogeneity=5563.24947\n",
      "seed=020000, heterogeneity=5569.53006\n",
      "seed=040000, heterogeneity=5563.95996\n",
      "seed=060000, heterogeneity=5567.74848\n",
      "seed=080000, heterogeneity=5557.53663\n",
      "seed=100000, heterogeneity=5559.45113\n",
      "seed=120000, heterogeneity=5559.02003\n",
      "seed=000000, heterogeneity=5491.20281\n",
      "seed=020000, heterogeneity=5480.00474\n",
      "seed=040000, heterogeneity=5486.59028\n",
      "seed=060000, heterogeneity=5486.73993\n",
      "seed=080000, heterogeneity=5490.82007\n",
      "seed=100000, heterogeneity=5492.46847\n",
      "seed=120000, heterogeneity=5484.84417\n",
      "seed=000000, heterogeneity=5416.40094\n",
      "seed=020000, heterogeneity=5406.00305\n",
      "seed=040000, heterogeneity=5399.31884\n",
      "seed=060000, heterogeneity=5433.94626\n",
      "seed=080000, heterogeneity=5415.92085\n",
      "seed=100000, heterogeneity=5410.96134\n",
      "seed=120000, heterogeneity=5405.29165\n",
      "seed=000000, heterogeneity=5328.94591\n",
      "seed=020000, heterogeneity=5323.74445\n",
      "seed=040000, heterogeneity=5326.32351\n",
      "seed=060000, heterogeneity=5325.90455\n",
      "seed=080000, heterogeneity=5316.97425\n",
      "seed=100000, heterogeneity=5323.80246\n",
      "seed=120000, heterogeneity=5320.05881\n",
      "232.30128812789917\n"
     ]
    },
    {
     "data": {
      "image/png": "[encoded data removed]",
      "text/plain": [
       "<Figure size 504x288 with 1 Axes>"
      ]
     },
     "metadata": {
      "needs_background": "light"
     },
     "output_type": "display_data"
    }
   ],
   "source": [
    "def plot_k_vs_heterogeneity(k_values, heterogeneity_values):\n",
    "    plt.figure(figsize=(7,4))\n",
    "    plt.plot(k_values, heterogeneity_values, linewidth=4)\n",
    "    plt.xlabel('K')\n",
    "    plt.ylabel('Heterogeneity')\n",
    "    plt.title('K vs. Heterogeneity')\n",
    "    plt.rcParams.update({'font.size': 16})\n",
    "    plt.tight_layout()\n",
    "\n",
    "start = time.time()\n",
    "centroids = {}\n",
    "cluster_assignment = {}\n",
    "heterogeneity_values = []\n",
    "k_list = [2, 10, 25, 50, 100]\n",
    "\n",
    "for k in k_list:\n",
    "    heterogeneity = []\n",
    "    centroids[k], cluster_assignment[k] = kmeans_multiple_runs(tf_idf, k, maxiter=400,\n",
    "                                                               verbose=True)\n",
    "    score = compute_heterogeneity(tf_idf, k, centroids[k], cluster_assignment[k])\n",
    "    heterogeneity_values.append(score)\n",
    "\n",
    "plot_k_vs_heterogeneity(k_list, heterogeneity_values)\n",
    "\n",
    "end = time.time()\n",
    "print(end-start)"
   ]
  },
  {
   "cell_type": "markdown",
   "metadata": {},
   "source": [
    "In the above plot we show that heterogeneity goes down as we increase the number of clusters. Does this mean we should always favor a higher K? **Not at all!** As we will see in the following section, setting K too high may end up separating data points that are actually pretty alike. At the extreme, we can set individual data points to be their own clusters (K=N) and achieve zero heterogeneity, but separating each data point into its own cluster is hardly a desirable outcome. In the following section, we will learn how to detect a K set \"too large\"."
   ]
  },
  {
   "cell_type": "markdown",
   "metadata": {},
   "source": [
    "## Visualize clusters of documents"
   ]
  },
  {
   "cell_type": "markdown",
   "metadata": {},
   "source": [
    "Let's start visualizing some clustering results to see if we think the clustering makes sense.  We can use such visualizations to help us assess whether we have set K too large or too small for a given application.  Following the theme of this course, we will judge whether the clustering makes sense in the context of document analysis.\n",
    "\n",
    "What are we looking for in a good clustering of documents?\n",
    "* Documents in the same cluster should be similar.\n",
    "* Documents from different clusters should be less similar.\n",
    "\n",
    "So a bad clustering exhibits either of two symptoms:\n",
    "* Documents in a cluster have mixed content.\n",
    "* Documents with similar content are divided up and put into different clusters.\n",
    "\n",
    "To help visualize the clustering, we do the following:\n",
    "* Fetch nearest neighbors of each centroid from the set of documents assigned to that cluster. We will consider these documents as being representative of the cluster.\n",
    "* Print titles and first sentences of those nearest neighbors.\n",
    "* Print top 5 words that have highest tf-idf weights in each centroid."
   ]
  },
  {
   "cell_type": "code",
   "execution_count": 45,
   "metadata": {},
   "outputs": [],
   "source": [
    "def visualize_document_clusters(wiki, tf_idf, centroids, cluster_assignment, k, map_index_to_word, display_content=True):\n",
    "    '''wiki: original dataframe\n",
    "       tf_idf: data matrix, sparse matrix format\n",
    "       map_index_to_word: SFrame specifying the mapping betweeen words and column indices\n",
    "       display_content: if True, display 8 nearest neighbors of each centroid'''\n",
    "    \n",
    "    print('==========================================================')\n",
    "\n",
    "    # Visualize each cluster c\n",
    "    for c in range(k):\n",
    "        # Cluster heading\n",
    "        print('Cluster {0:d}    '.format(c)),\n",
    "        # Print top 5 words with largest TF-IDF weights in the cluster\n",
    "        idx = centroids[c].argsort()[::-1]\n",
    "        for i in range(5): # Print each word along with the TF-IDF weight\n",
    "            print('{0:s}:{1:.3f}'.format(map_index_to_word[idx[i]], centroids[c,idx[i]]), end=' '),\n",
    "        print('')\n",
    "        \n",
    "        if display_content:\n",
    "            # Compute distances from the centroid to all data points in the cluster,\n",
    "            # and compute nearest neighbors of the centroids within the cluster.\n",
    "            distances = pairwise_distances(tf_idf, centroids[c].reshape(1, -1), metric='euclidean').flatten()\n",
    "            distances[cluster_assignment!=c] = float('inf') # remove non-members from consideration\n",
    "            nearest_neighbors = distances.argsort()\n",
    "            # For 8 nearest neighbors, print the title as well as first 180 characters of text.\n",
    "            # Wrap the text at 80-character mark.\n",
    "            for i in range(8):\n",
    "                print(nearest_neighbors[i])\n",
    "                text = ' '.join(wiki.iloc[nearest_neighbors[i]]['text'].split(None, 25)[0:25])\n",
    "                print('\\n* {0:50s} {1:.5f}\\n  {2:s}\\n  {3:s}'.format(wiki.iloc[nearest_neighbors[i]]['name'],\n",
    "                    distances[nearest_neighbors[i]], text[:90], text[90:180] if len(text) > 90 else ''))\n",
    "        print('==========================================================')"
   ]
  },
  {
   "cell_type": "markdown",
   "metadata": {},
   "source": [
    "Let us first look at the 2 cluster case (K=2)."
   ]
  },
  {
   "cell_type": "code",
   "execution_count": 46,
   "metadata": {},
   "outputs": [
    {
     "name": "stdout",
     "output_type": "stream",
     "text": [
      "==========================================================\n",
      "Cluster 0    \n",
      "she:0.169 her:0.117 was:0.040 for:0.038 as:0.033 \n",
      "5873\n",
      "\n",
      "* Bhama Srinivasan                                   0.89235\n",
      "  bhama srinivasan april 22 1935 is a mathematician known for her work in the representation\n",
      "   theory of finite groups her contributions were honored with the\n",
      "3075\n",
      "\n",
      "* Delores Brumfield                                  0.89849\n",
      "  delores brumfield white born may 26 1932 is a former utility infielderoutfielder who playe\n",
      "  d from 1947 through 1953 in the allamerican girls professional baseball league\n",
      "1525\n",
      "\n",
      "* Natashia Williams                                  0.90086\n",
      "  natashia williamsblach born august 2 1978 is an american actress and former wonderbra camp\n",
      "  aign model who is perhaps best known for her role as shane\n",
      "5614\n",
      "\n",
      "* Gila Golan                                         0.90518\n",
      "  gila golan hebrew born 1940 is a polishborn israeli former fashion model and actressgolan \n",
      "  was born in krakw poland around 1940 her exact birthday is\n",
      "3524\n",
      "\n",
      "* Bette McLaurin                                     0.90751\n",
      "  bette mclaurin born c1929 is an africanamerican singer best known for her jazzinfluenced b\n",
      "  allad and rb performances in the 1950s two of her recordings i\n",
      "5086\n",
      "\n",
      "* Jane Jacobs (baseball)                             0.90880\n",
      "  jane jeanette jacobs badini born june 16 1924 is a former pitcher who played from 1944 thr\n",
      "  ough 1947 in the allamerican girls professional baseball league\n",
      "3014\n",
      "\n",
      "* Marie-Noelle Marquis                               0.91023\n",
      "  marienoelle marquis born january 29 1979 is a frenchcanadian actress she is 5 ft 7 in 170 \n",
      "  m tallat an early age she started performing\n",
      "5718\n",
      "\n",
      "* Derartu Tulu                                       0.91087\n",
      "  derartu tulu amharic born march 21 1972 in bekoji ethiopia is an ethiopian long distance t\n",
      "  rack road and marathon athletederartu grew up tending cattle in\n",
      "==========================================================\n",
      "Cluster 1    \n",
      "he:0.075 his:0.042 was:0.040 for:0.038 as:0.033 \n",
      "2728\n",
      "\n",
      "* Wilson McLean                                      0.94057\n",
      "  wilson mclean born 1937 is a scottish illustrator and artist he has illustrated primarily \n",
      "  in the field of advertising but has also provided cover art\n",
      "255\n",
      "\n",
      "* Vipin Sharma                                       0.94801\n",
      "  vipin sharma is an indian actor born in new delhi he is a graduate of national school of d\n",
      "  rama new delhi india and the canadian\n",
      "5255\n",
      "\n",
      "* Nicky Banger                                       0.95174\n",
      "  nicholas lee banger born 25 february 1971 is a retired english professional footballer he \n",
      "  is currently head of commercial operations with woking fcbanger was born\n",
      "4118\n",
      "\n",
      "* Billy Bingham                                      0.95206\n",
      "  william laurence billy bingham mbe born 5 august 1931 is a former international footballer\n",
      "   and football manager who now works as a scout for english\n",
      "2101\n",
      "\n",
      "* Wally Whitehurst                                   0.95285\n",
      "  walter richard whitehurst born april 11 1964 in shreveport louisiana is a former righthand\n",
      "  ed pitcher in major league baseball who played from 1989 to 1996\n",
      "3397\n",
      "\n",
      "* Sandro Petrone                                     0.95527\n",
      "  sandro petrone is a foreign war correspondent and anchorman for rai italian state radio an\n",
      "  d television currently working as editor for foreign news for tg2\n",
      "5283\n",
      "\n",
      "* Steve Bruce                                        0.95528\n",
      "  stephen roger steve bruce born 31 december 1960 is an english football manager and former \n",
      "  player who is currently the manager at hull city born\n",
      "2992\n",
      "\n",
      "* Peter Paret                                        0.95529\n",
      "  peter paret is a cultural and intellectual historian whose two principal areas of research\n",
      "   are war and the interaction of art and politics from 18th\n",
      "==========================================================\n"
     ]
    }
   ],
   "source": [
    "visualize_document_clusters(wiki, tf_idf, centroids[2], cluster_assignment[2], 2, map_index_to_word)"
   ]
  },
  {
   "cell_type": "markdown",
   "metadata": {},
   "source": [
    "Both clusters have mixed content, although clearly cluster 0 are all women and cluster 1 are all men:\n",
    "\n",
    "It would be better if we sub-divided into more categories. So let us use more clusters. How about `K=10`?"
   ]
  },
  {
   "cell_type": "code",
   "execution_count": 47,
   "metadata": {
    "scrolled": true
   },
   "outputs": [
    {
     "name": "stdout",
     "output_type": "stream",
     "text": [
      "==========================================================\n",
      "Cluster 0    \n",
      "she:0.181 her:0.126 was:0.043 for:0.039 as:0.033 \n",
      "5873\n",
      "\n",
      "* Bhama Srinivasan                                   0.88835\n",
      "  bhama srinivasan april 22 1935 is a mathematician known for her work in the representation\n",
      "   theory of finite groups her contributions were honored with the\n",
      "3075\n",
      "\n",
      "* Delores Brumfield                                  0.89388\n",
      "  delores brumfield white born may 26 1932 is a former utility infielderoutfielder who playe\n",
      "  d from 1947 through 1953 in the allamerican girls professional baseball league\n",
      "1525\n",
      "\n",
      "* Natashia Williams                                  0.89781\n",
      "  natashia williamsblach born august 2 1978 is an american actress and former wonderbra camp\n",
      "  aign model who is perhaps best known for her role as shane\n",
      "5614\n",
      "\n",
      "* Gila Golan                                         0.90040\n",
      "  gila golan hebrew born 1940 is a polishborn israeli former fashion model and actressgolan \n",
      "  was born in krakw poland around 1940 her exact birthday is\n",
      "5086\n",
      "\n",
      "* Jane Jacobs (baseball)                             0.90399\n",
      "  jane jeanette jacobs badini born june 16 1924 is a former pitcher who played from 1944 thr\n",
      "  ough 1947 in the allamerican girls professional baseball league\n",
      "3524\n",
      "\n",
      "* Bette McLaurin                                     0.90409\n",
      "  bette mclaurin born c1929 is an africanamerican singer best known for her jazzinfluenced b\n",
      "  allad and rb performances in the 1950s two of her recordings i\n",
      "5718\n",
      "\n",
      "* Derartu Tulu                                       0.90707\n",
      "  derartu tulu amharic born march 21 1972 in bekoji ethiopia is an ethiopian long distance t\n",
      "  rack road and marathon athletederartu grew up tending cattle in\n",
      "3260\n",
      "\n",
      "* Carole Maso                                        0.90739\n",
      "  carole maso is a contemporary american novelist and essayist known for her experimental po\n",
      "  etic and fragmentary narratives often called postmodern she received a ba in\n",
      "==========================================================\n",
      "Cluster 1    \n",
      "he:0.088 league:0.078 season:0.060 baseball:0.051 coach:0.050 \n",
      "2101\n",
      "\n",
      "* Wally Whitehurst                                   0.90524\n",
      "  walter richard whitehurst born april 11 1964 in shreveport louisiana is a former righthand\n",
      "  ed pitcher in major league baseball who played from 1989 to 1996\n",
      "4610\n",
      "\n",
      "* Sixto Lezcano                                      0.90576\n",
      "  sixto joaquin lezcano curras born november 28 1953 in arecibo puerto rico is a retired bas\n",
      "  eball player who played for 12 seasons as an outfielder\n",
      "3294\n",
      "\n",
      "* Joe Strong                                         0.90689\n",
      "  joseph benjamin strong born september 9 1962 in fairfield california is a former major lea\n",
      "  gue baseball pitcher who played for the florida marlins from 2000\n",
      "4094\n",
      "\n",
      "* Clyde Mashore                                      0.90856\n",
      "  clyde wayne mashore born may 29 1945 in concord california is a former major league baseba\n",
      "  ll outfielder who played in 241 games over five seasons\n",
      "287\n",
      "\n",
      "* Dom Zanni                                          0.90946\n",
      "  dominick thomas zanni born march 1 1932 in the bronx new york is a former professional bas\n",
      "  eball player a righthanded pitcher he pitched in 111\n",
      "2519\n",
      "\n",
      "* Alfonso Pulido                                     0.91016\n",
      "  alfonso pulido manzo born january 23 1957 in tierra blanca veracruz is a former major leag\n",
      "  ue baseball pitcher pulido played parts of three seasons in\n",
      "758\n",
      "\n",
      "* Choo Freeman                                       0.91535\n",
      "  raphael deseption choo freeman on october 20 1979 in pine bluff arkansas is a retired majo\n",
      "  r league baseball outfielderfreeman was an impressive football player in\n",
      "2876\n",
      "\n",
      "* John O'Donoghue (1960s pitcher)                    0.91767\n",
      "  john eugene odonoghue born october 7 1939 in st louis missouri is an american former major\n",
      "   league baseball lefthanded pitcher he was signed by the\n",
      "==========================================================\n",
      "Cluster 2    \n",
      "he:0.075 university:0.069 research:0.052 at:0.047 professor:0.042 \n",
      "678\n",
      "\n",
      "* Elijah Anderson                                    0.92509\n",
      "  elijah anderson is an american sociologist he holds the william k lanman jr professorship \n",
      "  in sociology at yale university where he teaches and directs the\n",
      "1895\n",
      "\n",
      "* Sal Restivo                                        0.92838\n",
      "  sal restivo born 1940 is a sociologistanthropologist he is a leading contributor to scienc\n",
      "  e studies and in particular to the sociology of mathematical knowledge his\n",
      "898\n",
      "\n",
      "* Stuart Henry (criminologist)                       0.93238\n",
      "  stuart henry is professor of criminal justice and director of the school of public affairs\n",
      "   san diego state university 2006 he has also been appointed\n",
      "5527\n",
      "\n",
      "* Daniel Berg (educator)                             0.93330\n",
      "  daniel berg is a scientist educator and was the fifteenth president of rensselaer polytech\n",
      "  nic institutehe was born on june 1 1929 in new york city\n",
      "474\n",
      "\n",
      "* Robert Pollack (biologist)                         0.93396\n",
      "  dr robert pollack is an american biologist who studies the intersections between science a\n",
      "  nd religion he currently works at columbia university where he serves as\n",
      "5276\n",
      "\n",
      "* Andrew B. Whinston                                 0.93501\n",
      "  andrew b whinston born march 6 1936 is an american economist and computer scientist he is \n",
      "  the hugh roy cullen centennial chair in business administration\n",
      "4188\n",
      "\n",
      "* Archie Brown                                       0.93523\n",
      "  archibald haworth brown cmg fba commonly known as archie brown born 10 may 1938 is a briti\n",
      "  sh political scientist and historian in 2005 he became\n",
      "5796\n",
      "\n",
      "* Sajeev John                                        0.93670\n",
      "  sajeev john born 1957 is a professor of physics at the university of toronto and canada re\n",
      "  search chair holderhe received his bachelors degree in physics\n",
      "==========================================================\n",
      "Cluster 3    \n",
      "he:0.095 football:0.069 league:0.062 club:0.061 his:0.057 \n",
      "2656\n",
      "\n",
      "* Tony Smith (footballer, born 1957)                 0.89297\n",
      "  anthony tony smith born 20 february 1957 is a former footballer who played as a central de\n",
      "  fender in the football league in the 1970s and\n",
      "5283\n",
      "\n",
      "* Steve Bruce                                        0.90494\n",
      "  stephen roger steve bruce born 31 december 1960 is an english football manager and former \n",
      "  player who is currently the manager at hull city born\n",
      "1952\n",
      "\n",
      "* Shane Hobbs                                        0.90966\n",
      "  shane hobbs born 30 april 1985 is a former professional footballer who played in the footb\n",
      "  all league for bristol rovers in 2003 and currently plays\n",
      "4118\n",
      "\n",
      "* Billy Bingham                                      0.91052\n",
      "  william laurence billy bingham mbe born 5 august 1931 is a former international footballer\n",
      "   and football manager who now works as a scout for english\n",
      "1523\n",
      "\n",
      "* Roy Keane                                          0.91080\n",
      "  royston maurice roy keane born 10 august 1971 is an irish football manager and former prof\n",
      "  essional football player he is the assistant manager of the\n",
      "3035\n",
      "\n",
      "* Steve Arnold (footballer, born 1951)               0.91354\n",
      "  stephen frank arnold born 5 january 1951 is an english former professional footballer who \n",
      "  played in the football league as a midfielder for crewe alexandra\n",
      "2087\n",
      "\n",
      "* Mel Charles                                        0.91579\n",
      "  melvyn mel charles born 14 may 1935 as melfyn charles is a welsh former international foot\n",
      "  baller he is the brother of john charles a legendary\n",
      "446\n",
      "\n",
      "* Ga%C3%ABl Clichy                                   0.91765\n",
      "  gal clichy french pronunciation al klii born 26 july 1985 is a french professional footbal\n",
      "  ler who plays for english club manchester city and the france\n",
      "==========================================================\n",
      "Cluster 4    \n",
      "he:0.057 his:0.045 with:0.035 on:0.034 for:0.034 \n",
      "3905\n",
      "\n",
      "* Graham Ord                                         0.94522\n",
      "  graham ord born 22 march 1961 is an english musician and songwriter he has garnered respec\n",
      "  t internationally as a fine musician and engaging communicator his\n",
      "1589\n",
      "\n",
      "* Mark Wilkinson (singer)                            0.94764\n",
      "  mark wilkinson singer born buckinghamshire england is an australian country singersongwrit\n",
      "  er whose lyrical depth gift for melody and impassioned delivery are quickly establishing h\n",
      "1055\n",
      "\n",
      "* Richard Warren (musician)                          0.94880\n",
      "  richard daniel warren born 3 june 1973 is a british musician songwriter and producerhe sig\n",
      "  ned his first record deal with heavenly records at the height\n",
      "5426\n",
      "\n",
      "* Stewart Levine                                     0.95124\n",
      "  stewart levine is an american record producer he has worked with such artists as the crusa\n",
      "  ders minnie riperton lionel richie simply red hugh masekela dr\n",
      "3323\n",
      "\n",
      "* Josh Wilson (musician)                             0.95582\n",
      "  joshua david josh wilson born november 14 1983 is a contemporary christian musician from e\n",
      "  l dorado arkansas he is best known for the radio singles\n",
      "3969\n",
      "\n",
      "* Gary Jarman                                        0.95654\n",
      "  gary john jarman born 20 october 1980 is a british multiinstrumentalist best known for bei\n",
      "  ng bassist and singer in the wakefield music group the cribsthe\n",
      "4604\n",
      "\n",
      "* Chris Berry                                        0.95669\n",
      "  chris berry is a master of both mbira thumb piano and the ngoma drum from the shona people\n",
      "   of southern africa he has earned the\n",
      "2122\n",
      "\n",
      "* Gary Dunham                                        0.95678\n",
      "  gary dunham born march 25 1951 is an american contemporary christian recording artist he h\n",
      "  as played professionally since the late 1960s in addition to his\n",
      "==========================================================\n",
      "Cluster 5    \n",
      "he:0.081 tour:0.051 his:0.048 world:0.046 at:0.045 \n",
      "5443\n",
      "\n",
      "* Jay Haas                                           0.91180\n",
      "  jay dean haas born december 2 1953 is an american professional golfer formerly of the pga \n",
      "  tour who now plays on the champions tourhaas was\n",
      "3190\n",
      "\n",
      "* Mark Hensby                                        0.91643\n",
      "  mark adam hensby born 29 june 1972 is an australian professional golfer he is known as the\n",
      "   forgotten man of australian golfhensby was born in\n",
      "4808\n",
      "\n",
      "* Andrew Buckle                                      0.91949\n",
      "  andrew nicholas buckle 24 september 1982 is an australian professional golferbuckle was bo\n",
      "  rn in brisbane queensland he had a promising amateur career including two wins\n",
      "1326\n",
      "\n",
      "* Gene Sauers                                        0.92007\n",
      "  gene craig sauers born august 22 1962 is an american professional golfer who has played on\n",
      "   the pga tour and currently plays on the champions\n",
      "4726\n",
      "\n",
      "* Mike Brisky                                        0.92243\n",
      "  michael charles brisky born may 28 1965 is an american professional golfer who played on t\n",
      "  he pga tour and the nationwide tourbrisky attended pan american\n",
      "1792\n",
      "\n",
      "* Alistair Presnell                                  0.92283\n",
      "  alistair presnell born 26 march 1979 is an australian professional golferpresnell was born\n",
      "   in melbourne victoria having won three amateur titles during 2003 he turned\n",
      "3449\n",
      "\n",
      "* Nick Dougherty                                     0.92290\n",
      "  nicholas dougherty born 24 may 1982 is an english professional golferdougherty was born in\n",
      "   bootle merseyside and attended queen elizabeths grammar school in blackburn lancashire\n",
      "4596\n",
      "\n",
      "* Greg Chalmers                                      0.92364\n",
      "  greg j chalmers born 11 october 1973 is an australian professional golfer who has played o\n",
      "  n both the european tour and the pga tourchalmers was\n",
      "==========================================================\n",
      "Cluster 6    \n",
      "art:0.151 museum:0.072 gallery:0.051 he:0.049 his:0.046 \n",
      "5872\n",
      "\n",
      "* Tom Moody (artist)                                 0.88092\n",
      "  tom moody is a visual artist critic and blogger based in new york city he began his career\n",
      "   as a painter using traditional materials but\n",
      "2203\n",
      "\n",
      "* Michael Hafftka                                    0.88116\n",
      "  michael hafftka is an american figurative expressionist painter living in new york city hi\n",
      "  s work is represented in the permanent collections of a number of\n",
      "3314\n",
      "\n",
      "* Burton Silverman                                   0.88720\n",
      "  burton silverman born 1928 is an american paintera 1949 graduate of columbia university si\n",
      "  lvermans work has concentrated on as he put it the landscape of\n",
      "2853\n",
      "\n",
      "* Charles Arnoldi                                    0.89113\n",
      "  charles arnoldi also known as chuck arnoldi and as charles arthur arnoldi is an american p\n",
      "  ainter sculptor and printmaker he was born april 10 1946\n",
      "2813\n",
      "\n",
      "* Steven Montgomery                                  0.89320\n",
      "  steven montgomery is an american artist born in detroit 1954 most often associated with la\n",
      "  rge scale ceramic sculpture suggesting industrial objects or mechanical detritus he\n",
      "1754\n",
      "\n",
      "* Molly Springfield                                  0.89977\n",
      "  molly springfield born 1977 is an american artist whose work includes laborintensive drawi\n",
      "  ngs of printed texts and visual explorations of the history of information technology\n",
      "4999\n",
      "\n",
      "* David Lund                                         0.90119\n",
      "  david lund born new york city 1925 is identified with the abstract expressionist painters \n",
      "  of the new york school his landscape oils done in the\n",
      "1104\n",
      "\n",
      "* Clement Hanami                                     0.90410\n",
      "  clement hanami is a japaneseamerican artist he grew up in the predominantly hispanic los a\n",
      "  ngeles california suburb of east los angeles just outside of downtown\n",
      "==========================================================\n",
      "Cluster 7    \n",
      "music:0.124 orchestra:0.110 he:0.066 symphony:0.061 opera:0.059 \n",
      "5636\n",
      "\n",
      "* David Oei                                          0.88056\n",
      "  david oei chinese name pinyin hung jln surname pronounced wee is hong kongborn american cl\n",
      "  assical pianist b 1950 in hong kongoei was born in hong\n",
      "2608\n",
      "\n",
      "* Daniel Meyer (conductor)                           0.88816\n",
      "  daniel meyer was born in cleveland ohio and has been conductor and musical director of sev\n",
      "  eral prominent american orchestrashe is a graduate of denison university\n",
      "5339\n",
      "\n",
      "* Xian Zhang                                         0.89002\n",
      "  xian zhang chinese born in 1973 in dandong liaoning is a chinese american conductoras a ch\n",
      "  ild zhang began to learn music with her mother on\n",
      "1367\n",
      "\n",
      "* Stefano Miceli                                     0.89997\n",
      "  stefano miceli born 14 april 1975 is an italian classical pianist and conductorhe made his\n",
      "   concert debut at the age of 11 then he moved\n",
      "5205\n",
      "\n",
      "* Robert Creech                                      0.90146\n",
      "  robert edward creech born 26 september 1928 victoria british columbia is a canadian french\n",
      "   hornist music educator and arts administrator he served as director of\n",
      "269\n",
      "\n",
      "* Garrett Byrnes                                     0.90660\n",
      "  garrett byrnes born december 30 1971 is an american composerbyrnes was born in bad kreuzna\n",
      "  ch germany while his father was stationed at the us army\n",
      "528\n",
      "\n",
      "* Reza Vali                                          0.91133\n",
      "  reza vali born 1952 in ghazvin is an iranian musician and composerreza vali was born in ir\n",
      "  an and studied at the tehran conservatory in 1972\n",
      "4497\n",
      "\n",
      "* Graeme Jennings (violinist)                        0.91206\n",
      "  graeme jennings born 1968 is an australian classical violinisthe studied at the queensland\n",
      "   conservatorium where he completed his bachelors degree in 1989 and later on\n",
      "==========================================================\n",
      "Cluster 8    \n",
      "he:0.079 was:0.054 as:0.040 for:0.037 his:0.033 \n",
      "2962\n",
      "\n",
      "* Doug Naysmith                                      0.94268\n",
      "  john douglas naysmith born 1 april 1941 is a british labour cooperative politician who was\n",
      "   the member of parliament mp for bristol north west from\n",
      "1954\n",
      "\n",
      "* Bill Clinton                                       0.94311\n",
      "  william jefferson bill clinton born william jefferson blythe iii august 19 1946 is an amer\n",
      "  ican politician who served from 1993 to 2001 as the 42nd\n",
      "5331\n",
      "\n",
      "* John Garamendi                                     0.94778\n",
      "  john raymond garamendi born january 24 1945 is an american rancher businessman politician \n",
      "  and member of the democratic party who has represented areas of northern\n",
      "5759\n",
      "\n",
      "* Steve May                                          0.94804\n",
      "  steve may born c 1972 is a former politician from arizona where he served in the arizona h\n",
      "  ouse of representatives he was openly gay when\n",
      "673\n",
      "\n",
      "* Levin H. Campbell                                  0.94902\n",
      "  levin hicks campbell born january 2 1927 is an american federal appellate judge on senior \n",
      "  status with the united states court of appeals for the\n",
      "5407\n",
      "\n",
      "* Jim Elder (politician)                             0.94989\n",
      "  james peter jim elder born 14 december 1950 is a former australian politician he was a mem\n",
      "  ber of the legislative assembly of queensland from 1989\n",
      "1191\n",
      "\n",
      "* William Robert Graham                              0.95001\n",
      "  william robert graham born june 15 1937 was chairman of president reagans general advisory\n",
      "   committee on arms control from 1982 to 1985 a deputy administrator\n",
      "5515\n",
      "\n",
      "* Jackson McDonald                                   0.95069\n",
      "  jackson c mcdonald born 1956 is a former united states diplomat and a career officer of th\n",
      "  e us foreign service he served as the ambassador\n",
      "==========================================================\n",
      "Cluster 9    \n",
      "film:0.120 he:0.060 for:0.047 television:0.046 series:0.042 \n",
      "5848\n",
      "\n",
      "* Robert Braiden                                     0.90570\n",
      "  robert braiden is an australian film director and writer born in sydney he grew up in moor\n",
      "  ebank liverpool new south wales and now currently lives\n",
      "5888\n",
      "\n",
      "* Paul Swadel                                        0.91027\n",
      "  paul swadel is a new zealand film director and producerhe has directed and produced many s\n",
      "  uccessful short films which have screened in competition at cannes\n",
      "2665\n",
      "\n",
      "* Bruce Redman                                       0.91450\n",
      "  dr bruce redman born 25 april 1960 is an australian film director film critic radio person\n",
      "  ality and media relations manager he currently works for the\n",
      "5428\n",
      "\n",
      "* Matthew Saville                                    0.91656\n",
      "  matthew saville is an australian television and film director who began his career working\n",
      "   as a titles designer for many australian television series several of\n",
      "2217\n",
      "\n",
      "* Hossein Shahabi                                    0.91684\n",
      "  hossein shahabi persian is an iranian film director screenwriter and film producer he belo\n",
      "  ngs is to the third generation of iranian new wave who was\n",
      "2816\n",
      "\n",
      "* Rapha%C3%ABl Nadjari                               0.91862\n",
      "  raphal nadjari hebrew born 1971 in marseille france is a french born israeli writer and di\n",
      "  rector for film and televisionin 1993 nadjari started working for\n",
      "5401\n",
      "\n",
      "* James Nesbitt                                      0.92211\n",
      "  james nesbitt born 15 january 1965 is an actor presenter and comedian from northern irelan\n",
      "  d born in ballymena county antrim nesbitt grew up in the\n",
      "3223\n",
      "\n",
      "* Brian Gilbert (director)                           0.92217\n",
      "  brian gilbert is a film director born in england he spent much of his childhood in austral\n",
      "  ia where he was a child actor of film\n",
      "==========================================================\n"
     ]
    }
   ],
   "source": [
    "k = 10\n",
    "visualize_document_clusters(wiki, tf_idf, centroids[k], cluster_assignment[k], k, map_index_to_word)"
   ]
  },
  {
   "cell_type": "markdown",
   "metadata": {},
   "source": [
    "We no longer have the clear split between men and women. Cluters 0 and 2 appear to be still mixed, but others are quite consistent in content.\n",
    "* Cluster 0: notable women\n",
    "* Cluster 1: baseball players\n",
    "* Cluster 2: researchers, professors\n",
    "* Cluster 3: football(soccer)\n",
    "* Cluster 4: musicians, singers, song writers\n",
    "* Cluster 5: golfers\n",
    "* Cluster 6: painters, scultpers, artists\n",
    "* Cluster 7: orchestral musicians, conductors\n",
    "* Cluster 8: politicians, political personel\n",
    "* Cluster 9: film directors|\n",
    "\n",
    "Clusters are now more pure, but some are qualitatively \"bigger\" than others. For instance, the category of scholars is more general than the category of film directors. Increasing the number of clusters may split larger clusters. Another way to look at the size of cluster is to count the number of articles in each cluster."
   ]
  },
  {
   "cell_type": "code",
   "execution_count": 48,
   "metadata": {},
   "outputs": [
    {
     "data": {
      "text/plain": [
       "array([ 872,  435,  642,  399, 1286,  346,  191,  170, 1231,  335])"
      ]
     },
     "execution_count": 48,
     "metadata": {},
     "output_type": "execute_result"
    }
   ],
   "source": [
    "np.bincount(cluster_assignment[10])"
   ]
  },
  {
   "cell_type": "markdown",
   "metadata": {},
   "source": [
    "**Quiz Question**. Which of the 10 clusters above contains the greatest number of articles?\n",
    "\n",
    "1. Cluster 0: notable women \n",
    "2. Cluster 4: musicians, singers, song writers (o)\n",
    "3. Cluster 5: golfers \n",
    "4. Cluster 7: orchestral musicians, conductors \n",
    "5. Cluster 9: film directors \n"
   ]
  },
  {
   "cell_type": "markdown",
   "metadata": {},
   "source": [
    "**Quiz Question**. Which of the 10 clusters contains the least number of articles?\n",
    "\n",
    "1. Cluster 2: researchers, professors\n",
    "2. Cluster 3: football(soccer)\n",
    "3. Cluster 6: painters, scultpers, artists\n",
    "4. Cluster 7: orchestral musicians, conductors (o)\n",
    "5. Cluster 8: politicians, political personel"
   ]
  },
  {
   "cell_type": "markdown",
   "metadata": {},
   "source": [
    "There appears to be at least some connection between the topical consistency of a cluster and the number of its member data points."
   ]
  },
  {
   "cell_type": "markdown",
   "metadata": {},
   "source": [
    "Let us visualize the case for K=25. For the sake of brevity, we do not print the content of documents. It turns out that the top words with highest TF-IDF weights in each cluster are representative of the cluster."
   ]
  },
  {
   "cell_type": "code",
   "execution_count": 45,
   "metadata": {
    "scrolled": false
   },
   "outputs": [
    {
     "name": "stdout",
     "output_type": "stream",
     "text": [
      "==========================================================\n",
      "Cluster 0    \n",
      "minister:0.154 was:0.068 she:0.066 he:0.063 party:0.056 \n",
      "==========================================================\n",
      "Cluster 1    \n",
      "album:0.144 released:0.071 her:0.064 on:0.052 music:0.049 \n",
      "==========================================================\n",
      "Cluster 2    \n",
      "art:0.112 design:0.068 he:0.047 his:0.046 museum:0.043 \n",
      "==========================================================\n",
      "Cluster 3    \n",
      "art:0.219 museum:0.129 gallery:0.123 he:0.055 at:0.050 \n",
      "==========================================================\n",
      "Cluster 4    \n",
      "he:0.098 league:0.068 football:0.067 season:0.061 club:0.060 \n",
      "==========================================================\n",
      "Cluster 5    \n",
      "published:0.064 book:0.060 novel:0.057 poetry:0.054 books:0.043 \n",
      "==========================================================\n",
      "Cluster 6    \n",
      "orchestra:0.131 music:0.106 opera:0.075 symphony:0.073 he:0.062 \n",
      "==========================================================\n",
      "Cluster 7    \n",
      "university:0.086 he:0.085 research:0.063 at:0.055 professor:0.054 \n",
      "==========================================================\n",
      "Cluster 8    \n",
      "he:0.060 black:0.060 his:0.045 band:0.036 with:0.031 \n",
      "==========================================================\n",
      "Cluster 9    \n",
      "dr:0.077 dna:0.058 hampikian:0.051 abbass:0.051 forensic:0.047 \n",
      "==========================================================\n",
      "Cluster 10    \n",
      "she:0.194 her:0.132 was:0.041 for:0.038 as:0.033 \n",
      "==========================================================\n",
      "Cluster 11    \n",
      "league:0.137 baseball:0.120 he:0.098 major:0.072 games:0.065 \n",
      "==========================================================\n",
      "Cluster 12    \n",
      "radio:0.108 show:0.077 he:0.075 on:0.057 for:0.048 \n",
      "==========================================================\n",
      "Cluster 13    \n",
      "he:0.062 his:0.039 for:0.035 as:0.032 has:0.028 \n",
      "==========================================================\n",
      "Cluster 14    \n",
      "he:0.076 as:0.047 was:0.045 served:0.038 chairman:0.036 \n",
      "==========================================================\n",
      "Cluster 15    \n",
      "ballet:0.346 dance:0.140 she:0.074 dancer:0.072 company:0.069 \n",
      "==========================================================\n",
      "Cluster 16    \n",
      "he:0.079 coach:0.049 team:0.046 his:0.042 was:0.041 \n",
      "==========================================================\n",
      "Cluster 17    \n",
      "film:0.113 he:0.064 for:0.046 television:0.041 as:0.041 \n",
      "==========================================================\n",
      "Cluster 18    \n",
      "he:0.059 was:0.057 his:0.040 that:0.038 on:0.030 \n",
      "==========================================================\n",
      "Cluster 19    \n",
      "million:0.078 he:0.045 for:0.039 was:0.038 as:0.031 \n",
      "==========================================================\n",
      "Cluster 20    \n",
      "law:0.106 he:0.077 district:0.050 was:0.047 court:0.045 \n",
      "==========================================================\n",
      "Cluster 21    \n",
      "music:0.073 he:0.062 band:0.060 with:0.049 his:0.043 \n",
      "==========================================================\n",
      "Cluster 22    \n",
      "he:0.087 party:0.075 election:0.074 was:0.066 as:0.043 \n",
      "==========================================================\n",
      "Cluster 23    \n",
      "hockey:0.242 nhl:0.110 season:0.080 ice:0.079 he:0.075 \n",
      "==========================================================\n",
      "Cluster 24    \n",
      "tour:0.317 pga:0.243 golf:0.125 he:0.117 his:0.083 \n",
      "==========================================================\n"
     ]
    }
   ],
   "source": [
    "visualize_document_clusters(wiki, tf_idf, centroids[25], cluster_assignment[25], 25,\n",
    "                            map_index_to_word, display_content=False) # turn off text for brevity"
   ]
  },
  {
   "cell_type": "markdown",
   "metadata": {
    "collapsed": true
   },
   "source": [
    "Looking at the representative examples and top words, we classify each cluster as follows. Notice the bolded items, which indicate the appearance of a new theme.\n",
    "* Cluster 0: **British labor party**\n",
    "* Cluster 1: **Bishops**\n",
    "* Cluster 2: **danish CEOs**\n",
    "* Cluster 3: baseball\n",
    "* Cluster 4: politicials\n",
    "* Cluster 5: **psychology researchers**\n",
    "* Cluster 6: **medical researchers**\n",
    "* Cluster 7: **republican politicians**\n",
    "* Cluster 8: football(soccer)\n",
    "* Cluster 9: **prime ministers**\n",
    "* Cluster 10: golfers\n",
    "* Cluster 11: coaches\n",
    "* Cluster 12: **lawers**\n",
    "* Cluster 13: researchers, professors\n",
    "* Cluster 14: writers\n",
    "* Cluster 15: artists, museaum workers\n",
    "* Cluster 16: film directors\n",
    "* Cluster 17: musicians\n",
    "* Cluster 18: **airforce commanders**\n",
    "* Cluster 19: orchestral musicians\n",
    "* Cluster 20: *unclear*\n",
    "* Cluster 21: *unclear*\n",
    "* Cluster 22: *unclear*\n",
    "* Cluster 23: politicians\n",
    "* Cluster 24: **hockey players**\n",
    "\n",
    "Indeed, increasing K achieved the desired effect of breaking up large clusters.  Depending on the application, this may or may not be preferable to the K=10 analysis.\n",
    "\n",
    "Let's take it to the extreme and set K=100. We have a suspicion that this value is too large. Let us look at the top words from each cluster:"
   ]
  },
  {
   "cell_type": "code",
   "execution_count": 46,
   "metadata": {
    "scrolled": false
   },
   "outputs": [
    {
     "name": "stdout",
     "output_type": "stream",
     "text": [
      "==========================================================\n",
      "Cluster 0    \n",
      "guitar:0.107 band:0.087 album:0.074 guitarist:0.058 song:0.044 \n",
      "==========================================================\n",
      "Cluster 1    \n",
      "south:0.106 australian:0.082 he:0.059 was:0.050 africa:0.049 \n",
      "==========================================================\n",
      "Cluster 2    \n",
      "book:0.067 he:0.048 published:0.046 his:0.041 novel:0.040 \n",
      "==========================================================\n",
      "Cluster 3    \n",
      "ballet:0.367 dancer:0.093 she:0.087 dance:0.067 choreographer:0.055 \n",
      "==========================================================\n",
      "Cluster 4    \n",
      "toronto:0.080 ontario:0.065 he:0.061 canadian:0.052 his:0.038 \n",
      "==========================================================\n",
      "Cluster 5    \n",
      "film:0.118 editing:0.068 for:0.058 films:0.055 he:0.044 \n",
      "==========================================================\n",
      "Cluster 6    \n",
      "was:0.063 he:0.061 were:0.042 for:0.042 that:0.041 \n",
      "==========================================================\n",
      "Cluster 7    \n",
      "racing:0.110 he:0.077 race:0.065 championship:0.062 poker:0.056 \n",
      "==========================================================\n",
      "Cluster 8    \n",
      "greek:0.093 he:0.088 athens:0.081 university:0.052 policy:0.050 \n",
      "==========================================================\n",
      "Cluster 9    \n",
      "opera:0.313 she:0.091 at:0.049 with:0.048 her:0.047 \n",
      "==========================================================\n",
      "Cluster 10    \n",
      "psychology:0.156 language:0.095 research:0.068 university:0.064 psychological:0.047 \n",
      "==========================================================\n",
      "Cluster 11    \n",
      "her:0.147 she:0.136 art:0.031 at:0.031 was:0.030 \n",
      "==========================================================\n",
      "Cluster 12    \n",
      "golf:0.278 tour:0.087 he:0.085 pga:0.084 amateur:0.082 \n",
      "==========================================================\n",
      "Cluster 13    \n",
      "rugby:0.224 he:0.082 for:0.071 wales:0.066 played:0.057 \n",
      "==========================================================\n",
      "Cluster 14    \n",
      "she:0.198 her:0.068 was:0.062 for:0.043 as:0.041 \n",
      "==========================================================\n",
      "Cluster 15    \n",
      "bush:0.084 clinton:0.080 president:0.054 he:0.045 for:0.043 \n",
      "==========================================================\n",
      "Cluster 16    \n",
      "coach:0.232 head:0.082 he:0.076 football:0.062 assistant:0.053 \n",
      "==========================================================\n",
      "Cluster 17    \n",
      "he:0.065 his:0.055 for:0.049 film:0.042 as:0.039 \n",
      "==========================================================\n",
      "Cluster 18    \n",
      "congress:0.103 he:0.073 indian:0.072 pradesh:0.071 rajasthan:0.062 \n",
      "==========================================================\n",
      "Cluster 19    \n",
      "he:0.063 columbia:0.048 energy:0.045 as:0.044 was:0.038 \n",
      "==========================================================\n",
      "Cluster 20    \n",
      "minister:0.123 he:0.088 was:0.066 party:0.055 election:0.053 \n",
      "==========================================================\n",
      "Cluster 21    \n",
      "music:0.140 he:0.072 his:0.045 with:0.040 at:0.039 \n",
      "==========================================================\n",
      "Cluster 22    \n",
      "he:0.085 served:0.056 as:0.052 air:0.052 ambassador:0.045 \n",
      "==========================================================\n",
      "Cluster 23    \n",
      "announcer:0.106 playbyplay:0.103 sports:0.101 he:0.066 radio:0.064 \n",
      "==========================================================\n",
      "Cluster 24    \n",
      "rock:0.077 he:0.049 his:0.046 records:0.045 with:0.045 \n",
      "==========================================================\n",
      "Cluster 25    \n",
      "he:0.077 cup:0.070 football:0.069 club:0.058 hurling:0.057 \n",
      "==========================================================\n",
      "Cluster 26    \n",
      "election:0.079 he:0.075 was:0.070 brooks:0.064 as:0.042 \n",
      "==========================================================\n",
      "Cluster 27    \n",
      "film:0.242 festival:0.064 films:0.063 he:0.052 his:0.041 \n",
      "==========================================================\n",
      "Cluster 28    \n",
      "mayor:0.151 he:0.070 council:0.066 city:0.063 was:0.058 \n",
      "==========================================================\n",
      "Cluster 29    \n",
      "orchestra:0.224 symphony:0.122 music:0.115 philharmonic:0.080 chamber:0.072 \n",
      "==========================================================\n",
      "Cluster 30    \n",
      "basketball:0.171 nba:0.111 points:0.087 he:0.081 player:0.064 \n",
      "==========================================================\n",
      "Cluster 31    \n",
      "philosophy:0.262 he:0.070 university:0.068 logic:0.064 science:0.059 \n",
      "==========================================================\n",
      "Cluster 32    \n",
      "episodes:0.126 episode:0.100 series:0.100 he:0.073 producer:0.068 \n",
      "==========================================================\n",
      "Cluster 33    \n",
      "hearst:0.216 gore:0.183 redfern:0.138 forsyth:0.128 randolph:0.110 \n",
      "==========================================================\n",
      "Cluster 34    \n",
      "software:0.089 microsoft:0.086 search:0.063 he:0.051 china:0.048 \n",
      "==========================================================\n",
      "Cluster 35    \n",
      "poetry:0.132 she:0.087 poems:0.068 published:0.064 her:0.061 \n",
      "==========================================================\n",
      "Cluster 36    \n",
      "she:0.135 bbc:0.068 for:0.060 news:0.057 her:0.053 \n",
      "==========================================================\n",
      "Cluster 37    \n",
      "he:0.055 that:0.052 was:0.051 military:0.041 his:0.038 \n",
      "==========================================================\n",
      "Cluster 38    \n",
      "party:0.093 he:0.089 election:0.070 was:0.070 manitoba:0.055 \n",
      "==========================================================\n",
      "Cluster 39    \n",
      "scottish:0.071 scotland:0.066 he:0.065 his:0.064 for:0.046 \n",
      "==========================================================\n",
      "Cluster 40    \n",
      "his:0.060 borges:0.054 he:0.053 for:0.053 awards:0.051 \n",
      "==========================================================\n",
      "Cluster 41    \n",
      "dan:0.094 he:0.072 korean:0.067 taekwondo:0.059 judo:0.057 \n",
      "==========================================================\n",
      "Cluster 42    \n",
      "he:0.081 civil:0.063 was:0.044 minister:0.040 government:0.040 \n",
      "==========================================================\n",
      "Cluster 43    \n",
      "abdullahi:0.198 salame:0.193 islamic:0.128 moonsighting:0.099 ulama:0.099 \n",
      "==========================================================\n",
      "Cluster 44    \n",
      "music:0.066 song:0.065 with:0.043 album:0.043 for:0.043 \n",
      "==========================================================\n",
      "Cluster 45    \n",
      "afl:0.138 football:0.133 australian:0.097 he:0.080 season:0.079 \n",
      "==========================================================\n",
      "Cluster 46    \n",
      "heinz:0.074 he:0.062 ski:0.048 investment:0.048 was:0.035 \n",
      "==========================================================\n",
      "Cluster 47    \n",
      "gay:0.085 he:0.075 tasmanian:0.057 tasmania:0.056 bisexual:0.051 \n",
      "==========================================================\n",
      "Cluster 48    \n",
      "he:0.074 was:0.059 court:0.051 justice:0.049 prison:0.046 \n",
      "==========================================================\n",
      "Cluster 49    \n",
      "jazz:0.219 he:0.066 with:0.063 music:0.059 band:0.041 \n",
      "==========================================================\n",
      "Cluster 50    \n",
      "research:0.116 artificial:0.097 intelligence:0.074 he:0.064 science:0.043 \n",
      "==========================================================\n",
      "Cluster 51    \n",
      "dance:0.214 de:0.056 company:0.050 ballet:0.049 he:0.045 \n",
      "==========================================================\n",
      "Cluster 52    \n",
      "art:0.176 museum:0.095 gallery:0.059 he:0.052 his:0.050 \n",
      "==========================================================\n",
      "Cluster 53    \n",
      "he:0.090 chess:0.052 his:0.048 was:0.041 at:0.031 \n",
      "==========================================================\n",
      "Cluster 54    \n",
      "rabbi:0.232 jewish:0.096 he:0.071 green:0.063 religious:0.056 \n",
      "==========================================================\n",
      "Cluster 55    \n",
      "he:0.078 engineering:0.076 research:0.065 science:0.062 university:0.059 \n",
      "==========================================================\n",
      "Cluster 56    \n",
      "university:0.107 he:0.093 economics:0.064 at:0.060 professor:0.058 \n",
      "==========================================================\n",
      "Cluster 57    \n",
      "she:0.170 her:0.122 actress:0.074 film:0.072 series:0.058 \n",
      "==========================================================\n",
      "Cluster 58    \n",
      "ireland:0.167 northern:0.133 belfast:0.121 he:0.078 was:0.069 \n",
      "==========================================================\n",
      "Cluster 59    \n",
      "he:0.063 university:0.047 research:0.039 has:0.035 at:0.035 \n",
      "==========================================================\n",
      "Cluster 60    \n",
      "he:0.117 league:0.114 season:0.076 his:0.065 for:0.063 \n",
      "==========================================================\n",
      "Cluster 61    \n",
      "he:0.085 theatre:0.053 actor:0.050 comedy:0.048 as:0.046 \n",
      "==========================================================\n",
      "Cluster 62    \n",
      "theatre:0.218 directed:0.099 icelandic:0.090 by:0.067 at:0.044 \n",
      "==========================================================\n",
      "Cluster 63    \n",
      "church:0.230 lds:0.219 mission:0.116 churchs:0.094 president:0.088 \n",
      "==========================================================\n",
      "Cluster 64    \n",
      "chinese:0.139 liu:0.081 fraud:0.069 chung:0.067 he:0.054 \n",
      "==========================================================\n",
      "Cluster 65    \n",
      "band:0.137 he:0.062 with:0.052 album:0.050 on:0.040 \n",
      "==========================================================\n",
      "Cluster 66    \n",
      "design:0.337 designer:0.085 graphic:0.076 art:0.047 ferrari:0.046 \n",
      "==========================================================\n",
      "Cluster 67    \n",
      "was:0.060 he:0.057 court:0.046 that:0.046 his:0.045 \n",
      "==========================================================\n",
      "Cluster 68    \n",
      "nfl:0.141 football:0.137 yards:0.126 he:0.081 for:0.061 \n",
      "==========================================================\n",
      "Cluster 69    \n",
      "radio:0.152 show:0.103 he:0.075 on:0.062 for:0.048 \n",
      "==========================================================\n",
      "Cluster 70    \n",
      "miss:0.315 she:0.156 pageant:0.152 usa:0.103 her:0.094 \n",
      "==========================================================\n",
      "Cluster 71    \n",
      "album:0.165 her:0.078 released:0.072 albums:0.054 on:0.053 \n",
      "==========================================================\n",
      "Cluster 72    \n",
      "photography:0.120 craven:0.085 tcherevkoff:0.079 vogue:0.065 his:0.064 \n",
      "==========================================================\n",
      "Cluster 73    \n",
      "he:0.075 governor:0.072 republican:0.066 senate:0.062 state:0.058 \n",
      "==========================================================\n",
      "Cluster 74    \n",
      "league:0.136 baseball:0.122 he:0.096 major:0.071 season:0.064 \n",
      "==========================================================\n",
      "Cluster 75    \n",
      "law:0.217 he:0.083 court:0.073 judge:0.067 from:0.053 \n",
      "==========================================================\n",
      "Cluster 76    \n",
      "piano:0.222 music:0.084 he:0.068 pianist:0.059 at:0.056 \n",
      "==========================================================\n",
      "Cluster 77    \n",
      "short:0.071 he:0.059 story:0.054 his:0.052 war:0.050 \n",
      "==========================================================\n",
      "Cluster 78    \n",
      "he:0.109 football:0.082 team:0.074 soccer:0.067 club:0.061 \n",
      "==========================================================\n",
      "Cluster 79    \n",
      "everest:0.110 ocean:0.097 mount:0.096 climbed:0.070 climb:0.068 \n",
      "==========================================================\n",
      "Cluster 80    \n",
      "kazakh:0.211 mussayev:0.158 kazakhstan:0.122 soviet:0.121 aliyev:0.098 \n",
      "==========================================================\n",
      "Cluster 81    \n",
      "prince:0.283 mosley:0.272 adesida:0.190 akure:0.143 agricultural:0.124 \n",
      "==========================================================\n",
      "Cluster 82    \n",
      "vienna:0.139 austrian:0.105 resetarits:0.096 kugler:0.091 der:0.090 \n",
      "==========================================================\n",
      "Cluster 83    \n",
      "privacy:0.103 guo:0.096 rights:0.092 duncan:0.088 human:0.083 \n",
      "==========================================================\n",
      "Cluster 84    \n",
      "detroit:0.133 kilpatrick:0.077 kerik:0.073 steadicam:0.061 ortiz:0.059 \n",
      "==========================================================\n",
      "Cluster 85    \n",
      "boxing:0.087 she:0.083 her:0.069 title:0.064 fight:0.059 \n",
      "==========================================================\n",
      "Cluster 86    \n",
      "tour:0.329 pga:0.237 he:0.111 golf:0.093 his:0.082 \n",
      "==========================================================\n",
      "Cluster 87    \n",
      "she:0.068 international:0.059 university:0.054 political:0.050 policy:0.043 \n",
      "==========================================================\n",
      "Cluster 88    \n",
      "mott:0.098 de:0.084 da:0.082 paulo:0.077 brazil:0.067 \n",
      "==========================================================\n",
      "Cluster 89    \n",
      "championships:0.099 world:0.066 at:0.066 olympics:0.061 he:0.058 \n",
      "==========================================================\n",
      "Cluster 90    \n",
      "assembly:0.168 rivera:0.118 bronx:0.094 state:0.092 york:0.079 \n",
      "==========================================================\n",
      "Cluster 91    \n",
      "bible:0.079 he:0.076 church:0.075 theology:0.060 christian:0.053 \n",
      "==========================================================\n",
      "Cluster 92    \n",
      "bishop:0.129 church:0.113 he:0.095 was:0.059 ordained:0.057 \n",
      "==========================================================\n",
      "Cluster 93    \n",
      "she:0.231 her:0.191 was:0.045 with:0.040 for:0.036 \n",
      "==========================================================\n",
      "Cluster 94    \n",
      "dangoor:0.118 stern:0.109 fiction:0.100 he:0.090 science:0.082 \n",
      "==========================================================\n",
      "Cluster 95    \n",
      "he:0.067 for:0.038 was:0.038 as:0.037 on:0.030 \n",
      "==========================================================\n",
      "Cluster 96    \n",
      "cricket:0.099 played:0.078 he:0.078 firstclass:0.078 match:0.077 \n",
      "==========================================================\n",
      "Cluster 97    \n",
      "hockey:0.257 nhl:0.117 season:0.090 ice:0.089 he:0.076 \n",
      "==========================================================\n",
      "Cluster 98    \n",
      "campaign:0.117 strategy:0.061 solmonese:0.052 joe:0.052 political:0.049 \n",
      "==========================================================\n",
      "Cluster 99    \n",
      "jonny:0.067 he:0.064 shrier:0.061 magazine:0.052 custom:0.043 \n",
      "==========================================================\n"
     ]
    }
   ],
   "source": [
    "k=100\n",
    "visualize_document_clusters(wiki, tf_idf, centroids[k], cluster_assignment[k], k,\n",
    "                            map_index_to_word, display_content=False)\n",
    "# turn off text for brevity -- turn it on if you are curious ;)"
   ]
  },
  {
   "cell_type": "markdown",
   "metadata": {},
   "source": [
    "**A high value of K encourages pure clusters, but we cannot keep increasing K. For large enough K, related documents end up going to different clusters.**\n",
    "\n",
    "That said, the result for K=100 is not entirely bad. After all, it gives us separate clusters for such categories as Scotland, Brazil, LGBT, computer science and the Mormon Church. If we set K somewhere between 25 and 100, we should be able to avoid breaking up clusters while discovering new ones.\n",
    "\n",
    "Also, we should ask ourselves how much **granularity** we want in our clustering. If we wanted a rough sketch of Wikipedia, we don't want too detailed clusters. On the other hand, having many clusters can be valuable when we are zooming into a certain part of Wikipedia.\n",
    "\n",
    "**There is no golden rule for choosing K. It all depends on the particular application and domain we are in.**\n",
    "\n",
    "Another heuristic people use that does not rely on so much visualization, which can be hard in many applications (including here!) is as follows.  Track heterogeneity versus K and look for the \"elbow\" of the curve where the heterogeneity decrease rapidly before this value of K, but then only gradually for larger values of K.  This naturally trades off between trying to minimize heterogeneity, but reduce model complexity.  In the heterogeneity versus K plot made above, we did not yet really see a flattening out of the heterogeneity, which might indicate that indeed K=100 is \"reasonable\" and we only see real overfitting for larger values of K (which are even harder to visualize using the methods we attempted above.)"
   ]
  },
  {
   "cell_type": "markdown",
   "metadata": {
    "collapsed": true
   },
   "source": [
    "**Quiz Question**. Another sign of too large K is having lots of small clusters. Look at the distribution of cluster sizes (by number of member data points). How many of the 100 clusters have fewer than 44 articles, i.e. 0.004% of the dataset?"
   ]
  },
  {
   "cell_type": "code",
   "execution_count": 47,
   "metadata": {},
   "outputs": [
    {
     "data": {
      "text/plain": [
       "53"
      ]
     },
     "execution_count": 47,
     "metadata": {},
     "output_type": "execute_result"
    }
   ],
   "source": [
    "np.sum(np.bincount(cluster_assignment[100]) < 44)"
   ]
  },
  {
   "cell_type": "markdown",
   "metadata": {},
   "source": [
    "Keep in mind though that tiny clusters aren't necessarily bad. A tiny cluster of documents that really look like each others is definitely preferable to a medium-sized cluster of documents with mixed content. However, having too few articles in a cluster may cause overfitting by reading too much into limited pool of training data."
   ]
  }
 ],
 "metadata": {
  "kernelspec": {
   "display_name": "Python 3",
   "language": "python",
   "name": "python3"
  },
  "language_info": {
   "codemirror_mode": {
    "name": "ipython",
    "version": 3
   },
   "file_extension": ".py",
   "mimetype": "text/x-python",
   "name": "python",
   "nbconvert_exporter": "python",
   "pygments_lexer": "ipython3",
   "version": "3.7.1"
  }
 },
 "nbformat": 4,
 "nbformat_minor": 1
}
